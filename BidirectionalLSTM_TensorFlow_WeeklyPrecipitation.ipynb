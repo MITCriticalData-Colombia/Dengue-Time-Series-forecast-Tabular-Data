{
 "cells": [
  {
   "cell_type": "code",
   "execution_count": 1,
   "id": "8da86ec5",
   "metadata": {
    "id": "8da86ec5"
   },
   "outputs": [],
   "source": [
    "import pandas as pd\n",
    "from sklearn import preprocessing\n",
    "import tensorflow as tf\n",
    "from tensorflow import keras\n",
    "from tensorflow.keras import Sequential, layers, callbacks\n",
    "from tensorflow.keras.layers import Dense, LSTM, Dropout, GRU, Bidirectional\n",
    "import numpy as np\n",
    "\n",
    "import matplotlib.pyplot as plt"
   ]
  },
  {
   "cell_type": "code",
   "execution_count": 2,
   "id": "xL6Y-IS3ksaQ",
   "metadata": {
    "colab": {
     "base_uri": "https://localhost:8080/"
    },
    "executionInfo": {
     "elapsed": 20439,
     "status": "ok",
     "timestamp": 1625199664265,
     "user": {
      "displayName": "DAVID RESTREPO",
      "photoUrl": "https://lh3.googleusercontent.com/a-/AOh14GgqxItBQRJ0dDzIdCZM0BMuA0KeTKTlKRNGMApY=s64",
      "userId": "09638303782015555303"
     },
     "user_tz": 300
    },
    "id": "xL6Y-IS3ksaQ",
    "outputId": "679a7195-dfbd-4011-fc23-f2ab6b9309f3"
   },
   "outputs": [
    {
     "data": {
      "text/plain": [
       "\"\\n#connect with drive\\nfrom google.colab import drive\\ndrive.mount('/content/drive')\\n\""
      ]
     },
     "execution_count": 2,
     "metadata": {},
     "output_type": "execute_result"
    }
   ],
   "source": [
    "\"\"\"\n",
    "#connect with drive\n",
    "from google.colab import drive\n",
    "drive.mount('/content/drive')\n",
    "\"\"\""
   ]
  },
  {
   "cell_type": "code",
   "execution_count": 3,
   "id": "p7MwJk2JksoL",
   "metadata": {
    "id": "p7MwJk2JksoL"
   },
   "outputs": [
    {
     "data": {
      "text/plain": [
       "\"\\n# Path to data:\\n# David's path\\npath = '/content/drive/MyDrive/Dengue_GIS_Visualization/DengueData/'\\n# Dana's path\\n#path='/content/drive/MyDrive/Dengue_GIS Visualization/Dengue_GIS_Visualization/DengueData/'\\n\""
      ]
     },
     "execution_count": 3,
     "metadata": {},
     "output_type": "execute_result"
    }
   ],
   "source": [
    "\"\"\"\n",
    "# Path to data:\n",
    "# David's path\n",
    "path = '/content/drive/MyDrive/Dengue_GIS_Visualization/DengueData/'\n",
    "# Dana's path\n",
    "#path='/content/drive/MyDrive/Dengue_GIS Visualization/Dengue_GIS_Visualization/DengueData/'\n",
    "\"\"\""
   ]
  },
  {
   "cell_type": "code",
   "execution_count": 4,
   "id": "lxt7_uXJKXrK",
   "metadata": {
    "colab": {
     "base_uri": "https://localhost:8080/",
     "height": 609
    },
    "executionInfo": {
     "elapsed": 1424,
     "status": "ok",
     "timestamp": 1625199665685,
     "user": {
      "displayName": "DAVID RESTREPO",
      "photoUrl": "https://lh3.googleusercontent.com/a-/AOh14GgqxItBQRJ0dDzIdCZM0BMuA0KeTKTlKRNGMApY=s64",
      "userId": "09638303782015555303"
     },
     "user_tz": 300
    },
    "id": "lxt7_uXJKXrK",
    "outputId": "56ad3aa7-24ca-4dbd-da49-53759e220b67"
   },
   "outputs": [
    {
     "data": {
      "text/html": [
       "<div>\n",
       "<style scoped>\n",
       "    .dataframe tbody tr th:only-of-type {\n",
       "        vertical-align: middle;\n",
       "    }\n",
       "\n",
       "    .dataframe tbody tr th {\n",
       "        vertical-align: top;\n",
       "    }\n",
       "\n",
       "    .dataframe thead th {\n",
       "        text-align: right;\n",
       "    }\n",
       "</style>\n",
       "<table border=\"1\" class=\"dataframe\">\n",
       "  <thead>\n",
       "    <tr style=\"text-align: right;\">\n",
       "      <th></th>\n",
       "      <th>cases_medellin</th>\n",
       "      <th>DATA</th>\n",
       "      <th>YEAR</th>\n",
       "      <th>YearWeek</th>\n",
       "      <th>LastDayWeek</th>\n",
       "      <th>MONTH</th>\n",
       "      <th>temperature_medellin</th>\n",
       "      <th>percipitation_medellin</th>\n",
       "      <th>percipitation_medellin_rural</th>\n",
       "      <th>percipitation_medellin_urbano</th>\n",
       "    </tr>\n",
       "  </thead>\n",
       "  <tbody>\n",
       "    <tr>\n",
       "      <th>0</th>\n",
       "      <td>1</td>\n",
       "      <td>['2007', 'w01']</td>\n",
       "      <td>2007</td>\n",
       "      <td>200701</td>\n",
       "      <td>2007-01-06</td>\n",
       "      <td>1</td>\n",
       "      <td>21.009283</td>\n",
       "      <td>13.096688</td>\n",
       "      <td>14.097693</td>\n",
       "      <td>12.628933</td>\n",
       "    </tr>\n",
       "    <tr>\n",
       "      <th>1</th>\n",
       "      <td>0</td>\n",
       "      <td>['2007', 'w02']</td>\n",
       "      <td>2007</td>\n",
       "      <td>200702</td>\n",
       "      <td>2007-01-13</td>\n",
       "      <td>1</td>\n",
       "      <td>21.009283</td>\n",
       "      <td>8.437044</td>\n",
       "      <td>6.910390</td>\n",
       "      <td>9.067214</td>\n",
       "    </tr>\n",
       "    <tr>\n",
       "      <th>2</th>\n",
       "      <td>0</td>\n",
       "      <td>['2007', 'w03']</td>\n",
       "      <td>2007</td>\n",
       "      <td>200703</td>\n",
       "      <td>2007-01-20</td>\n",
       "      <td>1</td>\n",
       "      <td>21.009283</td>\n",
       "      <td>19.373165</td>\n",
       "      <td>21.616968</td>\n",
       "      <td>18.406665</td>\n",
       "    </tr>\n",
       "    <tr>\n",
       "      <th>3</th>\n",
       "      <td>0</td>\n",
       "      <td>['2007', 'w04']</td>\n",
       "      <td>2007</td>\n",
       "      <td>200704</td>\n",
       "      <td>2007-01-27</td>\n",
       "      <td>1</td>\n",
       "      <td>21.009283</td>\n",
       "      <td>0.000000</td>\n",
       "      <td>0.000000</td>\n",
       "      <td>0.000000</td>\n",
       "    </tr>\n",
       "    <tr>\n",
       "      <th>4</th>\n",
       "      <td>0</td>\n",
       "      <td>['2007', 'w05']</td>\n",
       "      <td>2007</td>\n",
       "      <td>200705</td>\n",
       "      <td>2007-02-03</td>\n",
       "      <td>2</td>\n",
       "      <td>20.982925</td>\n",
       "      <td>3.725206</td>\n",
       "      <td>3.144225</td>\n",
       "      <td>3.901021</td>\n",
       "    </tr>\n",
       "    <tr>\n",
       "      <th>...</th>\n",
       "      <td>...</td>\n",
       "      <td>...</td>\n",
       "      <td>...</td>\n",
       "      <td>...</td>\n",
       "      <td>...</td>\n",
       "      <td>...</td>\n",
       "      <td>...</td>\n",
       "      <td>...</td>\n",
       "      <td>...</td>\n",
       "      <td>...</td>\n",
       "    </tr>\n",
       "    <tr>\n",
       "      <th>619</th>\n",
       "      <td>28</td>\n",
       "      <td>['2018', 'w48']</td>\n",
       "      <td>2018</td>\n",
       "      <td>201848</td>\n",
       "      <td>2018-12-01</td>\n",
       "      <td>12</td>\n",
       "      <td>20.936353</td>\n",
       "      <td>8.916642</td>\n",
       "      <td>8.656351</td>\n",
       "      <td>9.114419</td>\n",
       "    </tr>\n",
       "    <tr>\n",
       "      <th>620</th>\n",
       "      <td>12</td>\n",
       "      <td>['2018', 'w49']</td>\n",
       "      <td>2018</td>\n",
       "      <td>201849</td>\n",
       "      <td>2018-12-08</td>\n",
       "      <td>12</td>\n",
       "      <td>20.936353</td>\n",
       "      <td>17.006086</td>\n",
       "      <td>16.076869</td>\n",
       "      <td>17.334870</td>\n",
       "    </tr>\n",
       "    <tr>\n",
       "      <th>621</th>\n",
       "      <td>27</td>\n",
       "      <td>['2018', 'w50']</td>\n",
       "      <td>2018</td>\n",
       "      <td>201850</td>\n",
       "      <td>2018-12-15</td>\n",
       "      <td>12</td>\n",
       "      <td>20.936353</td>\n",
       "      <td>5.673248</td>\n",
       "      <td>5.388778</td>\n",
       "      <td>5.794555</td>\n",
       "    </tr>\n",
       "    <tr>\n",
       "      <th>622</th>\n",
       "      <td>17</td>\n",
       "      <td>['2018', 'w51']</td>\n",
       "      <td>2018</td>\n",
       "      <td>201851</td>\n",
       "      <td>2018-12-22</td>\n",
       "      <td>12</td>\n",
       "      <td>20.936353</td>\n",
       "      <td>2.785103</td>\n",
       "      <td>2.708024</td>\n",
       "      <td>2.810241</td>\n",
       "    </tr>\n",
       "    <tr>\n",
       "      <th>623</th>\n",
       "      <td>17</td>\n",
       "      <td>['2018', 'w52']</td>\n",
       "      <td>2018</td>\n",
       "      <td>201852</td>\n",
       "      <td>2018-12-29</td>\n",
       "      <td>12</td>\n",
       "      <td>20.936353</td>\n",
       "      <td>0.000000</td>\n",
       "      <td>0.000000</td>\n",
       "      <td>0.000000</td>\n",
       "    </tr>\n",
       "  </tbody>\n",
       "</table>\n",
       "<p>624 rows × 10 columns</p>\n",
       "</div>"
      ],
      "text/plain": [
       "     cases_medellin             DATA  YEAR  YearWeek LastDayWeek  MONTH  \\\n",
       "0                 1  ['2007', 'w01']  2007    200701  2007-01-06      1   \n",
       "1                 0  ['2007', 'w02']  2007    200702  2007-01-13      1   \n",
       "2                 0  ['2007', 'w03']  2007    200703  2007-01-20      1   \n",
       "3                 0  ['2007', 'w04']  2007    200704  2007-01-27      1   \n",
       "4                 0  ['2007', 'w05']  2007    200705  2007-02-03      2   \n",
       "..              ...              ...   ...       ...         ...    ...   \n",
       "619              28  ['2018', 'w48']  2018    201848  2018-12-01     12   \n",
       "620              12  ['2018', 'w49']  2018    201849  2018-12-08     12   \n",
       "621              27  ['2018', 'w50']  2018    201850  2018-12-15     12   \n",
       "622              17  ['2018', 'w51']  2018    201851  2018-12-22     12   \n",
       "623              17  ['2018', 'w52']  2018    201852  2018-12-29     12   \n",
       "\n",
       "     temperature_medellin  percipitation_medellin  \\\n",
       "0               21.009283               13.096688   \n",
       "1               21.009283                8.437044   \n",
       "2               21.009283               19.373165   \n",
       "3               21.009283                0.000000   \n",
       "4               20.982925                3.725206   \n",
       "..                    ...                     ...   \n",
       "619             20.936353                8.916642   \n",
       "620             20.936353               17.006086   \n",
       "621             20.936353                5.673248   \n",
       "622             20.936353                2.785103   \n",
       "623             20.936353                0.000000   \n",
       "\n",
       "     percipitation_medellin_rural  percipitation_medellin_urbano  \n",
       "0                       14.097693                      12.628933  \n",
       "1                        6.910390                       9.067214  \n",
       "2                       21.616968                      18.406665  \n",
       "3                        0.000000                       0.000000  \n",
       "4                        3.144225                       3.901021  \n",
       "..                            ...                            ...  \n",
       "619                      8.656351                       9.114419  \n",
       "620                     16.076869                      17.334870  \n",
       "621                      5.388778                       5.794555  \n",
       "622                      2.708024                       2.810241  \n",
       "623                      0.000000                       0.000000  \n",
       "\n",
       "[624 rows x 10 columns]"
      ]
     },
     "execution_count": 4,
     "metadata": {},
     "output_type": "execute_result"
    }
   ],
   "source": [
    "# Read Data\n",
    "merge_cases_temp_precip = pd.read_csv('Data/merge_cases_temperature_WeeklyPrecipitation_timeseries.csv')\n",
    "# Remove extra column\n",
    "merge_cases_temp_precip = merge_cases_temp_precip.drop('Unnamed: 0', 1)\n",
    "merge_cases_temp_precip.LastDayWeek = pd.to_datetime(merge_cases_temp_precip.LastDayWeek)\n",
    "merge_cases_temp_precip"
   ]
  },
  {
   "cell_type": "markdown",
   "id": "JDVHbhn9zGhb",
   "metadata": {
    "id": "JDVHbhn9zGhb"
   },
   "source": [
    "# Time Series"
   ]
  },
  {
   "cell_type": "markdown",
   "id": "zxNDtkPwhKJt",
   "metadata": {
    "id": "zxNDtkPwhKJt"
   },
   "source": [
    "## Data visualization"
   ]
  },
  {
   "cell_type": "code",
   "execution_count": 5,
   "id": "6d55f16d",
   "metadata": {
    "colab": {
     "base_uri": "https://localhost:8080/",
     "height": 497
    },
    "executionInfo": {
     "elapsed": 404,
     "status": "ok",
     "timestamp": 1625199666087,
     "user": {
      "displayName": "DAVID RESTREPO",
      "photoUrl": "https://lh3.googleusercontent.com/a-/AOh14GgqxItBQRJ0dDzIdCZM0BMuA0KeTKTlKRNGMApY=s64",
      "userId": "09638303782015555303"
     },
     "user_tz": 300
    },
    "id": "6d55f16d",
    "outputId": "72e49b0a-37eb-4fc0-bf7c-26f0aa53bcef"
   },
   "outputs": [
    {
     "data": {
      "image/png": "[encoded data removed]",
      "text/plain": [
       "<Figure size 864x576 with 1 Axes>"
      ]
     },
     "metadata": {
      "needs_background": "light"
     },
     "output_type": "display_data"
    }
   ],
   "source": [
    "# Dengue cases in time\n",
    "def timeseries (x_axis, y_axis, x_label):\n",
    "    plt.figure(figsize = (12, 8))\n",
    "    plt.plot(x_axis, y_axis, color ='black')\n",
    "    plt.xlabel(x_label) \n",
    "    plt.ylabel('Dengue Cases')\n",
    "\n",
    "timeseries(merge_cases_temp_precip['LastDayWeek'], merge_cases_temp_precip['cases_medellin'], 'cases by Week')"
   ]
  },
  {
   "cell_type": "markdown",
   "id": "3be7476a",
   "metadata": {
    "id": "3be7476a"
   },
   "source": [
    "## DataSet"
   ]
  },
  {
   "cell_type": "code",
   "execution_count": 6,
   "id": "b3934515",
   "metadata": {
    "colab": {
     "base_uri": "https://localhost:8080/",
     "height": 450
    },
    "executionInfo": {
     "elapsed": 5,
     "status": "ok",
     "timestamp": 1625199666088,
     "user": {
      "displayName": "DAVID RESTREPO",
      "photoUrl": "https://lh3.googleusercontent.com/a-/AOh14GgqxItBQRJ0dDzIdCZM0BMuA0KeTKTlKRNGMApY=s64",
      "userId": "09638303782015555303"
     },
     "user_tz": 300
    },
    "id": "b3934515",
    "outputId": "393f0b4a-f13e-41c8-a99a-e1f049028d1d"
   },
   "outputs": [
    {
     "data": {
      "text/html": [
       "<div>\n",
       "<style scoped>\n",
       "    .dataframe tbody tr th:only-of-type {\n",
       "        vertical-align: middle;\n",
       "    }\n",
       "\n",
       "    .dataframe tbody tr th {\n",
       "        vertical-align: top;\n",
       "    }\n",
       "\n",
       "    .dataframe thead th {\n",
       "        text-align: right;\n",
       "    }\n",
       "</style>\n",
       "<table border=\"1\" class=\"dataframe\">\n",
       "  <thead>\n",
       "    <tr style=\"text-align: right;\">\n",
       "      <th></th>\n",
       "      <th>temperature_medellin</th>\n",
       "      <th>percipitation_medellin</th>\n",
       "      <th>cases_medellin</th>\n",
       "    </tr>\n",
       "    <tr>\n",
       "      <th>LastDayWeek</th>\n",
       "      <th></th>\n",
       "      <th></th>\n",
       "      <th></th>\n",
       "    </tr>\n",
       "  </thead>\n",
       "  <tbody>\n",
       "    <tr>\n",
       "      <th>2007-01-06</th>\n",
       "      <td>21.009283</td>\n",
       "      <td>13.096688</td>\n",
       "      <td>1</td>\n",
       "    </tr>\n",
       "    <tr>\n",
       "      <th>2007-01-13</th>\n",
       "      <td>21.009283</td>\n",
       "      <td>8.437044</td>\n",
       "      <td>0</td>\n",
       "    </tr>\n",
       "    <tr>\n",
       "      <th>2007-01-20</th>\n",
       "      <td>21.009283</td>\n",
       "      <td>19.373165</td>\n",
       "      <td>0</td>\n",
       "    </tr>\n",
       "    <tr>\n",
       "      <th>2007-01-27</th>\n",
       "      <td>21.009283</td>\n",
       "      <td>0.000000</td>\n",
       "      <td>0</td>\n",
       "    </tr>\n",
       "    <tr>\n",
       "      <th>2007-02-03</th>\n",
       "      <td>20.982925</td>\n",
       "      <td>3.725206</td>\n",
       "      <td>0</td>\n",
       "    </tr>\n",
       "    <tr>\n",
       "      <th>...</th>\n",
       "      <td>...</td>\n",
       "      <td>...</td>\n",
       "      <td>...</td>\n",
       "    </tr>\n",
       "    <tr>\n",
       "      <th>2018-12-01</th>\n",
       "      <td>20.936353</td>\n",
       "      <td>8.916642</td>\n",
       "      <td>28</td>\n",
       "    </tr>\n",
       "    <tr>\n",
       "      <th>2018-12-08</th>\n",
       "      <td>20.936353</td>\n",
       "      <td>17.006086</td>\n",
       "      <td>12</td>\n",
       "    </tr>\n",
       "    <tr>\n",
       "      <th>2018-12-15</th>\n",
       "      <td>20.936353</td>\n",
       "      <td>5.673248</td>\n",
       "      <td>27</td>\n",
       "    </tr>\n",
       "    <tr>\n",
       "      <th>2018-12-22</th>\n",
       "      <td>20.936353</td>\n",
       "      <td>2.785103</td>\n",
       "      <td>17</td>\n",
       "    </tr>\n",
       "    <tr>\n",
       "      <th>2018-12-29</th>\n",
       "      <td>20.936353</td>\n",
       "      <td>0.000000</td>\n",
       "      <td>17</td>\n",
       "    </tr>\n",
       "  </tbody>\n",
       "</table>\n",
       "<p>624 rows × 3 columns</p>\n",
       "</div>"
      ],
      "text/plain": [
       "             temperature_medellin  percipitation_medellin  cases_medellin\n",
       "LastDayWeek                                                              \n",
       "2007-01-06              21.009283               13.096688               1\n",
       "2007-01-13              21.009283                8.437044               0\n",
       "2007-01-20              21.009283               19.373165               0\n",
       "2007-01-27              21.009283                0.000000               0\n",
       "2007-02-03              20.982925                3.725206               0\n",
       "...                           ...                     ...             ...\n",
       "2018-12-01              20.936353                8.916642              28\n",
       "2018-12-08              20.936353               17.006086              12\n",
       "2018-12-15              20.936353                5.673248              27\n",
       "2018-12-22              20.936353                2.785103              17\n",
       "2018-12-29              20.936353                0.000000              17\n",
       "\n",
       "[624 rows x 3 columns]"
      ]
     },
     "execution_count": 6,
     "metadata": {},
     "output_type": "execute_result"
    }
   ],
   "source": [
    "dataset = merge_cases_temp_precip[['temperature_medellin','percipitation_medellin','cases_medellin']]\n",
    "dataset.index = merge_cases_temp_precip.LastDayWeek\n",
    "dataset  #DF"
   ]
  },
  {
   "cell_type": "markdown",
   "id": "JeddvRFhkTnY",
   "metadata": {
    "id": "JeddvRFhkTnY"
   },
   "source": [
    "# Prepare data to supervised learning time series"
   ]
  },
  {
   "cell_type": "markdown",
   "id": "LFsBjJYWhZaQ",
   "metadata": {
    "id": "LFsBjJYWhZaQ"
   },
   "source": [
    "we will use:\n",
    "* data: is the dataframe in our case (Dengue Cases, Precipitation and Temperature)\n",
    "* n_in: is the number of lag weeks in the past (length of window)\n",
    "\n",
    "The heart of this \"series_to_supervised\" function is the <a href=\"https://pandas.pydata.org/pandas-docs/stable/reference/api/pandas.DataFrame.shift.html\">shift</a> fuction of pandas\n",
    "\n",
    "This function gets as input the number of periods(in this case the number of weeks represented as rows up or down in the dataframe) to move the columns of a dataframe.\n",
    "E.g. \n",
    "* If we have merge_cases_temp_precip['cases_medellin'].shift(1) all the rows of column cases_medellin will move one row down\n",
    "* If we have merge_cases_temp_precip['cases_medellin'].shift(-1) all the rows of column cases_medellin will move one row up\n"
   ]
  },
  {
   "cell_type": "code",
   "execution_count": 7,
   "id": "BH5JesTNkW1V",
   "metadata": {
    "id": "BH5JesTNkW1V"
   },
   "outputs": [],
   "source": [
    "# prepare data for lstm\n",
    "from pandas import read_csv\n",
    "from pandas import DataFrame\n",
    "from pandas import concat\n",
    "from sklearn.preprocessing import MinMaxScaler\n",
    "\n",
    "# convert series to supervised learning\n",
    "def series_to_supervised(data, n_in=1, n_out=1, dropnan=True):\n",
    "\tn_vars = 1 if type(data) is list else data.shape[1]\n",
    "\tdf = DataFrame(data)\n",
    "\tcols, names = list(), list()\n",
    "\t# input sequence (t-n, ... t-1)\n",
    "\tfor i in range(n_in, 0, -1):\n",
    "\t\tcols.append(df.shift(i))\n",
    "\t\tnames += [('var%d(t-%d)' % (j+1, i)) for j in range(n_vars)]\n",
    "\t# forecast sequence (t, t+1, ... t+n)\n",
    "\tfor i in range(0, n_out):\n",
    "\t\tcols.append(df.shift(-i))\n",
    "\t\tif i == 0:\n",
    "\t\t\tnames += [('var%d(t)' % (j+1)) for j in range(n_vars)]\n",
    "\t\telse:\n",
    "\t\t\tnames += [('var%d(t+%d)' % (j+1, i)) for j in range(n_vars)]\n",
    "\t# put it all together\n",
    "\tagg = concat(cols, axis=1)\n",
    "\tagg.columns = names\n",
    "\t# drop rows with NaN values\n",
    "\tif dropnan:\n",
    "\t\tagg.dropna(inplace=True)\n",
    "\treturn agg\n",
    " "
   ]
  },
  {
   "cell_type": "markdown",
   "id": "4hM9aJnekTOF",
   "metadata": {
    "id": "4hM9aJnekTOF"
   },
   "source": [
    "### normalize features\n",
    "As we are working with a Neural Network the data values ​​must be normalized to help backpropagation algorithm\n",
    "So we will use the <a href=\"https://scikit-learn.org/stable/modules/generated/sklearn.preprocessing.MinMaxScaler.html\">MinMaxScaler</a> from sklearn"
   ]
  },
  {
   "cell_type": "code",
   "execution_count": 8,
   "id": "gq1acAcggdew",
   "metadata": {
    "id": "gq1acAcggdew"
   },
   "outputs": [],
   "source": [
    "scaler = MinMaxScaler(feature_range=(0, 1)) # Scaler between 0 and 1\n",
    "scaled = scaler.fit_transform(dataset) # As we can see data set has 3 Columns (This shape is also important for inverse scaler as we will see in future)"
   ]
  },
  {
   "cell_type": "code",
   "execution_count": 9,
   "id": "HhBFNwjskQ0u",
   "metadata": {
    "colab": {
     "base_uri": "https://localhost:8080/",
     "height": 241
    },
    "executionInfo": {
     "elapsed": 5,
     "status": "ok",
     "timestamp": 1625199666272,
     "user": {
      "displayName": "DAVID RESTREPO",
      "photoUrl": "https://lh3.googleusercontent.com/a-/AOh14GgqxItBQRJ0dDzIdCZM0BMuA0KeTKTlKRNGMApY=s64",
      "userId": "09638303782015555303"
     },
     "user_tz": 300
    },
    "id": "HhBFNwjskQ0u",
    "outputId": "dc4e6258-29e4-48d1-a76b-a4e0d19325db"
   },
   "outputs": [
    {
     "data": {
      "text/html": [
       "<div>\n",
       "<style scoped>\n",
       "    .dataframe tbody tr th:only-of-type {\n",
       "        vertical-align: middle;\n",
       "    }\n",
       "\n",
       "    .dataframe tbody tr th {\n",
       "        vertical-align: top;\n",
       "    }\n",
       "\n",
       "    .dataframe thead th {\n",
       "        text-align: right;\n",
       "    }\n",
       "</style>\n",
       "<table border=\"1\" class=\"dataframe\">\n",
       "  <thead>\n",
       "    <tr style=\"text-align: right;\">\n",
       "      <th></th>\n",
       "      <th>var1(t-10)</th>\n",
       "      <th>var2(t-10)</th>\n",
       "      <th>var3(t-10)</th>\n",
       "      <th>var1(t-9)</th>\n",
       "      <th>var2(t-9)</th>\n",
       "      <th>var3(t-9)</th>\n",
       "      <th>var1(t-8)</th>\n",
       "      <th>var2(t-8)</th>\n",
       "      <th>var3(t-8)</th>\n",
       "      <th>var1(t-7)</th>\n",
       "      <th>...</th>\n",
       "      <th>var3(t-3)</th>\n",
       "      <th>var1(t-2)</th>\n",
       "      <th>var2(t-2)</th>\n",
       "      <th>var3(t-2)</th>\n",
       "      <th>var1(t-1)</th>\n",
       "      <th>var2(t-1)</th>\n",
       "      <th>var3(t-1)</th>\n",
       "      <th>var1(t)</th>\n",
       "      <th>var2(t)</th>\n",
       "      <th>var3(t)</th>\n",
       "    </tr>\n",
       "  </thead>\n",
       "  <tbody>\n",
       "    <tr>\n",
       "      <th>10</th>\n",
       "      <td>0.364241</td>\n",
       "      <td>0.103033</td>\n",
       "      <td>0.00122</td>\n",
       "      <td>0.364241</td>\n",
       "      <td>0.066375</td>\n",
       "      <td>0.0</td>\n",
       "      <td>0.364241</td>\n",
       "      <td>0.152411</td>\n",
       "      <td>0.0</td>\n",
       "      <td>0.364241</td>\n",
       "      <td>...</td>\n",
       "      <td>0.0</td>\n",
       "      <td>0.493659</td>\n",
       "      <td>0.251632</td>\n",
       "      <td>0.0</td>\n",
       "      <td>0.493659</td>\n",
       "      <td>0.194133</td>\n",
       "      <td>0.00000</td>\n",
       "      <td>0.493659</td>\n",
       "      <td>0.339599</td>\n",
       "      <td>0.00000</td>\n",
       "    </tr>\n",
       "    <tr>\n",
       "      <th>11</th>\n",
       "      <td>0.364241</td>\n",
       "      <td>0.066375</td>\n",
       "      <td>0.00000</td>\n",
       "      <td>0.364241</td>\n",
       "      <td>0.152411</td>\n",
       "      <td>0.0</td>\n",
       "      <td>0.364241</td>\n",
       "      <td>0.000000</td>\n",
       "      <td>0.0</td>\n",
       "      <td>0.356053</td>\n",
       "      <td>...</td>\n",
       "      <td>0.0</td>\n",
       "      <td>0.493659</td>\n",
       "      <td>0.194133</td>\n",
       "      <td>0.0</td>\n",
       "      <td>0.493659</td>\n",
       "      <td>0.339599</td>\n",
       "      <td>0.00000</td>\n",
       "      <td>0.493659</td>\n",
       "      <td>0.287922</td>\n",
       "      <td>0.00000</td>\n",
       "    </tr>\n",
       "    <tr>\n",
       "      <th>12</th>\n",
       "      <td>0.364241</td>\n",
       "      <td>0.152411</td>\n",
       "      <td>0.00000</td>\n",
       "      <td>0.364241</td>\n",
       "      <td>0.000000</td>\n",
       "      <td>0.0</td>\n",
       "      <td>0.356053</td>\n",
       "      <td>0.029307</td>\n",
       "      <td>0.0</td>\n",
       "      <td>0.356053</td>\n",
       "      <td>...</td>\n",
       "      <td>0.0</td>\n",
       "      <td>0.493659</td>\n",
       "      <td>0.339599</td>\n",
       "      <td>0.0</td>\n",
       "      <td>0.493659</td>\n",
       "      <td>0.287922</td>\n",
       "      <td>0.00000</td>\n",
       "      <td>0.493659</td>\n",
       "      <td>0.718713</td>\n",
       "      <td>0.00000</td>\n",
       "    </tr>\n",
       "    <tr>\n",
       "      <th>13</th>\n",
       "      <td>0.364241</td>\n",
       "      <td>0.000000</td>\n",
       "      <td>0.00000</td>\n",
       "      <td>0.356053</td>\n",
       "      <td>0.029307</td>\n",
       "      <td>0.0</td>\n",
       "      <td>0.356053</td>\n",
       "      <td>0.095100</td>\n",
       "      <td>0.0</td>\n",
       "      <td>0.356053</td>\n",
       "      <td>...</td>\n",
       "      <td>0.0</td>\n",
       "      <td>0.493659</td>\n",
       "      <td>0.287922</td>\n",
       "      <td>0.0</td>\n",
       "      <td>0.493659</td>\n",
       "      <td>0.718713</td>\n",
       "      <td>0.00000</td>\n",
       "      <td>0.434987</td>\n",
       "      <td>0.456353</td>\n",
       "      <td>0.00122</td>\n",
       "    </tr>\n",
       "    <tr>\n",
       "      <th>14</th>\n",
       "      <td>0.356053</td>\n",
       "      <td>0.029307</td>\n",
       "      <td>0.00000</td>\n",
       "      <td>0.356053</td>\n",
       "      <td>0.095100</td>\n",
       "      <td>0.0</td>\n",
       "      <td>0.356053</td>\n",
       "      <td>0.011560</td>\n",
       "      <td>0.0</td>\n",
       "      <td>0.356053</td>\n",
       "      <td>...</td>\n",
       "      <td>0.0</td>\n",
       "      <td>0.493659</td>\n",
       "      <td>0.718713</td>\n",
       "      <td>0.0</td>\n",
       "      <td>0.434987</td>\n",
       "      <td>0.456353</td>\n",
       "      <td>0.00122</td>\n",
       "      <td>0.434987</td>\n",
       "      <td>0.371302</td>\n",
       "      <td>0.00000</td>\n",
       "    </tr>\n",
       "  </tbody>\n",
       "</table>\n",
       "<p>5 rows × 33 columns</p>\n",
       "</div>"
      ],
      "text/plain": [
       "    var1(t-10)  var2(t-10)  var3(t-10)  var1(t-9)  var2(t-9)  var3(t-9)  \\\n",
       "10    0.364241    0.103033     0.00122   0.364241   0.066375        0.0   \n",
       "11    0.364241    0.066375     0.00000   0.364241   0.152411        0.0   \n",
       "12    0.364241    0.152411     0.00000   0.364241   0.000000        0.0   \n",
       "13    0.364241    0.000000     0.00000   0.356053   0.029307        0.0   \n",
       "14    0.356053    0.029307     0.00000   0.356053   0.095100        0.0   \n",
       "\n",
       "    var1(t-8)  var2(t-8)  var3(t-8)  var1(t-7)  ...  var3(t-3)  var1(t-2)  \\\n",
       "10   0.364241   0.152411        0.0   0.364241  ...        0.0   0.493659   \n",
       "11   0.364241   0.000000        0.0   0.356053  ...        0.0   0.493659   \n",
       "12   0.356053   0.029307        0.0   0.356053  ...        0.0   0.493659   \n",
       "13   0.356053   0.095100        0.0   0.356053  ...        0.0   0.493659   \n",
       "14   0.356053   0.011560        0.0   0.356053  ...        0.0   0.493659   \n",
       "\n",
       "    var2(t-2)  var3(t-2)  var1(t-1)  var2(t-1)  var3(t-1)   var1(t)   var2(t)  \\\n",
       "10   0.251632        0.0   0.493659   0.194133    0.00000  0.493659  0.339599   \n",
       "11   0.194133        0.0   0.493659   0.339599    0.00000  0.493659  0.287922   \n",
       "12   0.339599        0.0   0.493659   0.287922    0.00000  0.493659  0.718713   \n",
       "13   0.287922        0.0   0.493659   0.718713    0.00000  0.434987  0.456353   \n",
       "14   0.718713        0.0   0.434987   0.456353    0.00122  0.434987  0.371302   \n",
       "\n",
       "    var3(t)  \n",
       "10  0.00000  \n",
       "11  0.00000  \n",
       "12  0.00000  \n",
       "13  0.00122  \n",
       "14  0.00000  \n",
       "\n",
       "[5 rows x 33 columns]"
      ]
     },
     "execution_count": 9,
     "metadata": {},
     "output_type": "execute_result"
    }
   ],
   "source": [
    "# length of window\n",
    "weeks = 10\n",
    "\n",
    "# frame as supervised learning\n",
    "data = series_to_supervised(scaled, n_in=weeks)\n",
    "DataFrame(data).head()"
   ]
  },
  {
   "cell_type": "markdown",
   "id": "Uss0IPaQqnWB",
   "metadata": {
    "id": "Uss0IPaQqnWB"
   },
   "source": [
    "## Features Set"
   ]
  },
  {
   "cell_type": "code",
   "execution_count": 10,
   "id": "eWFelunOgdml",
   "metadata": {
    "colab": {
     "base_uri": "https://localhost:8080/"
    },
    "executionInfo": {
     "elapsed": 4,
     "status": "ok",
     "timestamp": 1625199666272,
     "user": {
      "displayName": "DAVID RESTREPO",
      "photoUrl": "https://lh3.googleusercontent.com/a-/AOh14GgqxItBQRJ0dDzIdCZM0BMuA0KeTKTlKRNGMApY=s64",
      "userId": "09638303782015555303"
     },
     "user_tz": 300
    },
    "id": "eWFelunOgdml",
    "outputId": "4cabbc36-740c-40ab-9a25-f5386ff43dea"
   },
   "outputs": [
    {
     "data": {
      "text/plain": [
       "array([[0.36424094, 0.10303316, 0.00121951, ..., 0.49365894, 0.19413316,\n",
       "        0.        ],\n",
       "       [0.36424094, 0.0663752 , 0.        , ..., 0.49365894, 0.33959896,\n",
       "        0.        ],\n",
       "       [0.36424094, 0.15241093, 0.        , ..., 0.49365894, 0.28792167,\n",
       "        0.        ],\n",
       "       ...,\n",
       "       [0.28320738, 0.60463713, 0.03292683, ..., 0.34158643, 0.13378884,\n",
       "        0.01463415],\n",
       "       [0.28320738, 0.20007748, 0.02804878, ..., 0.34158643, 0.0446321 ,\n",
       "        0.03292683],\n",
       "       [0.28320738, 0.3982439 , 0.02926829, ..., 0.34158643, 0.02191073,\n",
       "        0.02073171]])"
      ]
     },
     "execution_count": 10,
     "metadata": {},
     "output_type": "execute_result"
    }
   ],
   "source": [
    "# We define the number of features as 3 (Temperature, Precipitation and Dengue Cases)\n",
    "n_features = 3\n",
    "# The features to train the model will be all except the values of the actual week \n",
    "# We can't use the temperature and precipitation in week t because whe need to resample a a 3D Array\n",
    "features_set = DataFrame(data.values[:,:-n_features])\n",
    "# Convert pandas data frame to np.array to reshape as 3D Array\n",
    "features_set = features_set.to_numpy()\n",
    "features_set"
   ]
  },
  {
   "cell_type": "markdown",
   "id": "ojvAeBMPr3ol",
   "metadata": {
    "id": "ojvAeBMPr3ol"
   },
   "source": [
    "## Labels Set"
   ]
  },
  {
   "cell_type": "code",
   "execution_count": 11,
   "id": "q4jhxnI5gdqz",
   "metadata": {
    "id": "q4jhxnI5gdqz"
   },
   "outputs": [],
   "source": [
    "# We will use Dengue cases in last week \n",
    "labels_set = DataFrame(data.values[:,-1])\n",
    "# Convert pandas data frame to np.array\n",
    "labels_set = labels_set.to_numpy()\n",
    "#labels_set"
   ]
  },
  {
   "cell_type": "markdown",
   "id": "RlwXfwaLsHza",
   "metadata": {
    "id": "RlwXfwaLsHza"
   },
   "source": [
    "## Train Test Split"
   ]
  },
  {
   "cell_type": "code",
   "execution_count": 12,
   "id": "-sb-9LCMgdwr",
   "metadata": {
    "id": "-sb-9LCMgdwr"
   },
   "outputs": [],
   "source": [
    "# We need a sequence so we can't split randomly\n",
    "# To divide into Train (90%) and test (10%) to do that we need to know the 90% of the total dataframe\n",
    "size = features_set.shape[0]\n",
    "split = int(size*(9/10))"
   ]
  },
  {
   "cell_type": "markdown",
   "id": "_2LNWDMusZsl",
   "metadata": {
    "id": "_2LNWDMusZsl"
   },
   "source": [
    "### train"
   ]
  },
  {
   "cell_type": "code",
   "execution_count": 13,
   "id": "FJan_zurgd1q",
   "metadata": {
    "id": "FJan_zurgd1q"
   },
   "outputs": [],
   "source": [
    "# We will train with 1st 90% of data and test with last 10%\n",
    "train_X = features_set[:split] ##90% train\n",
    "train_y = labels_set[:split]  ##90% train"
   ]
  },
  {
   "cell_type": "markdown",
   "id": "t17j8OtzemAG",
   "metadata": {
    "id": "t17j8OtzemAG"
   },
   "source": [
    "### test"
   ]
  },
  {
   "cell_type": "code",
   "execution_count": 14,
   "id": "DS6rGhy5gd7B",
   "metadata": {
    "id": "DS6rGhy5gd7B"
   },
   "outputs": [],
   "source": [
    "test_X = features_set[split:] ##10% test\n",
    "test_y = labels_set[split:] ##10% test"
   ]
  },
  {
   "cell_type": "markdown",
   "id": "UExWrkq9Ib_J",
   "metadata": {
    "id": "UExWrkq9Ib_J"
   },
   "source": [
    "## Reshape"
   ]
  },
  {
   "cell_type": "code",
   "execution_count": 15,
   "id": "G1xmvWGQgeDB",
   "metadata": {
    "colab": {
     "base_uri": "https://localhost:8080/"
    },
    "executionInfo": {
     "elapsed": 3,
     "status": "ok",
     "timestamp": 1625199667859,
     "user": {
      "displayName": "DAVID RESTREPO",
      "photoUrl": "https://lh3.googleusercontent.com/a-/AOh14GgqxItBQRJ0dDzIdCZM0BMuA0KeTKTlKRNGMApY=s64",
      "userId": "09638303782015555303"
     },
     "user_tz": 300
    },
    "id": "G1xmvWGQgeDB",
    "outputId": "bfe29d4c-d3e5-46b0-999a-f11434c8fe73"
   },
   "outputs": [
    {
     "name": "stdout",
     "output_type": "stream",
     "text": [
      "(552, 10, 3) (552, 1) (62, 10, 3) (62, 1)\n"
     ]
    }
   ],
   "source": [
    "# reshape input to be 3D [samples, timesteps, features]\n",
    "train_X = train_X.reshape((train_X.shape[0], weeks, n_features))\n",
    "test_X = test_X.reshape((test_X.shape[0], weeks, n_features))\n",
    "print(train_X.shape, train_y.shape, test_X.shape, test_y.shape)"
   ]
  },
  {
   "cell_type": "markdown",
   "id": "ac223af3",
   "metadata": {
    "id": "ac223af3"
   },
   "source": [
    "## Model"
   ]
  },
  {
   "cell_type": "markdown",
   "id": "h5ZtewNE5vXX",
   "metadata": {
    "id": "h5ZtewNE5vXX"
   },
   "source": [
    "### Bidirectional LSTM"
   ]
  },
  {
   "cell_type": "code",
   "execution_count": 16,
   "id": "wPD_nuIfgeK9",
   "metadata": {
    "id": "wPD_nuIfgeK9"
   },
   "outputs": [],
   "source": [
    "# Set Seed\n",
    "tf.random.set_seed(0)\n",
    "\n",
    "\n",
    "# design network\n",
    "model = Sequential()\n",
    "model.add(Bidirectional(\n",
    "          LSTM(60, return_sequences=True), \n",
    "          input_shape=(train_X.shape[1], train_X.shape[2])))\n",
    "model.add(Bidirectional(LSTM(10)))\n",
    "model.add(Dense(1))\n",
    "model.compile(loss='mae', optimizer='adam')"
   ]
  },
  {
   "cell_type": "code",
   "execution_count": 17,
   "id": "CRKoVYEqmcav",
   "metadata": {
    "colab": {
     "base_uri": "https://localhost:8080/"
    },
    "executionInfo": {
     "elapsed": 16579,
     "status": "ok",
     "timestamp": 1625199686399,
     "user": {
      "displayName": "DAVID RESTREPO",
      "photoUrl": "https://lh3.googleusercontent.com/a-/AOh14GgqxItBQRJ0dDzIdCZM0BMuA0KeTKTlKRNGMApY=s64",
      "userId": "09638303782015555303"
     },
     "user_tz": 300
    },
    "id": "CRKoVYEqmcav",
    "outputId": "93168007-3eca-4f8c-d8f9-45571b044332"
   },
   "outputs": [
    {
     "name": "stdout",
     "output_type": "stream",
     "text": [
      "Train on 552 samples, validate on 62 samples\n",
      "Epoch 1/50\n",
      "552/552 - 7s - loss: 0.0990 - val_loss: 0.0487\n",
      "Epoch 2/50\n",
      "552/552 - 0s - loss: 0.0925 - val_loss: 0.0071\n",
      "Epoch 3/50\n",
      "552/552 - 0s - loss: 0.0580 - val_loss: 0.0177\n",
      "Epoch 4/50\n",
      "552/552 - 0s - loss: 0.0449 - val_loss: 0.0115\n",
      "Epoch 5/50\n",
      "552/552 - 0s - loss: 0.0360 - val_loss: 0.0072\n",
      "Epoch 6/50\n",
      "552/552 - 0s - loss: 0.0342 - val_loss: 0.0088\n",
      "Epoch 7/50\n",
      "552/552 - 0s - loss: 0.0345 - val_loss: 0.0160\n",
      "Epoch 8/50\n",
      "552/552 - 0s - loss: 0.0320 - val_loss: 0.0097\n",
      "Epoch 9/50\n",
      "552/552 - 0s - loss: 0.0323 - val_loss: 0.0111\n",
      "Epoch 10/50\n",
      "552/552 - 0s - loss: 0.0317 - val_loss: 0.0070\n",
      "Epoch 11/50\n",
      "552/552 - 0s - loss: 0.0301 - val_loss: 0.0177\n",
      "Epoch 12/50\n",
      "552/552 - 0s - loss: 0.0301 - val_loss: 0.0102\n",
      "Epoch 13/50\n",
      "552/552 - 0s - loss: 0.0279 - val_loss: 0.0120\n",
      "Epoch 14/50\n",
      "552/552 - 0s - loss: 0.0279 - val_loss: 0.0058\n",
      "Epoch 15/50\n",
      "552/552 - 0s - loss: 0.0265 - val_loss: 0.0155\n",
      "Epoch 16/50\n",
      "552/552 - 0s - loss: 0.0283 - val_loss: 0.0115\n",
      "Epoch 17/50\n",
      "552/552 - 0s - loss: 0.0247 - val_loss: 0.0140\n",
      "Epoch 18/50\n",
      "552/552 - 0s - loss: 0.0265 - val_loss: 0.0120\n",
      "Epoch 19/50\n",
      "552/552 - 0s - loss: 0.0231 - val_loss: 0.0101\n",
      "Epoch 20/50\n",
      "552/552 - 0s - loss: 0.0251 - val_loss: 0.0086\n",
      "Epoch 21/50\n",
      "552/552 - 0s - loss: 0.0218 - val_loss: 0.0073\n",
      "Epoch 22/50\n",
      "552/552 - 0s - loss: 0.0203 - val_loss: 0.0061\n",
      "Epoch 23/50\n",
      "552/552 - 0s - loss: 0.0200 - val_loss: 0.0058\n",
      "Epoch 24/50\n",
      "552/552 - 0s - loss: 0.0221 - val_loss: 0.0111\n",
      "Epoch 25/50\n",
      "552/552 - 1s - loss: 0.0199 - val_loss: 0.0062\n",
      "Epoch 26/50\n",
      "552/552 - 0s - loss: 0.0228 - val_loss: 0.0073\n",
      "Epoch 27/50\n",
      "552/552 - 1s - loss: 0.0198 - val_loss: 0.0061\n",
      "Epoch 28/50\n",
      "552/552 - 0s - loss: 0.0234 - val_loss: 0.0131\n",
      "Epoch 29/50\n",
      "552/552 - 0s - loss: 0.0222 - val_loss: 0.0083\n",
      "Epoch 30/50\n",
      "552/552 - 0s - loss: 0.0190 - val_loss: 0.0055\n",
      "Epoch 31/50\n",
      "552/552 - 0s - loss: 0.0182 - val_loss: 0.0057\n",
      "Epoch 32/50\n",
      "552/552 - 0s - loss: 0.0196 - val_loss: 0.0054\n",
      "Epoch 33/50\n",
      "552/552 - 0s - loss: 0.0223 - val_loss: 0.0149\n",
      "Epoch 34/50\n",
      "552/552 - 0s - loss: 0.0237 - val_loss: 0.0109\n",
      "Epoch 35/50\n",
      "552/552 - 0s - loss: 0.0187 - val_loss: 0.0063\n",
      "Epoch 36/50\n",
      "552/552 - 0s - loss: 0.0178 - val_loss: 0.0121\n",
      "Epoch 37/50\n",
      "552/552 - 0s - loss: 0.0196 - val_loss: 0.0065\n",
      "Epoch 38/50\n",
      "552/552 - 0s - loss: 0.0176 - val_loss: 0.0056\n",
      "Epoch 39/50\n",
      "552/552 - 0s - loss: 0.0203 - val_loss: 0.0109\n",
      "Epoch 40/50\n",
      "552/552 - 0s - loss: 0.0224 - val_loss: 0.0091\n",
      "Epoch 41/50\n",
      "552/552 - 0s - loss: 0.0188 - val_loss: 0.0078\n",
      "Epoch 42/50\n",
      "552/552 - 0s - loss: 0.0172 - val_loss: 0.0053\n",
      "Epoch 43/50\n",
      "552/552 - 0s - loss: 0.0179 - val_loss: 0.0088\n",
      "Epoch 44/50\n",
      "552/552 - 0s - loss: 0.0202 - val_loss: 0.0075\n",
      "Epoch 45/50\n",
      "552/552 - 0s - loss: 0.0179 - val_loss: 0.0055\n",
      "Epoch 46/50\n",
      "552/552 - 0s - loss: 0.0164 - val_loss: 0.0064\n",
      "Epoch 47/50\n",
      "552/552 - 0s - loss: 0.0173 - val_loss: 0.0078\n",
      "Epoch 48/50\n",
      "552/552 - 0s - loss: 0.0194 - val_loss: 0.0074\n",
      "Epoch 49/50\n",
      "552/552 - 0s - loss: 0.0190 - val_loss: 0.0088\n",
      "Epoch 50/50\n",
      "552/552 - 0s - loss: 0.0224 - val_loss: 0.0058\n"
     ]
    }
   ],
   "source": [
    "# fit network\n",
    "history = model.fit(train_X, train_y, epochs=50, batch_size=72, validation_data=(test_X, test_y), verbose=2, shuffle=False)"
   ]
  },
  {
   "cell_type": "code",
   "execution_count": 18,
   "id": "9yqmdQXsmcfH",
   "metadata": {
    "colab": {
     "base_uri": "https://localhost:8080/",
     "height": 265
    },
    "executionInfo": {
     "elapsed": 327,
     "status": "ok",
     "timestamp": 1625199686714,
     "user": {
      "displayName": "DAVID RESTREPO",
      "photoUrl": "https://lh3.googleusercontent.com/a-/AOh14GgqxItBQRJ0dDzIdCZM0BMuA0KeTKTlKRNGMApY=s64",
      "userId": "09638303782015555303"
     },
     "user_tz": 300
    },
    "id": "9yqmdQXsmcfH",
    "outputId": "54204a5c-9e78-4512-f586-fb6b1fa8254f"
   },
   "outputs": [
    {
     "data": {
      "image/png": "[encoded data removed]",
      "text/plain": [
       "<Figure size 432x288 with 1 Axes>"
      ]
     },
     "metadata": {
      "needs_background": "light"
     },
     "output_type": "display_data"
    }
   ],
   "source": [
    "from matplotlib import pyplot\n",
    "# plot history\n",
    "pyplot.plot(history.history['loss'], label='train')\n",
    "pyplot.plot(history.history['val_loss'], label='test')\n",
    "pyplot.legend()\n",
    "pyplot.show()"
   ]
  },
  {
   "cell_type": "code",
   "execution_count": 19,
   "id": "C21mhuRullNL",
   "metadata": {
    "id": "C21mhuRullNL"
   },
   "outputs": [],
   "source": [
    "from math import sqrt\n",
    "from numpy import concatenate\n",
    "\n",
    "# make a prediction\n",
    "yhat = model.predict(test_X)"
   ]
  },
  {
   "cell_type": "code",
   "execution_count": 20,
   "id": "TtordubT422m",
   "metadata": {
    "colab": {
     "base_uri": "https://localhost:8080/"
    },
    "executionInfo": {
     "elapsed": 17,
     "status": "ok",
     "timestamp": 1625199688379,
     "user": {
      "displayName": "DAVID RESTREPO",
      "photoUrl": "https://lh3.googleusercontent.com/a-/AOh14GgqxItBQRJ0dDzIdCZM0BMuA0KeTKTlKRNGMApY=s64",
      "userId": "09638303782015555303"
     },
     "user_tz": 300
    },
    "id": "TtordubT422m",
    "outputId": "d21db3b8-ee02-4904-ca79-cd8d66d8ea28"
   },
   "outputs": [
    {
     "data": {
      "text/plain": [
       "(62, 1)"
      ]
     },
     "execution_count": 20,
     "metadata": {},
     "output_type": "execute_result"
    }
   ],
   "source": [
    "yhat.shape"
   ]
  },
  {
   "cell_type": "code",
   "execution_count": 21,
   "id": "5Ozj32Jwq4VL",
   "metadata": {
    "id": "5Ozj32Jwq4VL"
   },
   "outputs": [],
   "source": [
    "# Convert test data to 2D \n",
    "test_X = test_X.reshape((test_X.shape[0], weeks*n_features))\n",
    "\n",
    "# invert scaling for forecast\n",
    "# As we said Scaler needs 3 columns so we can take those columns from test data and take again the predictions\n",
    "# Concatenate last 2 columns of test data with predicted data (yhat)\n",
    "inv_yhat = concatenate((test_X[:, -(n_features-1):], yhat), axis=1)\n",
    "# Inverse Scaler\n",
    "inv_yhat = scaler.inverse_transform(inv_yhat)\n",
    "# Take predicted data scaled to original Dengue cases\n",
    "inv_yhat = inv_yhat[:,-1]\n",
    "\n",
    "# invert scaling for actual\n",
    "# Same process than for predicted data (yhat)\n",
    "test_y = test_y.reshape((len(test_y), 1))\n",
    "inv_y = concatenate((test_X[:, -(n_features-1):], test_y), axis=1)\n",
    "inv_y = scaler.inverse_transform(inv_y)\n",
    "inv_y = inv_y[:,-1]"
   ]
  },
  {
   "cell_type": "code",
   "execution_count": 22,
   "id": "TdDRHwvNllQR",
   "metadata": {
    "colab": {
     "base_uri": "https://localhost:8080/"
    },
    "executionInfo": {
     "elapsed": 12,
     "status": "ok",
     "timestamp": 1625199688380,
     "user": {
      "displayName": "DAVID RESTREPO",
      "photoUrl": "https://lh3.googleusercontent.com/a-/AOh14GgqxItBQRJ0dDzIdCZM0BMuA0KeTKTlKRNGMApY=s64",
      "userId": "09638303782015555303"
     },
     "user_tz": 300
    },
    "id": "TdDRHwvNllQR",
    "outputId": "1affdc4e-4765-4637-8d5d-8a8ce2c8aac8"
   },
   "outputs": [
    {
     "name": "stdout",
     "output_type": "stream",
     "text": [
      "Test MAE: 4.785\n"
     ]
    }
   ],
   "source": [
    "from sklearn.metrics import  mean_absolute_error\n",
    "\n",
    "# calculate MAE\n",
    "mae = mean_absolute_error(inv_y, inv_yhat)\n",
    "print('Test MAE: %.3f' % mae)"
   ]
  },
  {
   "cell_type": "markdown",
   "id": "PJzx3p9psAqW",
   "metadata": {
    "id": "PJzx3p9psAqW"
   },
   "source": [
    "#### Plot predicted vs actual dengue cases"
   ]
  },
  {
   "cell_type": "code",
   "execution_count": 23,
   "id": "nPOiCVoxsr-1",
   "metadata": {
    "colab": {
     "base_uri": "https://localhost:8080/",
     "height": 294
    },
    "executionInfo": {
     "elapsed": 11,
     "status": "ok",
     "timestamp": 1625199688381,
     "user": {
      "displayName": "DAVID RESTREPO",
      "photoUrl": "https://lh3.googleusercontent.com/a-/AOh14GgqxItBQRJ0dDzIdCZM0BMuA0KeTKTlKRNGMApY=s64",
      "userId": "09638303782015555303"
     },
     "user_tz": 300
    },
    "id": "nPOiCVoxsr-1",
    "outputId": "0ede48c0-f809-4568-b5ce-336bc27d7c81"
   },
   "outputs": [
    {
     "data": {
      "image/png": "[encoded data removed]",
      "text/plain": [
       "<Figure size 432x288 with 1 Axes>"
      ]
     },
     "metadata": {
      "needs_background": "light"
     },
     "output_type": "display_data"
    }
   ],
   "source": [
    "data_predict = inv_yhat  ## predicted target  cases\n",
    "dataY_plot = inv_y  ##  real test-target cases\n",
    "\n",
    "data_predict = data_predict.reshape(len(data_predict), 1)\n",
    "dataY_plot = dataY_plot.reshape(len(dataY_plot), 1)\n",
    "\n",
    "import matplotlib.pyplot as plt\n",
    "\n",
    "plt.plot(dataY_plot, label = 'actual')\n",
    "plt.plot(data_predict, label = 'predicted')\n",
    "plt.legend(loc=\"upper left\")\n",
    "\n",
    "plt.suptitle('Time-Series Prediction')\n",
    "plt.show()"
   ]
  },
  {
   "cell_type": "code",
   "execution_count": null,
   "id": "kMiD5Vp27n5W",
   "metadata": {
    "id": "kMiD5Vp27n5W"
   },
   "outputs": [],
   "source": []
  },
  {
   "cell_type": "markdown",
   "id": "9R-Zl5OgLo_h",
   "metadata": {
    "id": "9R-Zl5OgLo_h"
   },
   "source": [
    "<ol>\n",
    "  <li> <a href=\"https://towardsdatascience.com/predictive-analytics-time-series-forecasting-with-gru-and-bilstm-in-tensorflow-87588c852915\">Predictive Analytics: Time-Series Forecasting with GRU and BiLSTM in TensorFlow</a></li>\n",
    "  <li><a href=\"https://machinelearningmastery.com/multivariate-time-series-forecasting-lstms-keras/\">Multivariate Time Series Forecasting with LSTMs in Keras</a></li>\n",
    "</ol>"
   ]
  },
  {
   "cell_type": "code",
   "execution_count": null,
   "id": "LA6ELSVJLpp0",
   "metadata": {
    "id": "LA6ELSVJLpp0"
   },
   "outputs": [],
   "source": []
  }
 ],
 "metadata": {
  "colab": {
   "collapsed_sections": [],
   "name": "BidirectionalLSTM_TensorFlow_WeeklyPrecipitation.ipynb",
   "provenance": [
    {
     "file_id": "1EQz5vqDW0os0t6aKIInxWCiLPcWFpGkn",
     "timestamp": 1625027982230
    },
    {
     "file_id": "1yhwDjCPk8baHY-Odebdo8C1jIJVI5Uny",
     "timestamp": 1625026832717
    }
   ]
  },
  "kernelspec": {
   "display_name": "Python 3 (ipykernel)",
   "language": "python",
   "name": "python3"
  },
  "language_info": {
   "codemirror_mode": {
    "name": "ipython",
    "version": 3
   },
   "file_extension": ".py",
   "mimetype": "text/x-python",
   "name": "python",
   "nbconvert_exporter": "python",
   "pygments_lexer": "ipython3",
   "version": "3.9.6"
  }
 },
 "nbformat": 4,
 "nbformat_minor": 5
}
