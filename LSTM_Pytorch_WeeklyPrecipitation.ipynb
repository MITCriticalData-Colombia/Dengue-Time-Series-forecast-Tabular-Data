{
 "cells": [
  {
   "cell_type": "code",
   "execution_count": 1,
   "id": "8da86ec5",
   "metadata": {
    "id": "8da86ec5"
   },
   "outputs": [],
   "source": [
    "import pandas as pd\n",
    "from sklearn import preprocessing\n",
    "import numpy as np\n",
    "\n",
    "import matplotlib.pyplot as plt"
   ]
  },
  {
   "cell_type": "code",
   "execution_count": 2,
   "id": "xL6Y-IS3ksaQ",
   "metadata": {
    "colab": {
     "base_uri": "https://localhost:8080/"
    },
    "executionInfo": {
     "elapsed": 21310,
     "status": "ok",
     "timestamp": 1625027747675,
     "user": {
      "displayName": "DAVID RESTREPO",
      "photoUrl": "https://lh3.googleusercontent.com/a-/AOh14GgqxItBQRJ0dDzIdCZM0BMuA0KeTKTlKRNGMApY=s64",
      "userId": "09638303782015555303"
     },
     "user_tz": 300
    },
    "id": "xL6Y-IS3ksaQ",
    "outputId": "c35334cd-df0a-4305-e769-c9c26d90ec6b"
   },
   "outputs": [
    {
     "data": {
      "text/plain": [
       "\"\\n#connect with drive\\nfrom google.colab import drive\\ndrive.mount('/content/drive')\\n\""
      ]
     },
     "execution_count": 2,
     "metadata": {},
     "output_type": "execute_result"
    }
   ],
   "source": [
    "\"\"\"\n",
    "#connect with drive\n",
    "from google.colab import drive\n",
    "drive.mount('/content/drive')\n",
    "\"\"\""
   ]
  },
  {
   "cell_type": "code",
   "execution_count": 3,
   "id": "p7MwJk2JksoL",
   "metadata": {
    "id": "p7MwJk2JksoL"
   },
   "outputs": [
    {
     "data": {
      "text/plain": [
       "\"\\n# Path to data:\\n# David's path\\npath = '/content/drive/MyDrive/Dengue_GIS_Visualization/DengueData/'\\n# Dana's path\\n#path='/content/drive/MyDrive/Dengue_GIS Visualization/Dengue_GIS_Visualization/DengueData/'\\n\""
      ]
     },
     "execution_count": 3,
     "metadata": {},
     "output_type": "execute_result"
    }
   ],
   "source": [
    "\"\"\"\n",
    "# Path to data:\n",
    "# David's path\n",
    "path = '/content/drive/MyDrive/Dengue_GIS_Visualization/DengueData/'\n",
    "# Dana's path\n",
    "#path='/content/drive/MyDrive/Dengue_GIS Visualization/Dengue_GIS_Visualization/DengueData/'\n",
    "\"\"\""
   ]
  },
  {
   "cell_type": "code",
   "execution_count": 4,
   "id": "lxt7_uXJKXrK",
   "metadata": {
    "colab": {
     "base_uri": "https://localhost:8080/",
     "height": 609
    },
    "executionInfo": {
     "elapsed": 1308,
     "status": "ok",
     "timestamp": 1625027748982,
     "user": {
      "displayName": "DAVID RESTREPO",
      "photoUrl": "https://lh3.googleusercontent.com/a-/AOh14GgqxItBQRJ0dDzIdCZM0BMuA0KeTKTlKRNGMApY=s64",
      "userId": "09638303782015555303"
     },
     "user_tz": 300
    },
    "id": "lxt7_uXJKXrK",
    "outputId": "2f250d2e-6c41-47f3-c48a-748a3f1dc249"
   },
   "outputs": [
    {
     "name": "stderr",
     "output_type": "stream",
     "text": [
      "/var/folders/4w/k6c16td51cv9ytcmnnvx3mpw0000gn/T/ipykernel_27543/324749813.py:4: FutureWarning: In a future version of pandas all arguments of DataFrame.drop except for the argument 'labels' will be keyword-only\n",
      "  merge_cases_temp_precip = merge_cases_temp_precip.drop('Unnamed: 0', 1)\n"
     ]
    },
    {
     "data": {
      "text/html": [
       "<div>\n",
       "<style scoped>\n",
       "    .dataframe tbody tr th:only-of-type {\n",
       "        vertical-align: middle;\n",
       "    }\n",
       "\n",
       "    .dataframe tbody tr th {\n",
       "        vertical-align: top;\n",
       "    }\n",
       "\n",
       "    .dataframe thead th {\n",
       "        text-align: right;\n",
       "    }\n",
       "</style>\n",
       "<table border=\"1\" class=\"dataframe\">\n",
       "  <thead>\n",
       "    <tr style=\"text-align: right;\">\n",
       "      <th></th>\n",
       "      <th>cases_medellin</th>\n",
       "      <th>DATA</th>\n",
       "      <th>YEAR</th>\n",
       "      <th>YearWeek</th>\n",
       "      <th>LastDayWeek</th>\n",
       "      <th>MONTH</th>\n",
       "      <th>temperature_medellin</th>\n",
       "      <th>percipitation_medellin</th>\n",
       "      <th>percipitation_medellin_rural</th>\n",
       "      <th>percipitation_medellin_urbano</th>\n",
       "    </tr>\n",
       "  </thead>\n",
       "  <tbody>\n",
       "    <tr>\n",
       "      <th>0</th>\n",
       "      <td>1</td>\n",
       "      <td>['2007', 'w01']</td>\n",
       "      <td>2007</td>\n",
       "      <td>200701</td>\n",
       "      <td>2007-01-06</td>\n",
       "      <td>1</td>\n",
       "      <td>21.009283</td>\n",
       "      <td>13.096688</td>\n",
       "      <td>14.097693</td>\n",
       "      <td>12.628933</td>\n",
       "    </tr>\n",
       "    <tr>\n",
       "      <th>1</th>\n",
       "      <td>0</td>\n",
       "      <td>['2007', 'w02']</td>\n",
       "      <td>2007</td>\n",
       "      <td>200702</td>\n",
       "      <td>2007-01-13</td>\n",
       "      <td>1</td>\n",
       "      <td>21.009283</td>\n",
       "      <td>8.437044</td>\n",
       "      <td>6.910390</td>\n",
       "      <td>9.067214</td>\n",
       "    </tr>\n",
       "    <tr>\n",
       "      <th>2</th>\n",
       "      <td>0</td>\n",
       "      <td>['2007', 'w03']</td>\n",
       "      <td>2007</td>\n",
       "      <td>200703</td>\n",
       "      <td>2007-01-20</td>\n",
       "      <td>1</td>\n",
       "      <td>21.009283</td>\n",
       "      <td>19.373165</td>\n",
       "      <td>21.616968</td>\n",
       "      <td>18.406665</td>\n",
       "    </tr>\n",
       "    <tr>\n",
       "      <th>3</th>\n",
       "      <td>0</td>\n",
       "      <td>['2007', 'w04']</td>\n",
       "      <td>2007</td>\n",
       "      <td>200704</td>\n",
       "      <td>2007-01-27</td>\n",
       "      <td>1</td>\n",
       "      <td>21.009283</td>\n",
       "      <td>0.000000</td>\n",
       "      <td>0.000000</td>\n",
       "      <td>0.000000</td>\n",
       "    </tr>\n",
       "    <tr>\n",
       "      <th>4</th>\n",
       "      <td>0</td>\n",
       "      <td>['2007', 'w05']</td>\n",
       "      <td>2007</td>\n",
       "      <td>200705</td>\n",
       "      <td>2007-02-03</td>\n",
       "      <td>2</td>\n",
       "      <td>20.982925</td>\n",
       "      <td>3.725206</td>\n",
       "      <td>3.144225</td>\n",
       "      <td>3.901021</td>\n",
       "    </tr>\n",
       "    <tr>\n",
       "      <th>...</th>\n",
       "      <td>...</td>\n",
       "      <td>...</td>\n",
       "      <td>...</td>\n",
       "      <td>...</td>\n",
       "      <td>...</td>\n",
       "      <td>...</td>\n",
       "      <td>...</td>\n",
       "      <td>...</td>\n",
       "      <td>...</td>\n",
       "      <td>...</td>\n",
       "    </tr>\n",
       "    <tr>\n",
       "      <th>619</th>\n",
       "      <td>28</td>\n",
       "      <td>['2018', 'w48']</td>\n",
       "      <td>2018</td>\n",
       "      <td>201848</td>\n",
       "      <td>2018-12-01</td>\n",
       "      <td>12</td>\n",
       "      <td>20.936353</td>\n",
       "      <td>8.916642</td>\n",
       "      <td>8.656351</td>\n",
       "      <td>9.114419</td>\n",
       "    </tr>\n",
       "    <tr>\n",
       "      <th>620</th>\n",
       "      <td>12</td>\n",
       "      <td>['2018', 'w49']</td>\n",
       "      <td>2018</td>\n",
       "      <td>201849</td>\n",
       "      <td>2018-12-08</td>\n",
       "      <td>12</td>\n",
       "      <td>20.936353</td>\n",
       "      <td>17.006086</td>\n",
       "      <td>16.076869</td>\n",
       "      <td>17.334870</td>\n",
       "    </tr>\n",
       "    <tr>\n",
       "      <th>621</th>\n",
       "      <td>27</td>\n",
       "      <td>['2018', 'w50']</td>\n",
       "      <td>2018</td>\n",
       "      <td>201850</td>\n",
       "      <td>2018-12-15</td>\n",
       "      <td>12</td>\n",
       "      <td>20.936353</td>\n",
       "      <td>5.673248</td>\n",
       "      <td>5.388778</td>\n",
       "      <td>5.794555</td>\n",
       "    </tr>\n",
       "    <tr>\n",
       "      <th>622</th>\n",
       "      <td>17</td>\n",
       "      <td>['2018', 'w51']</td>\n",
       "      <td>2018</td>\n",
       "      <td>201851</td>\n",
       "      <td>2018-12-22</td>\n",
       "      <td>12</td>\n",
       "      <td>20.936353</td>\n",
       "      <td>2.785103</td>\n",
       "      <td>2.708024</td>\n",
       "      <td>2.810241</td>\n",
       "    </tr>\n",
       "    <tr>\n",
       "      <th>623</th>\n",
       "      <td>17</td>\n",
       "      <td>['2018', 'w52']</td>\n",
       "      <td>2018</td>\n",
       "      <td>201852</td>\n",
       "      <td>2018-12-29</td>\n",
       "      <td>12</td>\n",
       "      <td>20.936353</td>\n",
       "      <td>0.000000</td>\n",
       "      <td>0.000000</td>\n",
       "      <td>0.000000</td>\n",
       "    </tr>\n",
       "  </tbody>\n",
       "</table>\n",
       "<p>624 rows × 10 columns</p>\n",
       "</div>"
      ],
      "text/plain": [
       "     cases_medellin             DATA  YEAR  YearWeek LastDayWeek  MONTH  \\\n",
       "0                 1  ['2007', 'w01']  2007    200701  2007-01-06      1   \n",
       "1                 0  ['2007', 'w02']  2007    200702  2007-01-13      1   \n",
       "2                 0  ['2007', 'w03']  2007    200703  2007-01-20      1   \n",
       "3                 0  ['2007', 'w04']  2007    200704  2007-01-27      1   \n",
       "4                 0  ['2007', 'w05']  2007    200705  2007-02-03      2   \n",
       "..              ...              ...   ...       ...         ...    ...   \n",
       "619              28  ['2018', 'w48']  2018    201848  2018-12-01     12   \n",
       "620              12  ['2018', 'w49']  2018    201849  2018-12-08     12   \n",
       "621              27  ['2018', 'w50']  2018    201850  2018-12-15     12   \n",
       "622              17  ['2018', 'w51']  2018    201851  2018-12-22     12   \n",
       "623              17  ['2018', 'w52']  2018    201852  2018-12-29     12   \n",
       "\n",
       "     temperature_medellin  percipitation_medellin  \\\n",
       "0               21.009283               13.096688   \n",
       "1               21.009283                8.437044   \n",
       "2               21.009283               19.373165   \n",
       "3               21.009283                0.000000   \n",
       "4               20.982925                3.725206   \n",
       "..                    ...                     ...   \n",
       "619             20.936353                8.916642   \n",
       "620             20.936353               17.006086   \n",
       "621             20.936353                5.673248   \n",
       "622             20.936353                2.785103   \n",
       "623             20.936353                0.000000   \n",
       "\n",
       "     percipitation_medellin_rural  percipitation_medellin_urbano  \n",
       "0                       14.097693                      12.628933  \n",
       "1                        6.910390                       9.067214  \n",
       "2                       21.616968                      18.406665  \n",
       "3                        0.000000                       0.000000  \n",
       "4                        3.144225                       3.901021  \n",
       "..                            ...                            ...  \n",
       "619                      8.656351                       9.114419  \n",
       "620                     16.076869                      17.334870  \n",
       "621                      5.388778                       5.794555  \n",
       "622                      2.708024                       2.810241  \n",
       "623                      0.000000                       0.000000  \n",
       "\n",
       "[624 rows x 10 columns]"
      ]
     },
     "execution_count": 4,
     "metadata": {},
     "output_type": "execute_result"
    }
   ],
   "source": [
    "# Read Data\n",
    "merge_cases_temp_precip = pd.read_csv('Data/merge_cases_temperature_WeeklyPrecipitation_timeseries.csv')\n",
    "# Remove extra column\n",
    "merge_cases_temp_precip = merge_cases_temp_precip.drop('Unnamed: 0', 1)\n",
    "merge_cases_temp_precip.LastDayWeek = pd.to_datetime(merge_cases_temp_precip.LastDayWeek)\n",
    "merge_cases_temp_precip"
   ]
  },
  {
   "cell_type": "markdown",
   "id": "JDVHbhn9zGhb",
   "metadata": {
    "id": "JDVHbhn9zGhb"
   },
   "source": [
    "# Time Series"
   ]
  },
  {
   "cell_type": "markdown",
   "id": "zxNDtkPwhKJt",
   "metadata": {
    "id": "zxNDtkPwhKJt"
   },
   "source": [
    "## Data visualization"
   ]
  },
  {
   "cell_type": "code",
   "execution_count": 5,
   "id": "6d55f16d",
   "metadata": {
    "colab": {
     "base_uri": "https://localhost:8080/",
     "height": 497
    },
    "executionInfo": {
     "elapsed": 355,
     "status": "ok",
     "timestamp": 1625027749334,
     "user": {
      "displayName": "DAVID RESTREPO",
      "photoUrl": "https://lh3.googleusercontent.com/a-/AOh14GgqxItBQRJ0dDzIdCZM0BMuA0KeTKTlKRNGMApY=s64",
      "userId": "09638303782015555303"
     },
     "user_tz": 300
    },
    "id": "6d55f16d",
    "outputId": "8fe0d2b7-d732-4a29-e774-937e949d8bb4"
   },
   "outputs": [
    {
     "data": {
      "image/png": "[encoded data removed]",
      "text/plain": [
       "<Figure size 864x576 with 1 Axes>"
      ]
     },
     "metadata": {
      "needs_background": "light"
     },
     "output_type": "display_data"
    }
   ],
   "source": [
    "# Dengue cases in time\n",
    "def timeseries (x_axis, y_axis, x_label):\n",
    "    plt.figure(figsize = (12, 8))\n",
    "    plt.plot(x_axis, y_axis, color ='black')\n",
    "    plt.xlabel(x_label) \n",
    "    plt.ylabel('Dengue Cases')\n",
    "\n",
    "timeseries(merge_cases_temp_precip['LastDayWeek'], merge_cases_temp_precip['cases_medellin'], 'cases by Week')"
   ]
  },
  {
   "cell_type": "markdown",
   "id": "3be7476a",
   "metadata": {
    "id": "3be7476a"
   },
   "source": [
    "## DataSet"
   ]
  },
  {
   "cell_type": "code",
   "execution_count": 6,
   "id": "b3934515",
   "metadata": {
    "colab": {
     "base_uri": "https://localhost:8080/",
     "height": 450
    },
    "executionInfo": {
     "elapsed": 9,
     "status": "ok",
     "timestamp": 1625027749335,
     "user": {
      "displayName": "DAVID RESTREPO",
      "photoUrl": "https://lh3.googleusercontent.com/a-/AOh14GgqxItBQRJ0dDzIdCZM0BMuA0KeTKTlKRNGMApY=s64",
      "userId": "09638303782015555303"
     },
     "user_tz": 300
    },
    "id": "b3934515",
    "outputId": "cca4ec44-a74a-4ce8-eb4c-491206346213"
   },
   "outputs": [
    {
     "data": {
      "text/html": [
       "<div>\n",
       "<style scoped>\n",
       "    .dataframe tbody tr th:only-of-type {\n",
       "        vertical-align: middle;\n",
       "    }\n",
       "\n",
       "    .dataframe tbody tr th {\n",
       "        vertical-align: top;\n",
       "    }\n",
       "\n",
       "    .dataframe thead th {\n",
       "        text-align: right;\n",
       "    }\n",
       "</style>\n",
       "<table border=\"1\" class=\"dataframe\">\n",
       "  <thead>\n",
       "    <tr style=\"text-align: right;\">\n",
       "      <th></th>\n",
       "      <th>temperature_medellin</th>\n",
       "      <th>percipitation_medellin</th>\n",
       "      <th>cases_medellin</th>\n",
       "    </tr>\n",
       "    <tr>\n",
       "      <th>LastDayWeek</th>\n",
       "      <th></th>\n",
       "      <th></th>\n",
       "      <th></th>\n",
       "    </tr>\n",
       "  </thead>\n",
       "  <tbody>\n",
       "    <tr>\n",
       "      <th>2007-01-06</th>\n",
       "      <td>21.009283</td>\n",
       "      <td>13.096688</td>\n",
       "      <td>1</td>\n",
       "    </tr>\n",
       "    <tr>\n",
       "      <th>2007-01-13</th>\n",
       "      <td>21.009283</td>\n",
       "      <td>8.437044</td>\n",
       "      <td>0</td>\n",
       "    </tr>\n",
       "    <tr>\n",
       "      <th>2007-01-20</th>\n",
       "      <td>21.009283</td>\n",
       "      <td>19.373165</td>\n",
       "      <td>0</td>\n",
       "    </tr>\n",
       "    <tr>\n",
       "      <th>2007-01-27</th>\n",
       "      <td>21.009283</td>\n",
       "      <td>0.000000</td>\n",
       "      <td>0</td>\n",
       "    </tr>\n",
       "    <tr>\n",
       "      <th>2007-02-03</th>\n",
       "      <td>20.982925</td>\n",
       "      <td>3.725206</td>\n",
       "      <td>0</td>\n",
       "    </tr>\n",
       "    <tr>\n",
       "      <th>...</th>\n",
       "      <td>...</td>\n",
       "      <td>...</td>\n",
       "      <td>...</td>\n",
       "    </tr>\n",
       "    <tr>\n",
       "      <th>2018-12-01</th>\n",
       "      <td>20.936353</td>\n",
       "      <td>8.916642</td>\n",
       "      <td>28</td>\n",
       "    </tr>\n",
       "    <tr>\n",
       "      <th>2018-12-08</th>\n",
       "      <td>20.936353</td>\n",
       "      <td>17.006086</td>\n",
       "      <td>12</td>\n",
       "    </tr>\n",
       "    <tr>\n",
       "      <th>2018-12-15</th>\n",
       "      <td>20.936353</td>\n",
       "      <td>5.673248</td>\n",
       "      <td>27</td>\n",
       "    </tr>\n",
       "    <tr>\n",
       "      <th>2018-12-22</th>\n",
       "      <td>20.936353</td>\n",
       "      <td>2.785103</td>\n",
       "      <td>17</td>\n",
       "    </tr>\n",
       "    <tr>\n",
       "      <th>2018-12-29</th>\n",
       "      <td>20.936353</td>\n",
       "      <td>0.000000</td>\n",
       "      <td>17</td>\n",
       "    </tr>\n",
       "  </tbody>\n",
       "</table>\n",
       "<p>624 rows × 3 columns</p>\n",
       "</div>"
      ],
      "text/plain": [
       "             temperature_medellin  percipitation_medellin  cases_medellin\n",
       "LastDayWeek                                                              \n",
       "2007-01-06              21.009283               13.096688               1\n",
       "2007-01-13              21.009283                8.437044               0\n",
       "2007-01-20              21.009283               19.373165               0\n",
       "2007-01-27              21.009283                0.000000               0\n",
       "2007-02-03              20.982925                3.725206               0\n",
       "...                           ...                     ...             ...\n",
       "2018-12-01              20.936353                8.916642              28\n",
       "2018-12-08              20.936353               17.006086              12\n",
       "2018-12-15              20.936353                5.673248              27\n",
       "2018-12-22              20.936353                2.785103              17\n",
       "2018-12-29              20.936353                0.000000              17\n",
       "\n",
       "[624 rows x 3 columns]"
      ]
     },
     "execution_count": 6,
     "metadata": {},
     "output_type": "execute_result"
    }
   ],
   "source": [
    "dataset = merge_cases_temp_precip[['temperature_medellin','percipitation_medellin','cases_medellin']]\n",
    "dataset.index = merge_cases_temp_precip.LastDayWeek\n",
    "dataset  #DF"
   ]
  },
  {
   "cell_type": "markdown",
   "id": "JeddvRFhkTnY",
   "metadata": {
    "id": "JeddvRFhkTnY"
   },
   "source": [
    "# Prepare data to supervised learning time series"
   ]
  },
  {
   "cell_type": "markdown",
   "id": "LFsBjJYWhZaQ",
   "metadata": {
    "id": "LFsBjJYWhZaQ"
   },
   "source": [
    "we will use:\n",
    "* data: is the dataframe in our case (Dengue Cases, Precipitation and Temperature)\n",
    "* n_in: is the number of lag weeks in the past (length of window)\n",
    "\n",
    "The heart of this \"series_to_supervised\" function is the <a href=\"https://pandas.pydata.org/pandas-docs/stable/reference/api/pandas.DataFrame.shift.html\">shift</a> fuction of pandas\n",
    "\n",
    "This function gets as input the number of periods(in this case the number of weeks represented as rows up or down in the dataframe) to move the columns of a dataframe.\n",
    "E.g. \n",
    "* If we have merge_cases_temp_precip['cases_medellin'].shift(1) all the rows of column cases_medellin will move one row down\n",
    "* If we have merge_cases_temp_precip['cases_medellin'].shift(-1) all the rows of column cases_medellin will move one row up\n"
   ]
  },
  {
   "cell_type": "code",
   "execution_count": 7,
   "id": "BH5JesTNkW1V",
   "metadata": {
    "id": "BH5JesTNkW1V"
   },
   "outputs": [],
   "source": [
    "# prepare data for lstm\n",
    "from pandas import read_csv\n",
    "from pandas import DataFrame\n",
    "from pandas import concat\n",
    "from sklearn.preprocessing import MinMaxScaler\n",
    "\n",
    "# convert series to supervised learning\n",
    "def series_to_supervised(data, n_in=1, n_out=1, dropnan=True):\n",
    "\tn_vars = 1 if type(data) is list else data.shape[1]\n",
    "\tdf = DataFrame(data)\n",
    "\tcols, names = list(), list()\n",
    "\t# input sequence (t-n, ... t-1)\n",
    "\tfor i in range(n_in, 0, -1):\n",
    "\t\tcols.append(df.shift(i))\n",
    "\t\tnames += [('var%d(t-%d)' % (j+1, i)) for j in range(n_vars)]\n",
    "\t# forecast sequence (t, t+1, ... t+n)\n",
    "\tfor i in range(0, n_out):\n",
    "\t\tcols.append(df.shift(-i))\n",
    "\t\tif i == 0:\n",
    "\t\t\tnames += [('var%d(t)' % (j+1)) for j in range(n_vars)]\n",
    "\t\telse:\n",
    "\t\t\tnames += [('var%d(t+%d)' % (j+1, i)) for j in range(n_vars)]\n",
    "\t# put it all together\n",
    "\tagg = concat(cols, axis=1)\n",
    "\tagg.columns = names\n",
    "\t# drop rows with NaN values\n",
    "\tif dropnan:\n",
    "\t\tagg.dropna(inplace=True)\n",
    "\treturn agg\n",
    " "
   ]
  },
  {
   "cell_type": "markdown",
   "id": "4hM9aJnekTOF",
   "metadata": {
    "id": "4hM9aJnekTOF"
   },
   "source": [
    "### normalize features\n",
    "As we are working with a Neural Network the data values ​​must be normalized to help backpropagation algorithm\n",
    "So we will use the <a href=\"https://scikit-learn.org/stable/modules/generated/sklearn.preprocessing.MinMaxScaler.html\">MinMaxScaler</a> from sklearn"
   ]
  },
  {
   "cell_type": "code",
   "execution_count": 8,
   "id": "gq1acAcggdew",
   "metadata": {
    "id": "gq1acAcggdew"
   },
   "outputs": [],
   "source": [
    "scaler = MinMaxScaler(feature_range=(0, 1)) # Scaler between 0 and 1\n",
    "scaled = scaler.fit_transform(dataset) # As we can see data set has 3 Columns (This shape is also important for inverse scaler as we will see in future)"
   ]
  },
  {
   "cell_type": "code",
   "execution_count": 9,
   "id": "HhBFNwjskQ0u",
   "metadata": {
    "colab": {
     "base_uri": "https://localhost:8080/",
     "height": 241
    },
    "executionInfo": {
     "elapsed": 236,
     "status": "ok",
     "timestamp": 1625027749565,
     "user": {
      "displayName": "DAVID RESTREPO",
      "photoUrl": "https://lh3.googleusercontent.com/a-/AOh14GgqxItBQRJ0dDzIdCZM0BMuA0KeTKTlKRNGMApY=s64",
      "userId": "09638303782015555303"
     },
     "user_tz": 300
    },
    "id": "HhBFNwjskQ0u",
    "outputId": "8732bf52-42b7-42ea-9b72-48aff0876925"
   },
   "outputs": [
    {
     "data": {
      "text/html": [
       "<div>\n",
       "<style scoped>\n",
       "    .dataframe tbody tr th:only-of-type {\n",
       "        vertical-align: middle;\n",
       "    }\n",
       "\n",
       "    .dataframe tbody tr th {\n",
       "        vertical-align: top;\n",
       "    }\n",
       "\n",
       "    .dataframe thead th {\n",
       "        text-align: right;\n",
       "    }\n",
       "</style>\n",
       "<table border=\"1\" class=\"dataframe\">\n",
       "  <thead>\n",
       "    <tr style=\"text-align: right;\">\n",
       "      <th></th>\n",
       "      <th>var1(t-10)</th>\n",
       "      <th>var2(t-10)</th>\n",
       "      <th>var3(t-10)</th>\n",
       "      <th>var1(t-9)</th>\n",
       "      <th>var2(t-9)</th>\n",
       "      <th>var3(t-9)</th>\n",
       "      <th>var1(t-8)</th>\n",
       "      <th>var2(t-8)</th>\n",
       "      <th>var3(t-8)</th>\n",
       "      <th>var1(t-7)</th>\n",
       "      <th>...</th>\n",
       "      <th>var3(t-3)</th>\n",
       "      <th>var1(t-2)</th>\n",
       "      <th>var2(t-2)</th>\n",
       "      <th>var3(t-2)</th>\n",
       "      <th>var1(t-1)</th>\n",
       "      <th>var2(t-1)</th>\n",
       "      <th>var3(t-1)</th>\n",
       "      <th>var1(t)</th>\n",
       "      <th>var2(t)</th>\n",
       "      <th>var3(t)</th>\n",
       "    </tr>\n",
       "  </thead>\n",
       "  <tbody>\n",
       "    <tr>\n",
       "      <th>10</th>\n",
       "      <td>0.364241</td>\n",
       "      <td>0.103033</td>\n",
       "      <td>0.00122</td>\n",
       "      <td>0.364241</td>\n",
       "      <td>0.066375</td>\n",
       "      <td>0.0</td>\n",
       "      <td>0.364241</td>\n",
       "      <td>0.152411</td>\n",
       "      <td>0.0</td>\n",
       "      <td>0.364241</td>\n",
       "      <td>...</td>\n",
       "      <td>0.0</td>\n",
       "      <td>0.493659</td>\n",
       "      <td>0.251632</td>\n",
       "      <td>0.0</td>\n",
       "      <td>0.493659</td>\n",
       "      <td>0.194133</td>\n",
       "      <td>0.00000</td>\n",
       "      <td>0.493659</td>\n",
       "      <td>0.339599</td>\n",
       "      <td>0.00000</td>\n",
       "    </tr>\n",
       "    <tr>\n",
       "      <th>11</th>\n",
       "      <td>0.364241</td>\n",
       "      <td>0.066375</td>\n",
       "      <td>0.00000</td>\n",
       "      <td>0.364241</td>\n",
       "      <td>0.152411</td>\n",
       "      <td>0.0</td>\n",
       "      <td>0.364241</td>\n",
       "      <td>0.000000</td>\n",
       "      <td>0.0</td>\n",
       "      <td>0.356053</td>\n",
       "      <td>...</td>\n",
       "      <td>0.0</td>\n",
       "      <td>0.493659</td>\n",
       "      <td>0.194133</td>\n",
       "      <td>0.0</td>\n",
       "      <td>0.493659</td>\n",
       "      <td>0.339599</td>\n",
       "      <td>0.00000</td>\n",
       "      <td>0.493659</td>\n",
       "      <td>0.287922</td>\n",
       "      <td>0.00000</td>\n",
       "    </tr>\n",
       "    <tr>\n",
       "      <th>12</th>\n",
       "      <td>0.364241</td>\n",
       "      <td>0.152411</td>\n",
       "      <td>0.00000</td>\n",
       "      <td>0.364241</td>\n",
       "      <td>0.000000</td>\n",
       "      <td>0.0</td>\n",
       "      <td>0.356053</td>\n",
       "      <td>0.029307</td>\n",
       "      <td>0.0</td>\n",
       "      <td>0.356053</td>\n",
       "      <td>...</td>\n",
       "      <td>0.0</td>\n",
       "      <td>0.493659</td>\n",
       "      <td>0.339599</td>\n",
       "      <td>0.0</td>\n",
       "      <td>0.493659</td>\n",
       "      <td>0.287922</td>\n",
       "      <td>0.00000</td>\n",
       "      <td>0.493659</td>\n",
       "      <td>0.718713</td>\n",
       "      <td>0.00000</td>\n",
       "    </tr>\n",
       "    <tr>\n",
       "      <th>13</th>\n",
       "      <td>0.364241</td>\n",
       "      <td>0.000000</td>\n",
       "      <td>0.00000</td>\n",
       "      <td>0.356053</td>\n",
       "      <td>0.029307</td>\n",
       "      <td>0.0</td>\n",
       "      <td>0.356053</td>\n",
       "      <td>0.095100</td>\n",
       "      <td>0.0</td>\n",
       "      <td>0.356053</td>\n",
       "      <td>...</td>\n",
       "      <td>0.0</td>\n",
       "      <td>0.493659</td>\n",
       "      <td>0.287922</td>\n",
       "      <td>0.0</td>\n",
       "      <td>0.493659</td>\n",
       "      <td>0.718713</td>\n",
       "      <td>0.00000</td>\n",
       "      <td>0.434987</td>\n",
       "      <td>0.456353</td>\n",
       "      <td>0.00122</td>\n",
       "    </tr>\n",
       "    <tr>\n",
       "      <th>14</th>\n",
       "      <td>0.356053</td>\n",
       "      <td>0.029307</td>\n",
       "      <td>0.00000</td>\n",
       "      <td>0.356053</td>\n",
       "      <td>0.095100</td>\n",
       "      <td>0.0</td>\n",
       "      <td>0.356053</td>\n",
       "      <td>0.011560</td>\n",
       "      <td>0.0</td>\n",
       "      <td>0.356053</td>\n",
       "      <td>...</td>\n",
       "      <td>0.0</td>\n",
       "      <td>0.493659</td>\n",
       "      <td>0.718713</td>\n",
       "      <td>0.0</td>\n",
       "      <td>0.434987</td>\n",
       "      <td>0.456353</td>\n",
       "      <td>0.00122</td>\n",
       "      <td>0.434987</td>\n",
       "      <td>0.371302</td>\n",
       "      <td>0.00000</td>\n",
       "    </tr>\n",
       "  </tbody>\n",
       "</table>\n",
       "<p>5 rows × 33 columns</p>\n",
       "</div>"
      ],
      "text/plain": [
       "    var1(t-10)  var2(t-10)  var3(t-10)  var1(t-9)  var2(t-9)  var3(t-9)  \\\n",
       "10    0.364241    0.103033     0.00122   0.364241   0.066375        0.0   \n",
       "11    0.364241    0.066375     0.00000   0.364241   0.152411        0.0   \n",
       "12    0.364241    0.152411     0.00000   0.364241   0.000000        0.0   \n",
       "13    0.364241    0.000000     0.00000   0.356053   0.029307        0.0   \n",
       "14    0.356053    0.029307     0.00000   0.356053   0.095100        0.0   \n",
       "\n",
       "    var1(t-8)  var2(t-8)  var3(t-8)  var1(t-7)  ...  var3(t-3)  var1(t-2)  \\\n",
       "10   0.364241   0.152411        0.0   0.364241  ...        0.0   0.493659   \n",
       "11   0.364241   0.000000        0.0   0.356053  ...        0.0   0.493659   \n",
       "12   0.356053   0.029307        0.0   0.356053  ...        0.0   0.493659   \n",
       "13   0.356053   0.095100        0.0   0.356053  ...        0.0   0.493659   \n",
       "14   0.356053   0.011560        0.0   0.356053  ...        0.0   0.493659   \n",
       "\n",
       "    var2(t-2)  var3(t-2)  var1(t-1)  var2(t-1)  var3(t-1)   var1(t)   var2(t)  \\\n",
       "10   0.251632        0.0   0.493659   0.194133    0.00000  0.493659  0.339599   \n",
       "11   0.194133        0.0   0.493659   0.339599    0.00000  0.493659  0.287922   \n",
       "12   0.339599        0.0   0.493659   0.287922    0.00000  0.493659  0.718713   \n",
       "13   0.287922        0.0   0.493659   0.718713    0.00000  0.434987  0.456353   \n",
       "14   0.718713        0.0   0.434987   0.456353    0.00122  0.434987  0.371302   \n",
       "\n",
       "    var3(t)  \n",
       "10  0.00000  \n",
       "11  0.00000  \n",
       "12  0.00000  \n",
       "13  0.00122  \n",
       "14  0.00000  \n",
       "\n",
       "[5 rows x 33 columns]"
      ]
     },
     "execution_count": 9,
     "metadata": {},
     "output_type": "execute_result"
    }
   ],
   "source": [
    "# length of window\n",
    "weeks = 10\n",
    "\n",
    "# frame as supervised learning\n",
    "data = series_to_supervised(scaled, n_in=weeks)\n",
    "DataFrame(data).head()"
   ]
  },
  {
   "cell_type": "markdown",
   "id": "Uss0IPaQqnWB",
   "metadata": {
    "id": "Uss0IPaQqnWB"
   },
   "source": [
    "## Features Set"
   ]
  },
  {
   "cell_type": "code",
   "execution_count": 10,
   "id": "eWFelunOgdml",
   "metadata": {
    "colab": {
     "base_uri": "https://localhost:8080/"
    },
    "executionInfo": {
     "elapsed": 8,
     "status": "ok",
     "timestamp": 1625027749565,
     "user": {
      "displayName": "DAVID RESTREPO",
      "photoUrl": "https://lh3.googleusercontent.com/a-/AOh14GgqxItBQRJ0dDzIdCZM0BMuA0KeTKTlKRNGMApY=s64",
      "userId": "09638303782015555303"
     },
     "user_tz": 300
    },
    "id": "eWFelunOgdml",
    "outputId": "6c0bc37a-ca0c-499b-91cb-0e8affe88d49"
   },
   "outputs": [
    {
     "data": {
      "text/plain": [
       "array([[0.36424094, 0.10303316, 0.00121951, ..., 0.49365894, 0.19413316,\n",
       "        0.        ],\n",
       "       [0.36424094, 0.0663752 , 0.        , ..., 0.49365894, 0.33959896,\n",
       "        0.        ],\n",
       "       [0.36424094, 0.15241093, 0.        , ..., 0.49365894, 0.28792167,\n",
       "        0.        ],\n",
       "       ...,\n",
       "       [0.28320738, 0.60463713, 0.03292683, ..., 0.34158643, 0.13378884,\n",
       "        0.01463415],\n",
       "       [0.28320738, 0.20007748, 0.02804878, ..., 0.34158643, 0.0446321 ,\n",
       "        0.03292683],\n",
       "       [0.28320738, 0.3982439 , 0.02926829, ..., 0.34158643, 0.02191073,\n",
       "        0.02073171]])"
      ]
     },
     "execution_count": 10,
     "metadata": {},
     "output_type": "execute_result"
    }
   ],
   "source": [
    "# We define the number of features as 3 (Temperature, Precipitation and Dengue Cases)\n",
    "n_features = 3\n",
    "# The features to train the model will be all except the values of the actual week \n",
    "# We can't use the temperature and precipitation in week t because whe need to resample a a 3D Array\n",
    "features_set = DataFrame(data.values[:,:-n_features])\n",
    "# Convert pandas data frame to np.array to reshape as 3D Array\n",
    "features_set = features_set.to_numpy()\n",
    "features_set"
   ]
  },
  {
   "cell_type": "markdown",
   "id": "ojvAeBMPr3ol",
   "metadata": {
    "id": "ojvAeBMPr3ol"
   },
   "source": [
    "## Labels Set"
   ]
  },
  {
   "cell_type": "code",
   "execution_count": 11,
   "id": "q4jhxnI5gdqz",
   "metadata": {
    "colab": {
     "base_uri": "https://localhost:8080/"
    },
    "executionInfo": {
     "elapsed": 7,
     "status": "ok",
     "timestamp": 1625027749565,
     "user": {
      "displayName": "DAVID RESTREPO",
      "photoUrl": "https://lh3.googleusercontent.com/a-/AOh14GgqxItBQRJ0dDzIdCZM0BMuA0KeTKTlKRNGMApY=s64",
      "userId": "09638303782015555303"
     },
     "user_tz": 300
    },
    "id": "q4jhxnI5gdqz",
    "outputId": "51826690-f319-4d9c-ab7b-bc84a5391782"
   },
   "outputs": [
    {
     "data": {
      "text/plain": [
       "array([[0.        ],\n",
       "       [0.        ],\n",
       "       [0.        ],\n",
       "       [0.00121951],\n",
       "       [0.        ],\n",
       "       [0.        ],\n",
       "       [0.        ],\n",
       "       [0.00121951],\n",
       "       [0.        ],\n",
       "       [0.        ],\n",
       "       [0.        ],\n",
       "       [0.        ],\n",
       "       [0.        ],\n",
       "       [0.        ],\n",
       "       [0.        ],\n",
       "       [0.        ],\n",
       "       [0.        ],\n",
       "       [0.00121951],\n",
       "       [0.        ],\n",
       "       [0.        ],\n",
       "       [0.        ],\n",
       "       [0.        ],\n",
       "       [0.        ],\n",
       "       [0.        ],\n",
       "       [0.        ],\n",
       "       [0.        ],\n",
       "       [0.        ],\n",
       "       [0.        ],\n",
       "       [0.        ],\n",
       "       [0.        ],\n",
       "       [0.        ],\n",
       "       [0.        ],\n",
       "       [0.        ],\n",
       "       [0.        ],\n",
       "       [0.        ],\n",
       "       [0.        ],\n",
       "       [0.        ],\n",
       "       [0.        ],\n",
       "       [0.        ],\n",
       "       [0.        ],\n",
       "       [0.        ],\n",
       "       [0.00121951],\n",
       "       [0.03170732],\n",
       "       [0.02926829],\n",
       "       [0.02560976],\n",
       "       [0.02195122],\n",
       "       [0.01829268],\n",
       "       [0.02073171],\n",
       "       [0.02073171],\n",
       "       [0.02195122],\n",
       "       [0.02682927],\n",
       "       [0.0304878 ],\n",
       "       [0.0195122 ],\n",
       "       [0.01829268],\n",
       "       [0.02439024],\n",
       "       [0.0195122 ],\n",
       "       [0.02073171],\n",
       "       [0.02195122],\n",
       "       [0.01463415],\n",
       "       [0.0195122 ],\n",
       "       [0.01463415],\n",
       "       [0.02317073],\n",
       "       [0.01463415],\n",
       "       [0.02439024],\n",
       "       [0.02560976],\n",
       "       [0.02804878],\n",
       "       [0.01829268],\n",
       "       [0.01585366],\n",
       "       [0.00853659],\n",
       "       [0.01829268],\n",
       "       [0.01829268],\n",
       "       [0.02073171],\n",
       "       [0.01219512],\n",
       "       [0.01829268],\n",
       "       [0.02560976],\n",
       "       [0.01463415],\n",
       "       [0.02804878],\n",
       "       [0.0195122 ],\n",
       "       [0.02682927],\n",
       "       [0.01707317],\n",
       "       [0.0195122 ],\n",
       "       [0.02195122],\n",
       "       [0.02682927],\n",
       "       [0.02317073],\n",
       "       [0.01829268],\n",
       "       [0.0304878 ],\n",
       "       [0.02804878],\n",
       "       [0.01219512],\n",
       "       [0.02317073],\n",
       "       [0.01829268],\n",
       "       [0.02073171],\n",
       "       [0.01585366],\n",
       "       [0.02317073],\n",
       "       [0.0195122 ],\n",
       "       [0.00487805],\n",
       "       [0.00487805],\n",
       "       [0.00365854],\n",
       "       [0.00243902],\n",
       "       [0.00365854],\n",
       "       [0.00121951],\n",
       "       [0.00121951],\n",
       "       [0.00365854],\n",
       "       [0.00121951],\n",
       "       [0.00121951],\n",
       "       [0.00243902],\n",
       "       [0.00487805],\n",
       "       [0.        ],\n",
       "       [0.00243902],\n",
       "       [0.00365854],\n",
       "       [0.00243902],\n",
       "       [0.        ],\n",
       "       [0.00121951],\n",
       "       [0.        ],\n",
       "       [0.00609756],\n",
       "       [0.00609756],\n",
       "       [0.00609756],\n",
       "       [0.00853659],\n",
       "       [0.00731707],\n",
       "       [0.00365854],\n",
       "       [0.00731707],\n",
       "       [0.00853659],\n",
       "       [0.0097561 ],\n",
       "       [0.00609756],\n",
       "       [0.00731707],\n",
       "       [0.00731707],\n",
       "       [0.00609756],\n",
       "       [0.01707317],\n",
       "       [0.01219512],\n",
       "       [0.01219512],\n",
       "       [0.00853659],\n",
       "       [0.00731707],\n",
       "       [0.01219512],\n",
       "       [0.0304878 ],\n",
       "       [0.02439024],\n",
       "       [0.02195122],\n",
       "       [0.01829268],\n",
       "       [0.01585366],\n",
       "       [0.01341463],\n",
       "       [0.01585366],\n",
       "       [0.01829268],\n",
       "       [0.01463415],\n",
       "       [0.03170732],\n",
       "       [0.0195122 ],\n",
       "       [0.02926829],\n",
       "       [0.02560976],\n",
       "       [0.0195122 ],\n",
       "       [0.03658537],\n",
       "       [0.04390244],\n",
       "       [0.04512195],\n",
       "       [0.05609756],\n",
       "       [0.10121951],\n",
       "       [0.10121951],\n",
       "       [0.11707317],\n",
       "       [0.11585366],\n",
       "       [0.1402439 ],\n",
       "       [0.13414634],\n",
       "       [0.16585366],\n",
       "       [0.16219512],\n",
       "       [0.20487805],\n",
       "       [0.28536585],\n",
       "       [0.38292683],\n",
       "       [0.54268293],\n",
       "       [0.62317073],\n",
       "       [0.68536585],\n",
       "       [0.78658537],\n",
       "       [0.89146341],\n",
       "       [0.85243902],\n",
       "       [0.89512195],\n",
       "       [1.        ],\n",
       "       [0.95365854],\n",
       "       [0.79878049],\n",
       "       [0.79390244],\n",
       "       [0.69756098],\n",
       "       [0.65487805],\n",
       "       [0.63658537],\n",
       "       [0.54512195],\n",
       "       [0.65365854],\n",
       "       [0.60121951],\n",
       "       [0.60121951],\n",
       "       [0.54634146],\n",
       "       [0.49878049],\n",
       "       [0.42317073],\n",
       "       [0.32073171],\n",
       "       [0.35365854],\n",
       "       [0.25487805],\n",
       "       [0.2       ],\n",
       "       [0.20243902],\n",
       "       [0.15487805],\n",
       "       [0.14756098],\n",
       "       [0.09756098],\n",
       "       [0.10853659],\n",
       "       [0.08170732],\n",
       "       [0.05121951],\n",
       "       [0.05365854],\n",
       "       [0.05609756],\n",
       "       [0.05731707],\n",
       "       [0.0402439 ],\n",
       "       [0.03292683],\n",
       "       [0.04634146],\n",
       "       [0.03536585],\n",
       "       [0.03536585],\n",
       "       [0.03170732],\n",
       "       [0.02317073],\n",
       "       [0.01707317],\n",
       "       [0.01585366],\n",
       "       [0.01707317],\n",
       "       [0.02317073],\n",
       "       [0.01707317],\n",
       "       [0.01097561],\n",
       "       [0.01707317],\n",
       "       [0.00853659],\n",
       "       [0.01829268],\n",
       "       [0.02195122],\n",
       "       [0.0195122 ],\n",
       "       [0.0195122 ],\n",
       "       [0.01097561],\n",
       "       [0.01463415],\n",
       "       [0.01829268],\n",
       "       [0.02682927],\n",
       "       [0.01707317],\n",
       "       [0.02682927],\n",
       "       [0.02195122],\n",
       "       [0.02195122],\n",
       "       [0.02560976],\n",
       "       [0.03170732],\n",
       "       [0.02317073],\n",
       "       [0.01341463],\n",
       "       [0.01097561],\n",
       "       [0.0195122 ],\n",
       "       [0.01463415],\n",
       "       [0.01463415],\n",
       "       [0.01829268],\n",
       "       [0.02439024],\n",
       "       [0.01097561],\n",
       "       [0.01219512],\n",
       "       [0.01707317],\n",
       "       [0.01707317],\n",
       "       [0.00853659],\n",
       "       [0.01707317],\n",
       "       [0.01463415],\n",
       "       [0.01097561],\n",
       "       [0.01463415],\n",
       "       [0.00731707],\n",
       "       [0.00853659],\n",
       "       [0.01341463],\n",
       "       [0.01097561],\n",
       "       [0.01707317],\n",
       "       [0.01707317],\n",
       "       [0.02073171],\n",
       "       [0.02682927],\n",
       "       [0.0195122 ],\n",
       "       [0.01707317],\n",
       "       [0.02195122],\n",
       "       [0.01463415],\n",
       "       [0.01585366],\n",
       "       [0.0097561 ],\n",
       "       [0.00487805],\n",
       "       [0.01463415],\n",
       "       [0.01829268],\n",
       "       [0.01707317],\n",
       "       [0.0195122 ],\n",
       "       [0.01585366],\n",
       "       [0.0097561 ],\n",
       "       [0.02195122],\n",
       "       [0.01219512],\n",
       "       [0.01097561],\n",
       "       [0.01219512],\n",
       "       [0.01219512],\n",
       "       [0.01829268],\n",
       "       [0.01585366],\n",
       "       [0.01097561],\n",
       "       [0.01097561],\n",
       "       [0.02317073],\n",
       "       [0.0097561 ],\n",
       "       [0.01829268],\n",
       "       [0.01585366],\n",
       "       [0.01585366],\n",
       "       [0.01585366],\n",
       "       [0.01585366],\n",
       "       [0.01829268],\n",
       "       [0.01463415],\n",
       "       [0.01585366],\n",
       "       [0.01585366],\n",
       "       [0.02073171],\n",
       "       [0.01219512],\n",
       "       [0.02926829],\n",
       "       [0.02195122],\n",
       "       [0.02195122],\n",
       "       [0.01829268],\n",
       "       [0.0195122 ],\n",
       "       [0.02560976],\n",
       "       [0.02682927],\n",
       "       [0.01829268],\n",
       "       [0.01707317],\n",
       "       [0.01707317],\n",
       "       [0.01463415],\n",
       "       [0.0195122 ],\n",
       "       [0.0304878 ],\n",
       "       [0.01219512],\n",
       "       [0.02073171],\n",
       "       [0.01341463],\n",
       "       [0.00609756],\n",
       "       [0.03536585],\n",
       "       [0.05609756],\n",
       "       [0.03780488],\n",
       "       [0.04512195],\n",
       "       [0.05      ],\n",
       "       [0.05      ],\n",
       "       [0.03902439],\n",
       "       [0.04756098],\n",
       "       [0.06097561],\n",
       "       [0.05243902],\n",
       "       [0.05609756],\n",
       "       [0.06341463],\n",
       "       [0.04634146],\n",
       "       [0.07073171],\n",
       "       [0.07195122],\n",
       "       [0.06463415],\n",
       "       [0.05853659],\n",
       "       [0.05487805],\n",
       "       [0.05      ],\n",
       "       [0.07560976],\n",
       "       [0.05609756],\n",
       "       [0.07317073],\n",
       "       [0.07439024],\n",
       "       [0.0804878 ],\n",
       "       [0.08292683],\n",
       "       [0.05609756],\n",
       "       [0.06219512],\n",
       "       [0.07682927],\n",
       "       [0.05487805],\n",
       "       [0.05609756],\n",
       "       [0.03658537],\n",
       "       [0.05      ],\n",
       "       [0.05365854],\n",
       "       [0.06585366],\n",
       "       [0.04390244],\n",
       "       [0.04878049],\n",
       "       [0.04146341],\n",
       "       [0.04756098],\n",
       "       [0.05      ],\n",
       "       [0.05243902],\n",
       "       [0.05121951],\n",
       "       [0.05853659],\n",
       "       [0.05853659],\n",
       "       [0.04878049],\n",
       "       [0.05853659],\n",
       "       [0.04512195],\n",
       "       [0.05609756],\n",
       "       [0.05      ],\n",
       "       [0.04634146],\n",
       "       [0.05853659],\n",
       "       [0.04634146],\n",
       "       [0.02804878],\n",
       "       [0.0597561 ],\n",
       "       [0.0695122 ],\n",
       "       [0.07439024],\n",
       "       [0.07195122],\n",
       "       [0.04756098],\n",
       "       [0.04634146],\n",
       "       [0.04878049],\n",
       "       [0.0402439 ],\n",
       "       [0.03658537],\n",
       "       [0.0304878 ],\n",
       "       [0.04512195],\n",
       "       [0.03902439],\n",
       "       [0.03536585],\n",
       "       [0.04146341],\n",
       "       [0.03902439],\n",
       "       [0.03292683],\n",
       "       [0.05243902],\n",
       "       [0.05365854],\n",
       "       [0.04268293],\n",
       "       [0.03536585],\n",
       "       [0.03536585],\n",
       "       [0.03414634],\n",
       "       [0.05487805],\n",
       "       [0.05365854],\n",
       "       [0.03780488],\n",
       "       [0.05365854],\n",
       "       [0.09390244],\n",
       "       [0.06829268],\n",
       "       [0.08414634],\n",
       "       [0.09268293],\n",
       "       [0.13658537],\n",
       "       [0.11829268],\n",
       "       [0.1195122 ],\n",
       "       [0.1       ],\n",
       "       [0.10731707],\n",
       "       [0.15365854],\n",
       "       [0.15      ],\n",
       "       [0.14268293],\n",
       "       [0.13658537],\n",
       "       [0.11707317],\n",
       "       [0.11585366],\n",
       "       [0.08292683],\n",
       "       [0.10853659],\n",
       "       [0.09268293],\n",
       "       [0.08292683],\n",
       "       [0.08292683],\n",
       "       [0.0695122 ],\n",
       "       [0.05365854],\n",
       "       [0.0902439 ],\n",
       "       [0.07439024],\n",
       "       [0.09146341],\n",
       "       [0.07682927],\n",
       "       [0.12682927],\n",
       "       [0.09146341],\n",
       "       [0.07073171],\n",
       "       [0.0597561 ],\n",
       "       [0.06707317],\n",
       "       [0.04512195],\n",
       "       [0.04878049],\n",
       "       [0.03780488],\n",
       "       [0.05487805],\n",
       "       [0.03292683],\n",
       "       [0.04146341],\n",
       "       [0.04390244],\n",
       "       [0.03780488],\n",
       "       [0.04146341],\n",
       "       [0.03780488],\n",
       "       [0.02317073],\n",
       "       [0.0195122 ],\n",
       "       [0.03658537],\n",
       "       [0.03414634],\n",
       "       [0.03658537],\n",
       "       [0.02926829],\n",
       "       [0.03170732],\n",
       "       [0.05487805],\n",
       "       [0.0695122 ],\n",
       "       [0.04634146],\n",
       "       [0.08414634],\n",
       "       [0.07926829],\n",
       "       [0.06341463],\n",
       "       [0.08536585],\n",
       "       [0.05609756],\n",
       "       [0.0597561 ],\n",
       "       [0.07073171],\n",
       "       [0.08902439],\n",
       "       [0.08780488],\n",
       "       [0.08170732],\n",
       "       [0.12682927],\n",
       "       [0.12804878],\n",
       "       [0.14512195],\n",
       "       [0.14390244],\n",
       "       [0.12560976],\n",
       "       [0.14146341],\n",
       "       [0.15731707],\n",
       "       [0.15      ],\n",
       "       [0.12560976],\n",
       "       [0.14756098],\n",
       "       [0.12804878],\n",
       "       [0.11829268],\n",
       "       [0.16463415],\n",
       "       [0.15853659],\n",
       "       [0.17926829],\n",
       "       [0.22926829],\n",
       "       [0.2695122 ],\n",
       "       [0.28658537],\n",
       "       [0.33414634],\n",
       "       [0.30731707],\n",
       "       [0.3195122 ],\n",
       "       [0.33414634],\n",
       "       [0.32439024],\n",
       "       [0.28536585],\n",
       "       [0.31463415],\n",
       "       [0.33170732],\n",
       "       [0.2304878 ],\n",
       "       [0.28902439],\n",
       "       [0.33170732],\n",
       "       [0.41707317],\n",
       "       [0.3695122 ],\n",
       "       [0.45365854],\n",
       "       [0.4304878 ],\n",
       "       [0.41829268],\n",
       "       [0.50853659],\n",
       "       [0.54512195],\n",
       "       [0.56585366],\n",
       "       [0.5695122 ],\n",
       "       [0.57804878],\n",
       "       [0.62804878],\n",
       "       [0.64268293],\n",
       "       [0.64268293],\n",
       "       [0.62682927],\n",
       "       [0.72195122],\n",
       "       [0.64146341],\n",
       "       [0.56219512],\n",
       "       [0.58292683],\n",
       "       [0.61097561],\n",
       "       [0.59512195],\n",
       "       [0.65731707],\n",
       "       [0.56829268],\n",
       "       [0.48780488],\n",
       "       [0.46097561],\n",
       "       [0.41707317],\n",
       "       [0.4       ],\n",
       "       [0.43170732],\n",
       "       [0.32073171],\n",
       "       [0.3195122 ],\n",
       "       [0.31097561],\n",
       "       [0.27560976],\n",
       "       [0.22560976],\n",
       "       [0.22439024],\n",
       "       [0.23414634],\n",
       "       [0.22073171],\n",
       "       [0.17439024],\n",
       "       [0.14146341],\n",
       "       [0.15121951],\n",
       "       [0.14878049],\n",
       "       [0.13414634],\n",
       "       [0.10853659],\n",
       "       [0.12073171],\n",
       "       [0.09512195],\n",
       "       [0.08414634],\n",
       "       [0.0695122 ],\n",
       "       [0.06341463],\n",
       "       [0.05731707],\n",
       "       [0.06219512],\n",
       "       [0.06097561],\n",
       "       [0.05853659],\n",
       "       [0.04878049],\n",
       "       [0.05121951],\n",
       "       [0.05      ],\n",
       "       [0.06829268],\n",
       "       [0.05243902],\n",
       "       [0.0695122 ],\n",
       "       [0.04634146],\n",
       "       [0.04512195],\n",
       "       [0.04878049],\n",
       "       [0.05609756],\n",
       "       [0.05731707],\n",
       "       [0.05121951],\n",
       "       [0.0402439 ],\n",
       "       [0.04756098],\n",
       "       [0.02926829],\n",
       "       [0.04634146],\n",
       "       [0.06219512],\n",
       "       [0.06097561],\n",
       "       [0.04634146],\n",
       "       [0.04390244],\n",
       "       [0.04634146],\n",
       "       [0.03292683],\n",
       "       [0.01707317],\n",
       "       [0.05365854],\n",
       "       [0.03536585],\n",
       "       [0.03780488],\n",
       "       [0.04756098],\n",
       "       [0.04512195],\n",
       "       [0.05121951],\n",
       "       [0.03780488],\n",
       "       [0.03536585],\n",
       "       [0.03292683],\n",
       "       [0.03292683],\n",
       "       [0.02926829],\n",
       "       [0.03292683],\n",
       "       [0.02682927],\n",
       "       [0.03414634],\n",
       "       [0.02560976],\n",
       "       [0.03658537],\n",
       "       [0.01707317],\n",
       "       [0.02682927],\n",
       "       [0.02317073],\n",
       "       [0.0195122 ],\n",
       "       [0.04268293],\n",
       "       [0.03170732],\n",
       "       [0.03170732],\n",
       "       [0.03658537],\n",
       "       [0.02682927],\n",
       "       [0.02804878],\n",
       "       [0.02560976],\n",
       "       [0.0304878 ],\n",
       "       [0.02682927],\n",
       "       [0.01707317],\n",
       "       [0.02926829],\n",
       "       [0.02439024],\n",
       "       [0.02926829],\n",
       "       [0.02682927],\n",
       "       [0.02682927],\n",
       "       [0.02439024],\n",
       "       [0.02926829],\n",
       "       [0.02439024],\n",
       "       [0.02560976],\n",
       "       [0.02073171],\n",
       "       [0.02317073],\n",
       "       [0.02804878],\n",
       "       [0.02682927],\n",
       "       [0.02804878],\n",
       "       [0.02804878],\n",
       "       [0.03292683],\n",
       "       [0.04268293],\n",
       "       [0.02682927],\n",
       "       [0.02317073],\n",
       "       [0.02439024],\n",
       "       [0.02682927],\n",
       "       [0.02195122],\n",
       "       [0.0304878 ],\n",
       "       [0.03292683],\n",
       "       [0.0304878 ],\n",
       "       [0.01463415],\n",
       "       [0.02682927],\n",
       "       [0.02682927],\n",
       "       [0.03292683],\n",
       "       [0.02804878],\n",
       "       [0.02926829],\n",
       "       [0.02926829],\n",
       "       [0.02073171],\n",
       "       [0.02439024],\n",
       "       [0.01829268],\n",
       "       [0.05      ],\n",
       "       [0.03414634],\n",
       "       [0.01463415],\n",
       "       [0.03292683],\n",
       "       [0.02073171],\n",
       "       [0.02073171]])"
      ]
     },
     "execution_count": 11,
     "metadata": {},
     "output_type": "execute_result"
    }
   ],
   "source": [
    "# We will use Dengue cases in last week \n",
    "labels_set = DataFrame(data.values[:,-1])\n",
    "# Convert pandas data frame to np.array\n",
    "labels_set = labels_set.to_numpy()\n",
    "labels_set"
   ]
  },
  {
   "cell_type": "markdown",
   "id": "RlwXfwaLsHza",
   "metadata": {
    "id": "RlwXfwaLsHza"
   },
   "source": [
    "## Train Test Split"
   ]
  },
  {
   "cell_type": "code",
   "execution_count": 12,
   "id": "-sb-9LCMgdwr",
   "metadata": {
    "id": "-sb-9LCMgdwr"
   },
   "outputs": [],
   "source": [
    "# We need a sequence so we can't split randomly\n",
    "# To divide into Train (90%) and test (10%) to do that we need to know the 90% of the total dataframe\n",
    "size = features_set.shape[0]\n",
    "split = int(size*(9/10))"
   ]
  },
  {
   "cell_type": "markdown",
   "id": "_2LNWDMusZsl",
   "metadata": {
    "id": "_2LNWDMusZsl"
   },
   "source": [
    "### train"
   ]
  },
  {
   "cell_type": "code",
   "execution_count": 13,
   "id": "FJan_zurgd1q",
   "metadata": {
    "id": "FJan_zurgd1q"
   },
   "outputs": [],
   "source": [
    "# We will train with 1st 90% of data and test with last 10%\n",
    "train_X = features_set[:split] ##90% train\n",
    "train_y = labels_set[:split]  ##90% train"
   ]
  },
  {
   "cell_type": "markdown",
   "id": "t17j8OtzemAG",
   "metadata": {
    "id": "t17j8OtzemAG"
   },
   "source": [
    "### test"
   ]
  },
  {
   "cell_type": "code",
   "execution_count": 14,
   "id": "DS6rGhy5gd7B",
   "metadata": {
    "id": "DS6rGhy5gd7B"
   },
   "outputs": [],
   "source": [
    "test_X = features_set[split:] ##10% test\n",
    "test_y = labels_set[split:] ##10% test"
   ]
  },
  {
   "cell_type": "markdown",
   "id": "UExWrkq9Ib_J",
   "metadata": {
    "id": "UExWrkq9Ib_J"
   },
   "source": [
    "## Reshape"
   ]
  },
  {
   "cell_type": "code",
   "execution_count": 15,
   "id": "G1xmvWGQgeDB",
   "metadata": {
    "colab": {
     "base_uri": "https://localhost:8080/"
    },
    "executionInfo": {
     "elapsed": 6,
     "status": "ok",
     "timestamp": 1625027749566,
     "user": {
      "displayName": "DAVID RESTREPO",
      "photoUrl": "https://lh3.googleusercontent.com/a-/AOh14GgqxItBQRJ0dDzIdCZM0BMuA0KeTKTlKRNGMApY=s64",
      "userId": "09638303782015555303"
     },
     "user_tz": 300
    },
    "id": "G1xmvWGQgeDB",
    "outputId": "c3666bba-018f-4182-a51c-08593af61d1f"
   },
   "outputs": [
    {
     "name": "stdout",
     "output_type": "stream",
     "text": [
      "(552, 10, 3) (552, 1) (62, 10, 3) (62, 1)\n"
     ]
    }
   ],
   "source": [
    "# reshape input to be 3D [samples, timesteps, features]\n",
    "train_X = train_X.reshape((train_X.shape[0], weeks, n_features))\n",
    "test_X = test_X.reshape((test_X.shape[0], weeks, n_features))\n",
    "print(train_X.shape, train_y.shape, test_X.shape, test_y.shape)"
   ]
  },
  {
   "cell_type": "markdown",
   "id": "3e274707",
   "metadata": {},
   "source": [
    "### Transform ndarray to tensor pytorch"
   ]
  },
  {
   "cell_type": "code",
   "execution_count": 16,
   "id": "b16a8c6c",
   "metadata": {},
   "outputs": [],
   "source": [
    "import torch\n",
    "train_X = torch.from_numpy(train_X)\n",
    "train_y = torch.from_numpy(train_y)\n",
    "test_X = torch.from_numpy(test_X)\n",
    "test_y = torch.from_numpy(test_y)"
   ]
  },
  {
   "cell_type": "markdown",
   "id": "ac223af3",
   "metadata": {
    "id": "ac223af3"
   },
   "source": [
    "## Model"
   ]
  },
  {
   "cell_type": "markdown",
   "id": "h5ZtewNE5vXX",
   "metadata": {
    "id": "h5ZtewNE5vXX"
   },
   "source": [
    "### LSTM"
   ]
  },
  {
   "cell_type": "code",
   "execution_count": 17,
   "id": "wPD_nuIfgeK9",
   "metadata": {
    "id": "wPD_nuIfgeK9"
   },
   "outputs": [],
   "source": [
    "\"\"\" TODO: Pytorch Model implementation\"\"\"\n",
    "import torch.nn as nn\n",
    "from torch.autograd import Variable\n",
    "\n",
    "import random\n",
    "random.seed(0)\n",
    "\n",
    "torch.manual_seed(0)\n",
    "\n",
    "\n",
    "# num_classes: weeks to predict (1)\n",
    "# num_layers: # of activations from past LSTM layers\n",
    "# input_size: num of features (n_features = 3)\n",
    "# hidden_size: # Neurons in hidden layer (50)\n",
    "# seq_length: length of window (weeks)\n",
    "\n",
    "class LSTM(nn.Module):\n",
    "\n",
    "    def __init__(self, num_classes, input_size, hidden_size, num_layers):\n",
    "        super(LSTM, self).__init__()\n",
    "        \n",
    "        self.num_classes = num_classes\n",
    "        self.num_layers = num_layers\n",
    "        self.input_size = input_size\n",
    "        self.hidden_size = hidden_size\n",
    "        \n",
    "        # Define LSTM layer with hidden_size neurons, input_size inputs and 1 ho and c0\n",
    "        self.lstm = nn.LSTM(input_size=input_size, hidden_size=hidden_size,\n",
    "                            num_layers=num_layers, batch_first=True)\n",
    "        # Define ouput linear layer takes hidden_size inputs, and num_classes outputs\n",
    "        self.fc = nn.Linear(hidden_size, num_classes)\n",
    "        \n",
    "\n",
    "    def forward(self, x):\n",
    "        \n",
    "        h_0 = Variable(torch.zeros(\n",
    "            self.num_layers, x.size(0), self.hidden_size))\n",
    "        c_0 = Variable(torch.zeros(\n",
    "            self.num_layers, x.size(0), self.hidden_size))\n",
    "        # Propagate input through LSTM\n",
    "        ula, (h_out, _) = self.lstm(x, (h_0, c_0))\n",
    "        # print(f'last activation: {h_out}')\n",
    "        # print(f'output: {ula[:,-1,:]}') # Last Activation is output in last position\n",
    "        #print(h_out.shape)\n",
    "        h_out = h_out.view(-1, self.hidden_size)\n",
    "        out = self.fc(h_out)\n",
    "        \n",
    "        return out"
   ]
  },
  {
   "cell_type": "code",
   "execution_count": 18,
   "id": "CRKoVYEqmcav",
   "metadata": {
    "colab": {
     "base_uri": "https://localhost:8080/"
    },
    "executionInfo": {
     "elapsed": 6608,
     "status": "ok",
     "timestamp": 1625027756810,
     "user": {
      "displayName": "DAVID RESTREPO",
      "photoUrl": "https://lh3.googleusercontent.com/a-/AOh14GgqxItBQRJ0dDzIdCZM0BMuA0KeTKTlKRNGMApY=s64",
      "userId": "09638303782015555303"
     },
     "user_tz": 300
    },
    "id": "CRKoVYEqmcav",
    "outputId": "0540ea62-5239-46bd-a234-e7c5c7134343"
   },
   "outputs": [
    {
     "name": "stdout",
     "output_type": "stream",
     "text": [
      "Epoch: 0, loss: 0.05393\n",
      "Epoch: 100, loss: 0.00056\n",
      "Epoch: 200, loss: 0.00048\n",
      "Epoch: 300, loss: 0.00044\n",
      "Epoch: 400, loss: 0.00113\n",
      "Epoch: 500, loss: 0.00035\n",
      "Epoch: 600, loss: 0.00053\n",
      "Epoch: 700, loss: 0.00033\n",
      "Epoch: 800, loss: 0.00036\n",
      "Epoch: 900, loss: 0.00027\n",
      "Epoch: 1000, loss: 0.00031\n",
      "Epoch: 1100, loss: 0.00019\n",
      "Epoch: 1200, loss: 0.00017\n",
      "Epoch: 1300, loss: 0.00015\n",
      "Epoch: 1400, loss: 0.00013\n",
      "Epoch: 1500, loss: 0.00013\n",
      "Epoch: 1600, loss: 0.00011\n",
      "Epoch: 1700, loss: 0.00010\n",
      "Epoch: 1800, loss: 0.00011\n",
      "Epoch: 1900, loss: 0.00009\n"
     ]
    }
   ],
   "source": [
    "# Create instance of nn\n",
    "num_epochs = 2000\n",
    "learning_rate = 0.01\n",
    "\n",
    "input_size = n_features # Features\n",
    "hidden_size = 60 # LSTM layer neurons\n",
    "num_layers = 1 # Number of LSTM layers\n",
    "num_classes = 1 # Output Neurons\n",
    "\n",
    "# Instance\n",
    "lstm = LSTM(num_classes, input_size, hidden_size, num_layers)\n",
    "lstm = lstm.float()\n",
    "\n",
    "criterion = torch.nn.MSELoss()    # mean-squared error for regression\n",
    "optimizer = torch.optim.Adam(lstm.parameters(), lr=learning_rate)\n",
    "\n",
    "\n",
    "# fit network\n",
    "# Train the model\n",
    "for epoch in range(num_epochs):\n",
    "    outputs = lstm(train_X.float())\n",
    "    optimizer.zero_grad()\n",
    "    \n",
    "    # obtain the loss function\n",
    "    loss = criterion(outputs, train_y.float())\n",
    "    \n",
    "    loss.backward()\n",
    "    \n",
    "    optimizer.step()\n",
    "    if epoch % 100 == 0:\n",
    "      print(\"Epoch: %d, loss: %1.5f\" % (epoch, loss.item()))"
   ]
  },
  {
   "cell_type": "markdown",
   "id": "affd5824",
   "metadata": {},
   "source": [
    "# Test"
   ]
  },
  {
   "cell_type": "code",
   "execution_count": 19,
   "id": "C21mhuRullNL",
   "metadata": {
    "id": "C21mhuRullNL"
   },
   "outputs": [],
   "source": [
    "from math import sqrt\n",
    "from numpy import concatenate\n",
    "\n",
    "# make a prediction\n",
    "lstm.eval()\n",
    "train_predict = lstm(test_X.float())\n",
    "yhat = train_predict.detach().numpy()"
   ]
  },
  {
   "cell_type": "code",
   "execution_count": 20,
   "id": "TtordubT422m",
   "metadata": {
    "colab": {
     "base_uri": "https://localhost:8080/"
    },
    "executionInfo": {
     "elapsed": 7,
     "status": "ok",
     "timestamp": 1625027757308,
     "user": {
      "displayName": "DAVID RESTREPO",
      "photoUrl": "https://lh3.googleusercontent.com/a-/AOh14GgqxItBQRJ0dDzIdCZM0BMuA0KeTKTlKRNGMApY=s64",
      "userId": "09638303782015555303"
     },
     "user_tz": 300
    },
    "id": "TtordubT422m",
    "outputId": "2581c244-bce4-4bdd-bcdc-5358fa67ba69"
   },
   "outputs": [
    {
     "data": {
      "text/plain": [
       "(62, 1)"
      ]
     },
     "execution_count": 20,
     "metadata": {},
     "output_type": "execute_result"
    }
   ],
   "source": [
    "yhat.shape"
   ]
  },
  {
   "cell_type": "code",
   "execution_count": 21,
   "id": "5Ozj32Jwq4VL",
   "metadata": {
    "id": "5Ozj32Jwq4VL"
   },
   "outputs": [],
   "source": [
    "# Convert test data to 2D \n",
    "test_X = test_X.reshape((test_X.shape[0], weeks*n_features))\n",
    "\n",
    "# invert scaling for forecast\n",
    "# As we said Scaler needs 3 columns so we can take those columns from test data and take again the predictions\n",
    "# Concatenate last 2 columns of test data with predicted data (yhat)\n",
    "inv_yhat = concatenate((test_X[:, -(n_features-1):], yhat), axis=1)\n",
    "# Inverse Scaler\n",
    "inv_yhat = scaler.inverse_transform(inv_yhat)\n",
    "# Take predicted data scaled to original Dengue cases\n",
    "inv_yhat = inv_yhat[:,-1]\n",
    "\n",
    "# invert scaling for actual\n",
    "# Same process than for predicted data (yhat)\n",
    "test_y = test_y.reshape((len(test_y), 1))\n",
    "inv_y = concatenate((test_X[:, -(n_features-1):], test_y), axis=1)\n",
    "inv_y = scaler.inverse_transform(inv_y)\n",
    "inv_y = inv_y[:,-1]"
   ]
  },
  {
   "cell_type": "code",
   "execution_count": 22,
   "id": "TdDRHwvNllQR",
   "metadata": {
    "colab": {
     "base_uri": "https://localhost:8080/"
    },
    "executionInfo": {
     "elapsed": 4,
     "status": "ok",
     "timestamp": 1625027757308,
     "user": {
      "displayName": "DAVID RESTREPO",
      "photoUrl": "https://lh3.googleusercontent.com/a-/AOh14GgqxItBQRJ0dDzIdCZM0BMuA0KeTKTlKRNGMApY=s64",
      "userId": "09638303782015555303"
     },
     "user_tz": 300
    },
    "id": "TdDRHwvNllQR",
    "outputId": "2eb75315-8b91-40b5-a238-d8312b1823d7"
   },
   "outputs": [
    {
     "name": "stdout",
     "output_type": "stream",
     "text": [
      "Test MAE: 4.897\n"
     ]
    }
   ],
   "source": [
    "from sklearn.metrics import  mean_absolute_error\n",
    "\n",
    "# calculate MAE\n",
    "mae = mean_absolute_error(inv_y, inv_yhat)\n",
    "print('Test MAE: %.3f' % mae)"
   ]
  },
  {
   "cell_type": "markdown",
   "id": "PJzx3p9psAqW",
   "metadata": {
    "id": "PJzx3p9psAqW"
   },
   "source": [
    "#### Plot predicted vs actual dengue cases"
   ]
  },
  {
   "cell_type": "code",
   "execution_count": 23,
   "id": "nPOiCVoxsr-1",
   "metadata": {
    "colab": {
     "base_uri": "https://localhost:8080/",
     "height": 294
    },
    "executionInfo": {
     "elapsed": 510,
     "status": "ok",
     "timestamp": 1625027757815,
     "user": {
      "displayName": "DAVID RESTREPO",
      "photoUrl": "https://lh3.googleusercontent.com/a-/AOh14GgqxItBQRJ0dDzIdCZM0BMuA0KeTKTlKRNGMApY=s64",
      "userId": "09638303782015555303"
     },
     "user_tz": 300
    },
    "id": "nPOiCVoxsr-1",
    "outputId": "b42a1c50-d69b-4127-b3be-565a82bc972d"
   },
   "outputs": [
    {
     "data": {
      "image/png": "[encoded data removed]",
      "text/plain": [
       "<Figure size 432x288 with 1 Axes>"
      ]
     },
     "metadata": {
      "needs_background": "light"
     },
     "output_type": "display_data"
    }
   ],
   "source": [
    "data_predict = inv_yhat  ## predicted target  cases\n",
    "dataY_plot = inv_y  ##  real test-target cases\n",
    "\n",
    "data_predict = data_predict.reshape(len(data_predict), 1)\n",
    "dataY_plot = dataY_plot.reshape(len(dataY_plot), 1)\n",
    "\n",
    "import matplotlib.pyplot as plt\n",
    "\n",
    "plt.plot(dataY_plot, label = 'actual')\n",
    "plt.plot(data_predict, label = 'predicted')\n",
    "plt.legend(loc=\"upper left\")\n",
    "\n",
    "plt.suptitle('Time-Series Prediction')\n",
    "plt.show()"
   ]
  },
  {
   "cell_type": "code",
   "execution_count": null,
   "id": "kMiD5Vp27n5W",
   "metadata": {
    "id": "kMiD5Vp27n5W"
   },
   "outputs": [],
   "source": []
  },
  {
   "cell_type": "markdown",
   "id": "9R-Zl5OgLo_h",
   "metadata": {
    "id": "9R-Zl5OgLo_h"
   },
   "source": [
    "<ol>\n",
    "  <li> <a href=\"https://towardsdatascience.com/predictive-analytics-time-series-forecasting-with-gru-and-bilstm-in-tensorflow-87588c852915\">Predictive Analytics: Time-Series Forecasting with GRU and BiLSTM in TensorFlow</a></li>\n",
    "  <li><a href=\"https://machinelearningmastery.com/multivariate-time-series-forecasting-lstms-keras/\">Multivariate Time Series Forecasting with LSTMs in Keras</a></li>\n",
    "</ol>"
   ]
  },
  {
   "cell_type": "code",
   "execution_count": null,
   "id": "LA6ELSVJLpp0",
   "metadata": {
    "id": "LA6ELSVJLpp0"
   },
   "outputs": [],
   "source": []
  },
  {
   "cell_type": "code",
   "execution_count": null,
   "id": "a7ded838",
   "metadata": {},
   "outputs": [],
   "source": []
  },
  {
   "cell_type": "code",
   "execution_count": 378,
   "id": "7f149814",
   "metadata": {},
   "outputs": [
    {
     "name": "stdout",
     "output_type": "stream",
     "text": [
      "tensor([[ 0.7700, -0.3254,  1.7170,  1.5188],\n",
      "        [ 0.4441, -0.3583,  0.4963, -0.1700],\n",
      "        [ 0.9152,  0.6018,  1.3149,  0.3651],\n",
      "        [-0.5918,  0.5252, -0.8966, -1.6934]])\n"
     ]
    },
    {
     "data": {
      "text/plain": [
       "tensor([2, 2, 2, 1])"
      ]
     },
     "execution_count": 378,
     "metadata": {},
     "output_type": "execute_result"
    }
   ],
   "source": []
  },
  {
   "cell_type": "code",
   "execution_count": null,
   "id": "019055d8",
   "metadata": {},
   "outputs": [],
   "source": []
  }
 ],
 "metadata": {
  "colab": {
   "collapsed_sections": [],
   "name": "GRU_TensorFlow_WeeklyPrecipitation.ipynb",
   "provenance": [
    {
     "file_id": "1EQz5vqDW0os0t6aKIInxWCiLPcWFpGkn",
     "timestamp": 1625027505883
    },
    {
     "file_id": "1yhwDjCPk8baHY-Odebdo8C1jIJVI5Uny",
     "timestamp": 1625026832717
    }
   ]
  },
  "kernelspec": {
   "display_name": "Python 3 (ipykernel)",
   "language": "python",
   "name": "python3"
  },
  "language_info": {
   "codemirror_mode": {
    "name": "ipython",
    "version": 3
   },
   "file_extension": ".py",
   "mimetype": "text/x-python",
   "name": "python",
   "nbconvert_exporter": "python",
   "pygments_lexer": "ipython3",
   "version": "3.9.6"
  }
 },
 "nbformat": 4,
 "nbformat_minor": 5
}
