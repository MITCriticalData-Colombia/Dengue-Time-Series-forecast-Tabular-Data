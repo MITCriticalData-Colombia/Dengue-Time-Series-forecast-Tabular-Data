{
 "cells": [
  {
   "cell_type": "code",
   "execution_count": 2,
   "id": "a537a48c",
   "metadata": {},
   "outputs": [],
   "source": [
    "import pandas as pd\n",
    "import matplotlib.pyplot as plt"
   ]
  },
  {
   "cell_type": "code",
   "execution_count": 3,
   "id": "fac6ce86",
   "metadata": {},
   "outputs": [
    {
     "data": {
      "text/html": [
       "<div>\n",
       "<style scoped>\n",
       "    .dataframe tbody tr th:only-of-type {\n",
       "        vertical-align: middle;\n",
       "    }\n",
       "\n",
       "    .dataframe tbody tr th {\n",
       "        vertical-align: top;\n",
       "    }\n",
       "\n",
       "    .dataframe thead th {\n",
       "        text-align: right;\n",
       "    }\n",
       "</style>\n",
       "<table border=\"1\" class=\"dataframe\">\n",
       "  <thead>\n",
       "    <tr style=\"text-align: right;\">\n",
       "      <th></th>\n",
       "      <th>cases_medellin</th>\n",
       "      <th>DATA</th>\n",
       "      <th>YEAR</th>\n",
       "      <th>YearWeek</th>\n",
       "      <th>LastDayWeek</th>\n",
       "      <th>MONTH</th>\n",
       "      <th>temperature_medellin</th>\n",
       "      <th>percipitation_medellin</th>\n",
       "      <th>percipitation_medellin_rural</th>\n",
       "      <th>percipitation_medellin_urbano</th>\n",
       "    </tr>\n",
       "  </thead>\n",
       "  <tbody>\n",
       "    <tr>\n",
       "      <th>0</th>\n",
       "      <td>1</td>\n",
       "      <td>['2007', 'w01']</td>\n",
       "      <td>2007</td>\n",
       "      <td>200701</td>\n",
       "      <td>2007-01-06</td>\n",
       "      <td>1</td>\n",
       "      <td>21.009283</td>\n",
       "      <td>13.096688</td>\n",
       "      <td>14.097693</td>\n",
       "      <td>12.628933</td>\n",
       "    </tr>\n",
       "    <tr>\n",
       "      <th>1</th>\n",
       "      <td>0</td>\n",
       "      <td>['2007', 'w02']</td>\n",
       "      <td>2007</td>\n",
       "      <td>200702</td>\n",
       "      <td>2007-01-13</td>\n",
       "      <td>1</td>\n",
       "      <td>21.009283</td>\n",
       "      <td>8.437044</td>\n",
       "      <td>6.910390</td>\n",
       "      <td>9.067214</td>\n",
       "    </tr>\n",
       "    <tr>\n",
       "      <th>2</th>\n",
       "      <td>0</td>\n",
       "      <td>['2007', 'w03']</td>\n",
       "      <td>2007</td>\n",
       "      <td>200703</td>\n",
       "      <td>2007-01-20</td>\n",
       "      <td>1</td>\n",
       "      <td>21.009283</td>\n",
       "      <td>19.373165</td>\n",
       "      <td>21.616968</td>\n",
       "      <td>18.406665</td>\n",
       "    </tr>\n",
       "    <tr>\n",
       "      <th>3</th>\n",
       "      <td>0</td>\n",
       "      <td>['2007', 'w04']</td>\n",
       "      <td>2007</td>\n",
       "      <td>200704</td>\n",
       "      <td>2007-01-27</td>\n",
       "      <td>1</td>\n",
       "      <td>21.009283</td>\n",
       "      <td>0.000000</td>\n",
       "      <td>0.000000</td>\n",
       "      <td>0.000000</td>\n",
       "    </tr>\n",
       "    <tr>\n",
       "      <th>4</th>\n",
       "      <td>0</td>\n",
       "      <td>['2007', 'w05']</td>\n",
       "      <td>2007</td>\n",
       "      <td>200705</td>\n",
       "      <td>2007-02-03</td>\n",
       "      <td>2</td>\n",
       "      <td>20.982925</td>\n",
       "      <td>3.725206</td>\n",
       "      <td>3.144225</td>\n",
       "      <td>3.901021</td>\n",
       "    </tr>\n",
       "    <tr>\n",
       "      <th>...</th>\n",
       "      <td>...</td>\n",
       "      <td>...</td>\n",
       "      <td>...</td>\n",
       "      <td>...</td>\n",
       "      <td>...</td>\n",
       "      <td>...</td>\n",
       "      <td>...</td>\n",
       "      <td>...</td>\n",
       "      <td>...</td>\n",
       "      <td>...</td>\n",
       "    </tr>\n",
       "    <tr>\n",
       "      <th>619</th>\n",
       "      <td>28</td>\n",
       "      <td>['2018', 'w48']</td>\n",
       "      <td>2018</td>\n",
       "      <td>201848</td>\n",
       "      <td>2018-12-01</td>\n",
       "      <td>12</td>\n",
       "      <td>20.936353</td>\n",
       "      <td>8.916642</td>\n",
       "      <td>8.656351</td>\n",
       "      <td>9.114419</td>\n",
       "    </tr>\n",
       "    <tr>\n",
       "      <th>620</th>\n",
       "      <td>12</td>\n",
       "      <td>['2018', 'w49']</td>\n",
       "      <td>2018</td>\n",
       "      <td>201849</td>\n",
       "      <td>2018-12-08</td>\n",
       "      <td>12</td>\n",
       "      <td>20.936353</td>\n",
       "      <td>17.006086</td>\n",
       "      <td>16.076869</td>\n",
       "      <td>17.334870</td>\n",
       "    </tr>\n",
       "    <tr>\n",
       "      <th>621</th>\n",
       "      <td>27</td>\n",
       "      <td>['2018', 'w50']</td>\n",
       "      <td>2018</td>\n",
       "      <td>201850</td>\n",
       "      <td>2018-12-15</td>\n",
       "      <td>12</td>\n",
       "      <td>20.936353</td>\n",
       "      <td>5.673248</td>\n",
       "      <td>5.388778</td>\n",
       "      <td>5.794555</td>\n",
       "    </tr>\n",
       "    <tr>\n",
       "      <th>622</th>\n",
       "      <td>17</td>\n",
       "      <td>['2018', 'w51']</td>\n",
       "      <td>2018</td>\n",
       "      <td>201851</td>\n",
       "      <td>2018-12-22</td>\n",
       "      <td>12</td>\n",
       "      <td>20.936353</td>\n",
       "      <td>2.785103</td>\n",
       "      <td>2.708024</td>\n",
       "      <td>2.810241</td>\n",
       "    </tr>\n",
       "    <tr>\n",
       "      <th>623</th>\n",
       "      <td>17</td>\n",
       "      <td>['2018', 'w52']</td>\n",
       "      <td>2018</td>\n",
       "      <td>201852</td>\n",
       "      <td>2018-12-29</td>\n",
       "      <td>12</td>\n",
       "      <td>20.936353</td>\n",
       "      <td>0.000000</td>\n",
       "      <td>0.000000</td>\n",
       "      <td>0.000000</td>\n",
       "    </tr>\n",
       "  </tbody>\n",
       "</table>\n",
       "<p>624 rows × 10 columns</p>\n",
       "</div>"
      ],
      "text/plain": [
       "     cases_medellin             DATA  YEAR  YearWeek LastDayWeek  MONTH  \\\n",
       "0                 1  ['2007', 'w01']  2007    200701  2007-01-06      1   \n",
       "1                 0  ['2007', 'w02']  2007    200702  2007-01-13      1   \n",
       "2                 0  ['2007', 'w03']  2007    200703  2007-01-20      1   \n",
       "3                 0  ['2007', 'w04']  2007    200704  2007-01-27      1   \n",
       "4                 0  ['2007', 'w05']  2007    200705  2007-02-03      2   \n",
       "..              ...              ...   ...       ...         ...    ...   \n",
       "619              28  ['2018', 'w48']  2018    201848  2018-12-01     12   \n",
       "620              12  ['2018', 'w49']  2018    201849  2018-12-08     12   \n",
       "621              27  ['2018', 'w50']  2018    201850  2018-12-15     12   \n",
       "622              17  ['2018', 'w51']  2018    201851  2018-12-22     12   \n",
       "623              17  ['2018', 'w52']  2018    201852  2018-12-29     12   \n",
       "\n",
       "     temperature_medellin  percipitation_medellin  \\\n",
       "0               21.009283               13.096688   \n",
       "1               21.009283                8.437044   \n",
       "2               21.009283               19.373165   \n",
       "3               21.009283                0.000000   \n",
       "4               20.982925                3.725206   \n",
       "..                    ...                     ...   \n",
       "619             20.936353                8.916642   \n",
       "620             20.936353               17.006086   \n",
       "621             20.936353                5.673248   \n",
       "622             20.936353                2.785103   \n",
       "623             20.936353                0.000000   \n",
       "\n",
       "     percipitation_medellin_rural  percipitation_medellin_urbano  \n",
       "0                       14.097693                      12.628933  \n",
       "1                        6.910390                       9.067214  \n",
       "2                       21.616968                      18.406665  \n",
       "3                        0.000000                       0.000000  \n",
       "4                        3.144225                       3.901021  \n",
       "..                            ...                            ...  \n",
       "619                      8.656351                       9.114419  \n",
       "620                     16.076869                      17.334870  \n",
       "621                      5.388778                       5.794555  \n",
       "622                      2.708024                       2.810241  \n",
       "623                      0.000000                       0.000000  \n",
       "\n",
       "[624 rows x 10 columns]"
      ]
     },
     "execution_count": 3,
     "metadata": {},
     "output_type": "execute_result"
    }
   ],
   "source": [
    "# Read Data\n",
    "merge_cases_temp_precip = pd.read_csv('Data/merge_cases_temperature_WeeklyPrecipitation_timeseries.csv')\n",
    "# Remove extra column\n",
    "merge_cases_temp_precip = merge_cases_temp_precip.drop('Unnamed: 0', 1)\n",
    "merge_cases_temp_precip.LastDayWeek = pd.to_datetime(merge_cases_temp_precip.LastDayWeek)\n",
    "merge_cases_temp_precip"
   ]
  },
  {
   "cell_type": "code",
   "execution_count": 4,
   "id": "0ce54aa7",
   "metadata": {},
   "outputs": [
    {
     "data": {
      "image/png": "[encoded data removed]",
      "text/plain": [
       "<Figure size 864x576 with 1 Axes>"
      ]
     },
     "metadata": {
      "needs_background": "light"
     },
     "output_type": "display_data"
    }
   ],
   "source": [
    "def timeseries (x_axis, y_axis, x_label):\n",
    "    plt.figure(figsize = (12, 8))\n",
    "    plt.plot(x_axis, y_axis, color ='black')\n",
    "    plt.xlabel(x_label) \n",
    "    plt.ylabel('Dengue Cases')\n",
    "\n",
    "timeseries(merge_cases_temp_precip['LastDayWeek'], merge_cases_temp_precip['cases_medellin'], 'cases by Week')"
   ]
  },
  {
   "cell_type": "markdown",
   "id": "96c22f6c",
   "metadata": {},
   "source": [
    "# Prepare data to ARIMA model"
   ]
  },
  {
   "cell_type": "code",
   "execution_count": 5,
   "id": "0b8217d6",
   "metadata": {},
   "outputs": [
    {
     "data": {
      "text/html": [
       "<div>\n",
       "<style scoped>\n",
       "    .dataframe tbody tr th:only-of-type {\n",
       "        vertical-align: middle;\n",
       "    }\n",
       "\n",
       "    .dataframe tbody tr th {\n",
       "        vertical-align: top;\n",
       "    }\n",
       "\n",
       "    .dataframe thead th {\n",
       "        text-align: right;\n",
       "    }\n",
       "</style>\n",
       "<table border=\"1\" class=\"dataframe\">\n",
       "  <thead>\n",
       "    <tr style=\"text-align: right;\">\n",
       "      <th></th>\n",
       "      <th>cases_medellin</th>\n",
       "      <th>percipitation_medellin</th>\n",
       "      <th>temperature_medellin</th>\n",
       "    </tr>\n",
       "  </thead>\n",
       "  <tbody>\n",
       "    <tr>\n",
       "      <th>0</th>\n",
       "      <td>1</td>\n",
       "      <td>13.096688</td>\n",
       "      <td>21.009283</td>\n",
       "    </tr>\n",
       "    <tr>\n",
       "      <th>1</th>\n",
       "      <td>0</td>\n",
       "      <td>8.437044</td>\n",
       "      <td>21.009283</td>\n",
       "    </tr>\n",
       "    <tr>\n",
       "      <th>2</th>\n",
       "      <td>0</td>\n",
       "      <td>19.373165</td>\n",
       "      <td>21.009283</td>\n",
       "    </tr>\n",
       "    <tr>\n",
       "      <th>3</th>\n",
       "      <td>0</td>\n",
       "      <td>0.000000</td>\n",
       "      <td>21.009283</td>\n",
       "    </tr>\n",
       "    <tr>\n",
       "      <th>4</th>\n",
       "      <td>0</td>\n",
       "      <td>3.725206</td>\n",
       "      <td>20.982925</td>\n",
       "    </tr>\n",
       "    <tr>\n",
       "      <th>...</th>\n",
       "      <td>...</td>\n",
       "      <td>...</td>\n",
       "      <td>...</td>\n",
       "    </tr>\n",
       "    <tr>\n",
       "      <th>619</th>\n",
       "      <td>28</td>\n",
       "      <td>8.916642</td>\n",
       "      <td>20.936353</td>\n",
       "    </tr>\n",
       "    <tr>\n",
       "      <th>620</th>\n",
       "      <td>12</td>\n",
       "      <td>17.006086</td>\n",
       "      <td>20.936353</td>\n",
       "    </tr>\n",
       "    <tr>\n",
       "      <th>621</th>\n",
       "      <td>27</td>\n",
       "      <td>5.673248</td>\n",
       "      <td>20.936353</td>\n",
       "    </tr>\n",
       "    <tr>\n",
       "      <th>622</th>\n",
       "      <td>17</td>\n",
       "      <td>2.785103</td>\n",
       "      <td>20.936353</td>\n",
       "    </tr>\n",
       "    <tr>\n",
       "      <th>623</th>\n",
       "      <td>17</td>\n",
       "      <td>0.000000</td>\n",
       "      <td>20.936353</td>\n",
       "    </tr>\n",
       "  </tbody>\n",
       "</table>\n",
       "<p>624 rows × 3 columns</p>\n",
       "</div>"
      ],
      "text/plain": [
       "     cases_medellin  percipitation_medellin  temperature_medellin\n",
       "0                 1               13.096688             21.009283\n",
       "1                 0                8.437044             21.009283\n",
       "2                 0               19.373165             21.009283\n",
       "3                 0                0.000000             21.009283\n",
       "4                 0                3.725206             20.982925\n",
       "..              ...                     ...                   ...\n",
       "619              28                8.916642             20.936353\n",
       "620              12               17.006086             20.936353\n",
       "621              27                5.673248             20.936353\n",
       "622              17                2.785103             20.936353\n",
       "623              17                0.000000             20.936353\n",
       "\n",
       "[624 rows x 3 columns]"
      ]
     },
     "execution_count": 5,
     "metadata": {},
     "output_type": "execute_result"
    }
   ],
   "source": [
    "dataset = merge_cases_temp_precip[['cases_medellin', 'percipitation_medellin', 'temperature_medellin']]\n",
    "#dataset.index = merge_cases_temp_precip.LastDayWeek.values\n",
    "dataset  #DF"
   ]
  },
  {
   "cell_type": "markdown",
   "id": "1d0c6148",
   "metadata": {},
   "source": [
    "## Train Test Split"
   ]
  },
  {
   "cell_type": "code",
   "execution_count": 6,
   "id": "896da321",
   "metadata": {},
   "outputs": [],
   "source": [
    "size = dataset.shape[0]\n",
    "split = int(size*(9/10))"
   ]
  },
  {
   "cell_type": "markdown",
   "id": "8e7ee6a0",
   "metadata": {},
   "source": [
    "### Train"
   ]
  },
  {
   "cell_type": "code",
   "execution_count": 7,
   "id": "59df5955",
   "metadata": {},
   "outputs": [],
   "source": [
    "train = dataset[:split]\n",
    "#train_data = train[['cases_medellin', 'percipitation_medellin', 'temperature_medellin']]"
   ]
  },
  {
   "cell_type": "markdown",
   "id": "d8286aab",
   "metadata": {},
   "source": [
    "### Test"
   ]
  },
  {
   "cell_type": "code",
   "execution_count": 8,
   "id": "c8b04d28",
   "metadata": {},
   "outputs": [],
   "source": [
    "test = dataset[split:]\n",
    "#test_data = test[['cases_medellin', 'percipitation_medellin', 'temperature_medellin']]"
   ]
  },
  {
   "cell_type": "markdown",
   "id": "fe8f77b6",
   "metadata": {},
   "source": [
    "## SARIMAX model"
   ]
  },
  {
   "cell_type": "code",
   "execution_count": 30,
   "id": "f7be235e",
   "metadata": {},
   "outputs": [
    {
     "name": "stdout",
     "output_type": "stream",
     "text": [
      "predicted=29.940331, expected=27.000000\n",
      "predicted=26.222905, expected=27.000000\n",
      "predicted=26.662895, expected=24.000000\n",
      "predicted=24.888477, expected=27.000000\n",
      "predicted=27.673667, expected=22.000000\n",
      "predicted=23.119427, expected=28.000000\n",
      "predicted=29.128764, expected=21.000000\n",
      "predicted=22.565220, expected=30.000000\n",
      "predicted=31.031531, expected=14.000000\n"
     ]
    },
    {
     "name": "stderr",
     "output_type": "stream",
     "text": [
      "/Users/davidrestrepo/opt/anaconda3/envs/dengue_ML/lib/python3.7/site-packages/statsmodels/base/model.py:568: ConvergenceWarning: Maximum Likelihood optimization failed to converge. Check mle_retvals\n",
      "  ConvergenceWarning)\n"
     ]
    },
    {
     "name": "stdout",
     "output_type": "stream",
     "text": [
      "predicted=15.917670, expected=22.000000\n",
      "predicted=22.600300, expected=19.000000\n",
      "predicted=18.508589, expected=16.000000\n",
      "predicted=17.001811, expected=35.000000\n",
      "predicted=35.712314, expected=26.000000\n",
      "predicted=29.105133, expected=26.000000\n"
     ]
    },
    {
     "name": "stderr",
     "output_type": "stream",
     "text": [
      "/Users/davidrestrepo/opt/anaconda3/envs/dengue_ML/lib/python3.7/site-packages/statsmodels/base/model.py:568: ConvergenceWarning: Maximum Likelihood optimization failed to converge. Check mle_retvals\n",
      "  ConvergenceWarning)\n"
     ]
    },
    {
     "name": "stdout",
     "output_type": "stream",
     "text": [
      "predicted=30.799374, expected=30.000000\n"
     ]
    },
    {
     "name": "stderr",
     "output_type": "stream",
     "text": [
      "/Users/davidrestrepo/opt/anaconda3/envs/dengue_ML/lib/python3.7/site-packages/statsmodels/base/model.py:568: ConvergenceWarning: Maximum Likelihood optimization failed to converge. Check mle_retvals\n",
      "  ConvergenceWarning)\n"
     ]
    },
    {
     "name": "stdout",
     "output_type": "stream",
     "text": [
      "predicted=31.533971, expected=22.000000\n"
     ]
    },
    {
     "name": "stderr",
     "output_type": "stream",
     "text": [
      "/Users/davidrestrepo/opt/anaconda3/envs/dengue_ML/lib/python3.7/site-packages/statsmodels/base/model.py:568: ConvergenceWarning: Maximum Likelihood optimization failed to converge. Check mle_retvals\n",
      "  ConvergenceWarning)\n"
     ]
    },
    {
     "name": "stdout",
     "output_type": "stream",
     "text": [
      "predicted=22.904710, expected=23.000000\n"
     ]
    },
    {
     "name": "stderr",
     "output_type": "stream",
     "text": [
      "/Users/davidrestrepo/opt/anaconda3/envs/dengue_ML/lib/python3.7/site-packages/statsmodels/base/model.py:568: ConvergenceWarning: Maximum Likelihood optimization failed to converge. Check mle_retvals\n",
      "  ConvergenceWarning)\n"
     ]
    },
    {
     "name": "stdout",
     "output_type": "stream",
     "text": [
      "predicted=23.879520, expected=21.000000\n",
      "predicted=20.779569, expected=25.000000\n"
     ]
    },
    {
     "name": "stderr",
     "output_type": "stream",
     "text": [
      "/Users/davidrestrepo/opt/anaconda3/envs/dengue_ML/lib/python3.7/site-packages/statsmodels/base/model.py:568: ConvergenceWarning: Maximum Likelihood optimization failed to converge. Check mle_retvals\n",
      "  ConvergenceWarning)\n"
     ]
    },
    {
     "name": "stdout",
     "output_type": "stream",
     "text": [
      "predicted=25.244921, expected=22.000000\n",
      "predicted=23.251114, expected=14.000000\n",
      "predicted=15.493948, expected=24.000000\n",
      "predicted=23.548727, expected=20.000000\n",
      "predicted=20.529491, expected=24.000000\n"
     ]
    },
    {
     "name": "stderr",
     "output_type": "stream",
     "text": [
      "/Users/davidrestrepo/opt/anaconda3/envs/dengue_ML/lib/python3.7/site-packages/statsmodels/base/model.py:568: ConvergenceWarning: Maximum Likelihood optimization failed to converge. Check mle_retvals\n",
      "  ConvergenceWarning)\n"
     ]
    },
    {
     "name": "stdout",
     "output_type": "stream",
     "text": [
      "predicted=26.557773, expected=22.000000\n",
      "predicted=24.805231, expected=22.000000\n",
      "predicted=24.336513, expected=20.000000\n",
      "predicted=21.687128, expected=24.000000\n"
     ]
    },
    {
     "name": "stderr",
     "output_type": "stream",
     "text": [
      "/Users/davidrestrepo/opt/anaconda3/envs/dengue_ML/lib/python3.7/site-packages/statsmodels/base/model.py:568: ConvergenceWarning: Maximum Likelihood optimization failed to converge. Check mle_retvals\n",
      "  ConvergenceWarning)\n"
     ]
    },
    {
     "name": "stdout",
     "output_type": "stream",
     "text": [
      "predicted=24.880660, expected=20.000000\n",
      "predicted=21.720570, expected=21.000000\n",
      "predicted=22.787924, expected=17.000000\n",
      "predicted=18.231472, expected=19.000000\n",
      "predicted=19.637628, expected=23.000000\n",
      "predicted=23.252796, expected=22.000000\n"
     ]
    },
    {
     "name": "stderr",
     "output_type": "stream",
     "text": [
      "/Users/davidrestrepo/opt/anaconda3/envs/dengue_ML/lib/python3.7/site-packages/statsmodels/base/model.py:568: ConvergenceWarning: Maximum Likelihood optimization failed to converge. Check mle_retvals\n",
      "  ConvergenceWarning)\n"
     ]
    },
    {
     "name": "stdout",
     "output_type": "stream",
     "text": [
      "predicted=23.347456, expected=23.000000\n"
     ]
    },
    {
     "name": "stderr",
     "output_type": "stream",
     "text": [
      "/Users/davidrestrepo/opt/anaconda3/envs/dengue_ML/lib/python3.7/site-packages/statsmodels/base/model.py:568: ConvergenceWarning: Maximum Likelihood optimization failed to converge. Check mle_retvals\n",
      "  ConvergenceWarning)\n"
     ]
    },
    {
     "name": "stdout",
     "output_type": "stream",
     "text": [
      "predicted=25.208228, expected=23.000000\n"
     ]
    },
    {
     "name": "stderr",
     "output_type": "stream",
     "text": [
      "/Users/davidrestrepo/opt/anaconda3/envs/dengue_ML/lib/python3.7/site-packages/statsmodels/base/model.py:568: ConvergenceWarning: Maximum Likelihood optimization failed to converge. Check mle_retvals\n",
      "  ConvergenceWarning)\n"
     ]
    },
    {
     "name": "stdout",
     "output_type": "stream",
     "text": [
      "predicted=24.874384, expected=27.000000\n",
      "predicted=28.629954, expected=35.000000\n"
     ]
    },
    {
     "name": "stderr",
     "output_type": "stream",
     "text": [
      "/Users/davidrestrepo/opt/anaconda3/envs/dengue_ML/lib/python3.7/site-packages/statsmodels/base/model.py:568: ConvergenceWarning: Maximum Likelihood optimization failed to converge. Check mle_retvals\n",
      "  ConvergenceWarning)\n"
     ]
    },
    {
     "name": "stdout",
     "output_type": "stream",
     "text": [
      "predicted=36.552227, expected=22.000000\n"
     ]
    },
    {
     "name": "stderr",
     "output_type": "stream",
     "text": [
      "/Users/davidrestrepo/opt/anaconda3/envs/dengue_ML/lib/python3.7/site-packages/statsmodels/base/model.py:568: ConvergenceWarning: Maximum Likelihood optimization failed to converge. Check mle_retvals\n",
      "  ConvergenceWarning)\n"
     ]
    },
    {
     "name": "stdout",
     "output_type": "stream",
     "text": [
      "predicted=25.276366, expected=19.000000\n"
     ]
    },
    {
     "name": "stderr",
     "output_type": "stream",
     "text": [
      "/Users/davidrestrepo/opt/anaconda3/envs/dengue_ML/lib/python3.7/site-packages/statsmodels/base/model.py:568: ConvergenceWarning: Maximum Likelihood optimization failed to converge. Check mle_retvals\n",
      "  ConvergenceWarning)\n"
     ]
    },
    {
     "name": "stdout",
     "output_type": "stream",
     "text": [
      "predicted=21.099747, expected=20.000000\n",
      "predicted=18.610329, expected=22.000000\n",
      "predicted=21.093037, expected=18.000000\n"
     ]
    },
    {
     "name": "stderr",
     "output_type": "stream",
     "text": [
      "/Users/davidrestrepo/opt/anaconda3/envs/dengue_ML/lib/python3.7/site-packages/statsmodels/base/model.py:568: ConvergenceWarning: Maximum Likelihood optimization failed to converge. Check mle_retvals\n",
      "  ConvergenceWarning)\n"
     ]
    },
    {
     "name": "stdout",
     "output_type": "stream",
     "text": [
      "predicted=19.771084, expected=25.000000\n"
     ]
    },
    {
     "name": "stderr",
     "output_type": "stream",
     "text": [
      "/Users/davidrestrepo/opt/anaconda3/envs/dengue_ML/lib/python3.7/site-packages/statsmodels/base/model.py:568: ConvergenceWarning: Maximum Likelihood optimization failed to converge. Check mle_retvals\n",
      "  ConvergenceWarning)\n"
     ]
    },
    {
     "name": "stdout",
     "output_type": "stream",
     "text": [
      "predicted=26.457761, expected=27.000000\n"
     ]
    },
    {
     "name": "stderr",
     "output_type": "stream",
     "text": [
      "/Users/davidrestrepo/opt/anaconda3/envs/dengue_ML/lib/python3.7/site-packages/statsmodels/base/model.py:568: ConvergenceWarning: Maximum Likelihood optimization failed to converge. Check mle_retvals\n",
      "  ConvergenceWarning)\n"
     ]
    },
    {
     "name": "stdout",
     "output_type": "stream",
     "text": [
      "predicted=28.494978, expected=25.000000\n",
      "predicted=28.442346, expected=12.000000\n"
     ]
    },
    {
     "name": "stderr",
     "output_type": "stream",
     "text": [
      "/Users/davidrestrepo/opt/anaconda3/envs/dengue_ML/lib/python3.7/site-packages/statsmodels/base/model.py:568: ConvergenceWarning: Maximum Likelihood optimization failed to converge. Check mle_retvals\n",
      "  ConvergenceWarning)\n"
     ]
    },
    {
     "name": "stdout",
     "output_type": "stream",
     "text": [
      "predicted=15.547322, expected=22.000000\n"
     ]
    },
    {
     "name": "stderr",
     "output_type": "stream",
     "text": [
      "/Users/davidrestrepo/opt/anaconda3/envs/dengue_ML/lib/python3.7/site-packages/statsmodels/base/model.py:568: ConvergenceWarning: Maximum Likelihood optimization failed to converge. Check mle_retvals\n",
      "  ConvergenceWarning)\n"
     ]
    },
    {
     "name": "stdout",
     "output_type": "stream",
     "text": [
      "predicted=21.323152, expected=22.000000\n",
      "predicted=20.894004, expected=27.000000\n"
     ]
    },
    {
     "name": "stderr",
     "output_type": "stream",
     "text": [
      "/Users/davidrestrepo/opt/anaconda3/envs/dengue_ML/lib/python3.7/site-packages/statsmodels/base/model.py:568: ConvergenceWarning: Maximum Likelihood optimization failed to converge. Check mle_retvals\n",
      "  ConvergenceWarning)\n"
     ]
    },
    {
     "name": "stdout",
     "output_type": "stream",
     "text": [
      "predicted=29.156674, expected=23.000000\n",
      "predicted=27.053556, expected=24.000000\n",
      "predicted=26.800295, expected=24.000000\n"
     ]
    },
    {
     "name": "stderr",
     "output_type": "stream",
     "text": [
      "/Users/davidrestrepo/opt/anaconda3/envs/dengue_ML/lib/python3.7/site-packages/statsmodels/base/model.py:568: ConvergenceWarning: Maximum Likelihood optimization failed to converge. Check mle_retvals\n",
      "  ConvergenceWarning)\n"
     ]
    },
    {
     "name": "stdout",
     "output_type": "stream",
     "text": [
      "predicted=25.214195, expected=17.000000\n",
      "predicted=18.273194, expected=20.000000\n"
     ]
    },
    {
     "name": "stderr",
     "output_type": "stream",
     "text": [
      "/Users/davidrestrepo/opt/anaconda3/envs/dengue_ML/lib/python3.7/site-packages/statsmodels/base/model.py:568: ConvergenceWarning: Maximum Likelihood optimization failed to converge. Check mle_retvals\n",
      "  ConvergenceWarning)\n"
     ]
    },
    {
     "name": "stdout",
     "output_type": "stream",
     "text": [
      "predicted=20.258850, expected=15.000000\n",
      "predicted=14.755106, expected=41.000000\n",
      "predicted=40.650328, expected=28.000000\n"
     ]
    },
    {
     "name": "stderr",
     "output_type": "stream",
     "text": [
      "/Users/davidrestrepo/opt/anaconda3/envs/dengue_ML/lib/python3.7/site-packages/statsmodels/base/model.py:568: ConvergenceWarning: Maximum Likelihood optimization failed to converge. Check mle_retvals\n",
      "  ConvergenceWarning)\n"
     ]
    },
    {
     "name": "stdout",
     "output_type": "stream",
     "text": [
      "predicted=32.414294, expected=12.000000\n"
     ]
    },
    {
     "name": "stderr",
     "output_type": "stream",
     "text": [
      "/Users/davidrestrepo/opt/anaconda3/envs/dengue_ML/lib/python3.7/site-packages/statsmodels/base/model.py:568: ConvergenceWarning: Maximum Likelihood optimization failed to converge. Check mle_retvals\n",
      "  ConvergenceWarning)\n"
     ]
    },
    {
     "name": "stdout",
     "output_type": "stream",
     "text": [
      "predicted=18.294006, expected=27.000000\n"
     ]
    },
    {
     "name": "stderr",
     "output_type": "stream",
     "text": [
      "/Users/davidrestrepo/opt/anaconda3/envs/dengue_ML/lib/python3.7/site-packages/statsmodels/base/model.py:568: ConvergenceWarning: Maximum Likelihood optimization failed to converge. Check mle_retvals\n",
      "  ConvergenceWarning)\n"
     ]
    },
    {
     "name": "stdout",
     "output_type": "stream",
     "text": [
      "predicted=25.622299, expected=17.000000\n",
      "predicted=14.524207, expected=17.000000\n",
      "Test MAE: 5.646\n"
     ]
    },
    {
     "data": {
      "image/png": "[encoded data removed]",
      "text/plain": [
       "<Figure size 432x288 with 1 Axes>"
      ]
     },
     "metadata": {
      "needs_background": "light"
     },
     "output_type": "display_data"
    }
   ],
   "source": [
    "from statsmodels.tsa.statespace.sarimax import SARIMAX\n",
    "from matplotlib import pyplot\n",
    "from math import sqrt\n",
    "from sklearn.metrics import mean_squared_error\n",
    "from sklearn.metrics import mean_absolute_error\n",
    "import numpy as np\n",
    "\n",
    "#history = [x for x in train_data]\n",
    "history = train[['cases_medellin']].to_numpy()\n",
    "exogen = train[['percipitation_medellin', 'temperature_medellin']].to_numpy()\n",
    "exogen_test = test[['percipitation_medellin', 'temperature_medellin']].to_numpy()\n",
    "\n",
    "#print(history)\n",
    "predictions = list()\n",
    "# walk-forward validation\n",
    "#print(len(test_data))\n",
    "for t in range(len(test)):    # len test -> 63  range(63)-> 0,62 1-63\n",
    "    #print(t)\n",
    "    model = SARIMAX(history, order=(5,0,1), seasonal_order=(0,0,0,52), exog=exogen)\n",
    "    model_fit = model.fit()\n",
    "    output = model_fit.forecast(exog=exogen[-1])  #nxt week predictions\n",
    "    yhat = output[0]  ##nxt week output prediction\n",
    "    predictions = np.append(predictions, yhat) \n",
    "    \n",
    "    # Add exogenus data from test\n",
    "    #print(exogen.shape)\n",
    "    exogen = np.vstack((exogen, exogen_test[t]))\n",
    "    #print(exogen.shape)\n",
    "    #print(history.shape)\n",
    "    \n",
    "    obs = test[['cases_medellin']].to_numpy()[t]\n",
    "    #print(obs)\n",
    "    history = np.vstack((history, obs))\n",
    "    #print(history.shape)\n",
    "    print('predicted=%f, expected=%f' % (yhat, obs))\n",
    "    \n",
    "# evaluate forecasts\n",
    "mae = mean_absolute_error(test[['cases_medellin']].to_numpy(), predictions)  ##mean_absolute_percentage_error\n",
    "print('Test MAE: %.3f' % mae)\n",
    "# plot forecasts against actual outcomes\n",
    "pyplot.plot(test[['cases_medellin']].to_numpy())\n",
    "pyplot.plot(predictions, color='red')\n",
    "pyplot.show()"
   ]
  },
  {
   "cell_type": "code",
   "execution_count": 31,
   "id": "e42b7cd1",
   "metadata": {},
   "outputs": [
    {
     "name": "stdout",
     "output_type": "stream",
     "text": [
      "predicted=28.008806, expected=27.000000\n",
      "predicted=23.876248, expected=27.000000\n",
      "predicted=24.080985, expected=24.000000\n",
      "predicted=22.654639, expected=27.000000\n",
      "predicted=25.786684, expected=22.000000\n",
      "predicted=21.197946, expected=28.000000\n",
      "predicted=27.185192, expected=21.000000\n",
      "predicted=20.538029, expected=30.000000\n",
      "predicted=29.413256, expected=14.000000\n",
      "predicted=13.983097, expected=22.000000\n",
      "predicted=20.728919, expected=19.000000\n",
      "predicted=16.708848, expected=16.000000\n",
      "predicted=15.167236, expected=35.000000\n",
      "predicted=34.214091, expected=26.000000\n",
      "predicted=27.163756, expected=26.000000\n",
      "predicted=29.059357, expected=30.000000\n",
      "predicted=29.742571, expected=22.000000\n",
      "predicted=21.020255, expected=23.000000\n",
      "predicted=22.467024, expected=21.000000\n",
      "predicted=19.126847, expected=25.000000\n",
      "predicted=23.401663, expected=22.000000\n",
      "predicted=21.751006, expected=14.000000\n",
      "predicted=14.134909, expected=24.000000\n",
      "predicted=22.119126, expected=20.000000\n",
      "predicted=18.496593, expected=24.000000\n",
      "predicted=24.591528, expected=22.000000\n",
      "predicted=22.508763, expected=22.000000\n",
      "predicted=21.922289, expected=20.000000\n",
      "predicted=19.655215, expected=24.000000\n",
      "predicted=23.017273, expected=20.000000\n",
      "predicted=19.681974, expected=21.000000\n",
      "predicted=20.860807, expected=17.000000\n",
      "predicted=16.310244, expected=19.000000\n",
      "predicted=17.789005, expected=23.000000\n",
      "predicted=21.901081, expected=22.000000\n",
      "predicted=22.198772, expected=23.000000\n",
      "predicted=23.837071, expected=23.000000\n",
      "predicted=23.073401, expected=27.000000\n",
      "predicted=26.694969, expected=35.000000\n",
      "predicted=35.136958, expected=22.000000\n",
      "predicted=23.953287, expected=19.000000\n",
      "predicted=19.551716, expected=20.000000\n",
      "predicted=16.771079, expected=22.000000\n",
      "predicted=19.078426, expected=18.000000\n",
      "predicted=17.729832, expected=25.000000\n",
      "predicted=24.646399, expected=27.000000\n",
      "predicted=26.763141, expected=25.000000\n",
      "predicted=26.252609, expected=12.000000\n",
      "predicted=13.057553, expected=22.000000\n",
      "predicted=19.452973, expected=22.000000\n",
      "predicted=19.200304, expected=27.000000\n",
      "predicted=27.385545, expected=23.000000\n",
      "predicted=24.738058, expected=24.000000\n",
      "predicted=24.449760, expected=24.000000\n",
      "predicted=23.363016, expected=17.000000\n",
      "predicted=16.434204, expected=20.000000\n",
      "predicted=18.723025, expected=15.000000\n",
      "predicted=13.246020, expected=41.000000\n",
      "predicted=39.306751, expected=28.000000\n",
      "predicted=30.460772, expected=12.000000\n",
      "predicted=16.415887, expected=27.000000\n",
      "predicted=24.316054, expected=17.000000\n",
      "predicted=12.777728, expected=17.000000\n",
      "Test MAE: 5.438\n"
     ]
    },
    {
     "data": {
      "image/png": "[encoded data removed]",
      "text/plain": [
       "<Figure size 432x288 with 1 Axes>"
      ]
     },
     "metadata": {
      "needs_background": "light"
     },
     "output_type": "display_data"
    }
   ],
   "source": [
    "from statsmodels.tsa.statespace.sarimax import SARIMAX\n",
    "from matplotlib import pyplot\n",
    "from math import sqrt\n",
    "from sklearn.metrics import mean_squared_error\n",
    "from sklearn.metrics import mean_absolute_error\n",
    "import numpy as np\n",
    "\n",
    "#history = [x for x in train_data]\n",
    "history = train[['cases_medellin']].to_numpy()\n",
    "\n",
    "#print(history)\n",
    "predictions = list()\n",
    "# walk-forward validation\n",
    "#print(len(test_data))\n",
    "for t in range(len(test)):    # len test -> 63  range(63)-> 0,62 1-63\n",
    "    #print(t)\n",
    "    model = SARIMAX(history, order=(5,0,1), seasonal_order=(0,0,0,52))\n",
    "    model_fit = model.fit()\n",
    "    output = model_fit.forecast()  #nxt week predictions\n",
    "    yhat = output[0]  ##nxt week output prediction\n",
    "    predictions = np.append(predictions, yhat) \n",
    "    \n",
    "    obs = test[['cases_medellin']].to_numpy()[t]\n",
    "    #print(obs)\n",
    "    history = np.vstack((history, obs))\n",
    "    #print(history.shape)\n",
    "    print('predicted=%f, expected=%f' % (yhat, obs))\n",
    "    \n",
    "# evaluate forecasts\n",
    "mae = mean_absolute_error(test[['cases_medellin']].to_numpy(), predictions)  ##mean_absolute_percentage_error\n",
    "print('Test MAE: %.3f' % mae)\n",
    "# plot forecasts against actual outcomes\n",
    "pyplot.plot(test[['cases_medellin']].to_numpy())\n",
    "pyplot.plot(predictions, color='red')\n",
    "pyplot.show()"
   ]
  },
  {
   "cell_type": "code",
   "execution_count": null,
   "id": "1a9609c5",
   "metadata": {},
   "outputs": [],
   "source": []
  },
  {
   "cell_type": "code",
   "execution_count": null,
   "id": "32d33e59",
   "metadata": {},
   "outputs": [],
   "source": []
  },
  {
   "cell_type": "code",
   "execution_count": null,
   "id": "b33b4a29",
   "metadata": {},
   "outputs": [],
   "source": []
  },
  {
   "cell_type": "code",
   "execution_count": 19,
   "id": "731c9fbd",
   "metadata": {},
   "outputs": [
    {
     "data": {
      "text/plain": [
       "array([29.94033135])"
      ]
     },
     "execution_count": 19,
     "metadata": {},
     "output_type": "execute_result"
    }
   ],
   "source": []
  },
  {
   "cell_type": "code",
   "execution_count": null,
   "id": "8a5ce17a",
   "metadata": {},
   "outputs": [],
   "source": []
  },
  {
   "cell_type": "code",
   "execution_count": null,
   "id": "999b49c2",
   "metadata": {},
   "outputs": [],
   "source": [
    "from statsmodels.tsa.statespace.sarimax import SARIMAX\n",
    "model = SARIMAX(train['cases_medellin'], order=(1,0,1), seasonal_order=(1,0,1,52), exog=train['temperature_medellin'])\n",
    "results = model.fit()\n",
    "\n"
   ]
  }
 ],
 "metadata": {
  "kernelspec": {
   "display_name": "Python 3",
   "language": "python",
   "name": "python3"
  },
  "language_info": {
   "codemirror_mode": {
    "name": "ipython",
    "version": 3
   },
   "file_extension": ".py",
   "mimetype": "text/x-python",
   "name": "python",
   "nbconvert_exporter": "python",
   "pygments_lexer": "ipython3",
   "version": "3.6.13"
  }
 },
 "nbformat": 4,
 "nbformat_minor": 5
}
