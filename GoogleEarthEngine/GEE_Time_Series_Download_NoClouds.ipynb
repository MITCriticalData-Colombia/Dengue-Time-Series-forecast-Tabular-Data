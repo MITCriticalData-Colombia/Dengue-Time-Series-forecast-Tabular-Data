{
 "cells": [
  {
   "cell_type": "code",
   "execution_count": 1,
   "metadata": {
    "colab": {
     "base_uri": "https://localhost:8080/"
    },
    "executionInfo": {
     "elapsed": 4233,
     "status": "ok",
     "timestamp": 1627303021058,
     "user": {
      "displayName": "DAVID RESTREPO",
      "photoUrl": "https://lh3.googleusercontent.com/a-/AOh14GgqxItBQRJ0dDzIdCZM0BMuA0KeTKTlKRNGMApY=s64",
      "userId": "09638303782015555303"
     },
     "user_tz": 300
    },
    "id": "fuUk9RXxntGX",
    "outputId": "b9b95016-9ca7-4797-883b-19b9a7345cce"
   },
   "outputs": [
    {
     "name": "stdout",
     "output_type": "stream",
     "text": [
      "Requirement already satisfied: geemap in /usr/local/lib/python3.7/dist-packages (0.8.18)\n",
      "Requirement already satisfied: googledrivedownloader in /usr/local/lib/python3.7/dist-packages (from geemap) (0.4)\n",
      "Requirement already satisfied: ipynb-py-convert in /usr/local/lib/python3.7/dist-packages (from geemap) (0.4.6)\n",
      "Requirement already satisfied: ffmpeg-python in /usr/local/lib/python3.7/dist-packages (from geemap) (0.2.0)\n",
      "Requirement already satisfied: pyshp>=2.1.3 in /usr/local/lib/python3.7/dist-packages (from geemap) (2.1.3)\n",
      "Requirement already satisfied: python-box in /usr/local/lib/python3.7/dist-packages (from geemap) (5.3.0)\n",
      "Requirement already satisfied: matplotlib in /usr/local/lib/python3.7/dist-packages (from geemap) (3.2.2)\n",
      "Requirement already satisfied: pillow in /usr/local/lib/python3.7/dist-packages (from geemap) (7.1.2)\n",
      "Requirement already satisfied: sankee in /usr/local/lib/python3.7/dist-packages (from geemap) (0.0.5)\n",
      "Requirement already satisfied: colour in /usr/local/lib/python3.7/dist-packages (from geemap) (0.1.5)\n",
      "Requirement already satisfied: ipyleaflet>=0.14.0 in /usr/local/lib/python3.7/dist-packages (from geemap) (0.14.0)\n",
      "Requirement already satisfied: pycrs in /usr/local/lib/python3.7/dist-packages (from geemap) (1.0.2)\n",
      "Requirement already satisfied: whiteboxgui in /usr/local/lib/python3.7/dist-packages (from geemap) (0.3.0)\n",
      "Requirement already satisfied: click in /usr/local/lib/python3.7/dist-packages (from geemap) (7.1.2)\n",
      "Requirement already satisfied: geocoder in /usr/local/lib/python3.7/dist-packages (from geemap) (1.38.1)\n",
      "Requirement already satisfied: mss in /usr/local/lib/python3.7/dist-packages (from geemap) (6.1.0)\n",
      "Requirement already satisfied: ipytree in /usr/local/lib/python3.7/dist-packages (from geemap) (0.2.1)\n",
      "Requirement already satisfied: geeadd>=0.5.1 in /usr/local/lib/python3.7/dist-packages (from geemap) (0.5.5)\n",
      "Requirement already satisfied: folium>=0.11.0 in /usr/local/lib/python3.7/dist-packages (from geemap) (0.12.1)\n",
      "Requirement already satisfied: voila in /usr/local/lib/python3.7/dist-packages (from geemap) (0.2.10)\n",
      "Requirement already satisfied: bqplot in /usr/local/lib/python3.7/dist-packages (from geemap) (0.12.30)\n",
      "Requirement already satisfied: ipyfilechooser in /usr/local/lib/python3.7/dist-packages (from geemap) (0.4.4)\n",
      "Requirement already satisfied: geojson in /usr/local/lib/python3.7/dist-packages (from geemap) (2.5.0)\n",
      "Requirement already satisfied: numpy in /usr/local/lib/python3.7/dist-packages (from geemap) (1.19.5)\n",
      "Requirement already satisfied: ipyevents in /usr/local/lib/python3.7/dist-packages (from geemap) (2.0.1)\n",
      "Requirement already satisfied: pandas in /usr/local/lib/python3.7/dist-packages (from geemap) (1.1.5)\n",
      "Requirement already satisfied: earthengine-api>=0.1.230 in /usr/local/lib/python3.7/dist-packages (from geemap) (0.1.272)\n",
      "Requirement already satisfied: future in /usr/local/lib/python3.7/dist-packages (from earthengine-api>=0.1.230->geemap) (0.16.0)\n",
      "Requirement already satisfied: google-auth>=1.4.1 in /usr/local/lib/python3.7/dist-packages (from earthengine-api>=0.1.230->geemap) (1.32.1)\n",
      "Requirement already satisfied: google-auth-httplib2>=0.0.3 in /usr/local/lib/python3.7/dist-packages (from earthengine-api>=0.1.230->geemap) (0.0.4)\n",
      "Requirement already satisfied: six in /usr/local/lib/python3.7/dist-packages (from earthengine-api>=0.1.230->geemap) (1.15.0)\n",
      "Requirement already satisfied: google-cloud-storage in /usr/local/lib/python3.7/dist-packages (from earthengine-api>=0.1.230->geemap) (1.18.1)\n",
      "Requirement already satisfied: google-api-python-client<2,>=1.12.1 in /usr/local/lib/python3.7/dist-packages (from earthengine-api>=0.1.230->geemap) (1.12.8)\n",
      "Requirement already satisfied: httplib2<1dev,>=0.9.2 in /usr/local/lib/python3.7/dist-packages (from earthengine-api>=0.1.230->geemap) (0.17.4)\n",
      "Requirement already satisfied: httplib2shim in /usr/local/lib/python3.7/dist-packages (from earthengine-api>=0.1.230->geemap) (0.0.3)\n",
      "Requirement already satisfied: branca>=0.3.0 in /usr/local/lib/python3.7/dist-packages (from folium>=0.11.0->geemap) (0.4.2)\n",
      "Requirement already satisfied: jinja2>=2.9 in /usr/local/lib/python3.7/dist-packages (from folium>=0.11.0->geemap) (2.11.3)\n",
      "Requirement already satisfied: requests in /usr/local/lib/python3.7/dist-packages (from folium>=0.11.0->geemap) (2.23.0)\n",
      "Requirement already satisfied: beautifulsoup4>=4.9.0 in /usr/local/lib/python3.7/dist-packages (from geeadd>=0.5.1->geemap) (4.9.3)\n",
      "Requirement already satisfied: logzero>=1.5.0 in /usr/local/lib/python3.7/dist-packages (from geeadd>=0.5.1->geemap) (1.7.0)\n",
      "Requirement already satisfied: soupsieve>1.2 in /usr/local/lib/python3.7/dist-packages (from beautifulsoup4>=4.9.0->geeadd>=0.5.1->geemap) (2.2.1)\n",
      "Requirement already satisfied: google-api-core<2dev,>=1.21.0 in /usr/local/lib/python3.7/dist-packages (from google-api-python-client<2,>=1.12.1->earthengine-api>=0.1.230->geemap) (1.26.3)\n",
      "Requirement already satisfied: uritemplate<4dev,>=3.0.0 in /usr/local/lib/python3.7/dist-packages (from google-api-python-client<2,>=1.12.1->earthengine-api>=0.1.230->geemap) (3.0.1)\n",
      "Requirement already satisfied: pytz in /usr/local/lib/python3.7/dist-packages (from google-api-core<2dev,>=1.21.0->google-api-python-client<2,>=1.12.1->earthengine-api>=0.1.230->geemap) (2018.9)\n",
      "Requirement already satisfied: packaging>=14.3 in /usr/local/lib/python3.7/dist-packages (from google-api-core<2dev,>=1.21.0->google-api-python-client<2,>=1.12.1->earthengine-api>=0.1.230->geemap) (21.0)\n",
      "Requirement already satisfied: protobuf>=3.12.0 in /usr/local/lib/python3.7/dist-packages (from google-api-core<2dev,>=1.21.0->google-api-python-client<2,>=1.12.1->earthengine-api>=0.1.230->geemap) (3.17.3)\n",
      "Requirement already satisfied: googleapis-common-protos<2.0dev,>=1.6.0 in /usr/local/lib/python3.7/dist-packages (from google-api-core<2dev,>=1.21.0->google-api-python-client<2,>=1.12.1->earthengine-api>=0.1.230->geemap) (1.53.0)\n",
      "Requirement already satisfied: setuptools>=40.3.0 in /usr/local/lib/python3.7/dist-packages (from google-api-core<2dev,>=1.21.0->google-api-python-client<2,>=1.12.1->earthengine-api>=0.1.230->geemap) (57.2.0)\n",
      "Requirement already satisfied: cachetools<5.0,>=2.0.0 in /usr/local/lib/python3.7/dist-packages (from google-auth>=1.4.1->earthengine-api>=0.1.230->geemap) (4.2.2)\n",
      "Requirement already satisfied: pyasn1-modules>=0.2.1 in /usr/local/lib/python3.7/dist-packages (from google-auth>=1.4.1->earthengine-api>=0.1.230->geemap) (0.2.8)\n",
      "Requirement already satisfied: rsa<5,>=3.1.4 in /usr/local/lib/python3.7/dist-packages (from google-auth>=1.4.1->earthengine-api>=0.1.230->geemap) (4.7.2)\n",
      "Requirement already satisfied: traittypes<3,>=0.2.1 in /usr/local/lib/python3.7/dist-packages (from ipyleaflet>=0.14.0->geemap) (0.2.1)\n",
      "Requirement already satisfied: ipywidgets<8,>=7.6.0 in /usr/local/lib/python3.7/dist-packages (from ipyleaflet>=0.14.0->geemap) (7.6.3)\n",
      "Requirement already satisfied: nbformat>=4.2.0 in /usr/local/lib/python3.7/dist-packages (from ipywidgets<8,>=7.6.0->ipyleaflet>=0.14.0->geemap) (5.1.3)\n",
      "Requirement already satisfied: jupyterlab-widgets>=1.0.0 in /usr/local/lib/python3.7/dist-packages (from ipywidgets<8,>=7.6.0->ipyleaflet>=0.14.0->geemap) (1.0.0)\n",
      "Requirement already satisfied: ipykernel>=4.5.1 in /usr/local/lib/python3.7/dist-packages (from ipywidgets<8,>=7.6.0->ipyleaflet>=0.14.0->geemap) (4.10.1)\n",
      "Requirement already satisfied: ipython>=4.0.0 in /usr/local/lib/python3.7/dist-packages (from ipywidgets<8,>=7.6.0->ipyleaflet>=0.14.0->geemap) (5.5.0)\n",
      "Requirement already satisfied: traitlets>=4.3.1 in /usr/local/lib/python3.7/dist-packages (from ipywidgets<8,>=7.6.0->ipyleaflet>=0.14.0->geemap) (5.0.5)\n",
      "Requirement already satisfied: widgetsnbextension~=3.5.0 in /usr/local/lib/python3.7/dist-packages (from ipywidgets<8,>=7.6.0->ipyleaflet>=0.14.0->geemap) (3.5.1)\n",
      "Requirement already satisfied: tornado>=4.0 in /usr/local/lib/python3.7/dist-packages (from ipykernel>=4.5.1->ipywidgets<8,>=7.6.0->ipyleaflet>=0.14.0->geemap) (6.1)\n",
      "Requirement already satisfied: jupyter-client in /usr/local/lib/python3.7/dist-packages (from ipykernel>=4.5.1->ipywidgets<8,>=7.6.0->ipyleaflet>=0.14.0->geemap) (6.1.12)\n",
      "Requirement already satisfied: prompt-toolkit<2.0.0,>=1.0.4 in /usr/local/lib/python3.7/dist-packages (from ipython>=4.0.0->ipywidgets<8,>=7.6.0->ipyleaflet>=0.14.0->geemap) (1.0.18)\n",
      "Requirement already satisfied: pexpect in /usr/local/lib/python3.7/dist-packages (from ipython>=4.0.0->ipywidgets<8,>=7.6.0->ipyleaflet>=0.14.0->geemap) (4.8.0)\n",
      "Requirement already satisfied: pygments in /usr/local/lib/python3.7/dist-packages (from ipython>=4.0.0->ipywidgets<8,>=7.6.0->ipyleaflet>=0.14.0->geemap) (2.6.1)\n",
      "Requirement already satisfied: pickleshare in /usr/local/lib/python3.7/dist-packages (from ipython>=4.0.0->ipywidgets<8,>=7.6.0->ipyleaflet>=0.14.0->geemap) (0.7.5)\n",
      "Requirement already satisfied: simplegeneric>0.8 in /usr/local/lib/python3.7/dist-packages (from ipython>=4.0.0->ipywidgets<8,>=7.6.0->ipyleaflet>=0.14.0->geemap) (0.8.1)\n",
      "Requirement already satisfied: decorator in /usr/local/lib/python3.7/dist-packages (from ipython>=4.0.0->ipywidgets<8,>=7.6.0->ipyleaflet>=0.14.0->geemap) (4.4.2)\n",
      "Requirement already satisfied: MarkupSafe>=0.23 in /usr/local/lib/python3.7/dist-packages (from jinja2>=2.9->folium>=0.11.0->geemap) (2.0.1)\n",
      "Requirement already satisfied: jsonschema!=2.5.0,>=2.4 in /usr/local/lib/python3.7/dist-packages (from nbformat>=4.2.0->ipywidgets<8,>=7.6.0->ipyleaflet>=0.14.0->geemap) (2.6.0)\n",
      "Requirement already satisfied: ipython-genutils in /usr/local/lib/python3.7/dist-packages (from nbformat>=4.2.0->ipywidgets<8,>=7.6.0->ipyleaflet>=0.14.0->geemap) (0.2.0)\n",
      "Requirement already satisfied: jupyter-core in /usr/local/lib/python3.7/dist-packages (from nbformat>=4.2.0->ipywidgets<8,>=7.6.0->ipyleaflet>=0.14.0->geemap) (4.7.1)\n",
      "Requirement already satisfied: pyparsing>=2.0.2 in /usr/local/lib/python3.7/dist-packages (from packaging>=14.3->google-api-core<2dev,>=1.21.0->google-api-python-client<2,>=1.12.1->earthengine-api>=0.1.230->geemap) (2.4.7)\n",
      "Requirement already satisfied: wcwidth in /usr/local/lib/python3.7/dist-packages (from prompt-toolkit<2.0.0,>=1.0.4->ipython>=4.0.0->ipywidgets<8,>=7.6.0->ipyleaflet>=0.14.0->geemap) (0.2.5)\n",
      "Requirement already satisfied: pyasn1<0.5.0,>=0.4.6 in /usr/local/lib/python3.7/dist-packages (from pyasn1-modules>=0.2.1->google-auth>=1.4.1->earthengine-api>=0.1.230->geemap) (0.4.8)\n",
      "Requirement already satisfied: certifi>=2017.4.17 in /usr/local/lib/python3.7/dist-packages (from requests->folium>=0.11.0->geemap) (2021.5.30)\n",
      "Requirement already satisfied: idna<3,>=2.5 in /usr/local/lib/python3.7/dist-packages (from requests->folium>=0.11.0->geemap) (2.10)\n",
      "Requirement already satisfied: urllib3!=1.25.0,!=1.25.1,<1.26,>=1.21.1 in /usr/local/lib/python3.7/dist-packages (from requests->folium>=0.11.0->geemap) (1.24.3)\n",
      "Requirement already satisfied: chardet<4,>=3.0.2 in /usr/local/lib/python3.7/dist-packages (from requests->folium>=0.11.0->geemap) (3.0.4)\n",
      "Requirement already satisfied: notebook>=4.4.1 in /usr/local/lib/python3.7/dist-packages (from widgetsnbextension~=3.5.0->ipywidgets<8,>=7.6.0->ipyleaflet>=0.14.0->geemap) (5.3.1)\n",
      "Requirement already satisfied: terminado>=0.8.1 in /usr/local/lib/python3.7/dist-packages (from notebook>=4.4.1->widgetsnbextension~=3.5.0->ipywidgets<8,>=7.6.0->ipyleaflet>=0.14.0->geemap) (0.10.1)\n",
      "Requirement already satisfied: nbconvert in /usr/local/lib/python3.7/dist-packages (from notebook>=4.4.1->widgetsnbextension~=3.5.0->ipywidgets<8,>=7.6.0->ipyleaflet>=0.14.0->geemap) (6.1.0)\n",
      "Requirement already satisfied: Send2Trash in /usr/local/lib/python3.7/dist-packages (from notebook>=4.4.1->widgetsnbextension~=3.5.0->ipywidgets<8,>=7.6.0->ipyleaflet>=0.14.0->geemap) (1.7.1)\n",
      "Requirement already satisfied: python-dateutil>=2.1 in /usr/local/lib/python3.7/dist-packages (from jupyter-client->ipykernel>=4.5.1->ipywidgets<8,>=7.6.0->ipyleaflet>=0.14.0->geemap) (2.8.1)\n",
      "Requirement already satisfied: pyzmq>=13 in /usr/local/lib/python3.7/dist-packages (from jupyter-client->ipykernel>=4.5.1->ipywidgets<8,>=7.6.0->ipyleaflet>=0.14.0->geemap) (22.1.0)\n",
      "Requirement already satisfied: ptyprocess in /usr/local/lib/python3.7/dist-packages (from terminado>=0.8.1->notebook>=4.4.1->widgetsnbextension~=3.5.0->ipywidgets<8,>=7.6.0->ipyleaflet>=0.14.0->geemap) (0.7.0)\n",
      "Requirement already satisfied: ratelim in /usr/local/lib/python3.7/dist-packages (from geocoder->geemap) (0.1.6)\n",
      "Requirement already satisfied: google-resumable-media<0.5.0dev,>=0.3.1 in /usr/local/lib/python3.7/dist-packages (from google-cloud-storage->earthengine-api>=0.1.230->geemap) (0.4.1)\n",
      "Requirement already satisfied: google-cloud-core<2.0dev,>=1.0.0 in /usr/local/lib/python3.7/dist-packages (from google-cloud-storage->earthengine-api>=0.1.230->geemap) (1.0.3)\n",
      "Requirement already satisfied: cycler>=0.10 in /usr/local/lib/python3.7/dist-packages (from matplotlib->geemap) (0.10.0)\n",
      "Requirement already satisfied: kiwisolver>=1.0.1 in /usr/local/lib/python3.7/dist-packages (from matplotlib->geemap) (1.3.1)\n",
      "Requirement already satisfied: defusedxml in /usr/local/lib/python3.7/dist-packages (from nbconvert->notebook>=4.4.1->widgetsnbextension~=3.5.0->ipywidgets<8,>=7.6.0->ipyleaflet>=0.14.0->geemap) (0.7.1)\n",
      "Requirement already satisfied: bleach in /usr/local/lib/python3.7/dist-packages (from nbconvert->notebook>=4.4.1->widgetsnbextension~=3.5.0->ipywidgets<8,>=7.6.0->ipyleaflet>=0.14.0->geemap) (3.3.0)\n",
      "Requirement already satisfied: jupyterlab-pygments in /usr/local/lib/python3.7/dist-packages (from nbconvert->notebook>=4.4.1->widgetsnbextension~=3.5.0->ipywidgets<8,>=7.6.0->ipyleaflet>=0.14.0->geemap) (0.1.2)\n",
      "Requirement already satisfied: testpath in /usr/local/lib/python3.7/dist-packages (from nbconvert->notebook>=4.4.1->widgetsnbextension~=3.5.0->ipywidgets<8,>=7.6.0->ipyleaflet>=0.14.0->geemap) (0.5.0)\n",
      "Requirement already satisfied: nbclient<0.6.0,>=0.5.0 in /usr/local/lib/python3.7/dist-packages (from nbconvert->notebook>=4.4.1->widgetsnbextension~=3.5.0->ipywidgets<8,>=7.6.0->ipyleaflet>=0.14.0->geemap) (0.5.3)\n",
      "Requirement already satisfied: pandocfilters>=1.4.1 in /usr/local/lib/python3.7/dist-packages (from nbconvert->notebook>=4.4.1->widgetsnbextension~=3.5.0->ipywidgets<8,>=7.6.0->ipyleaflet>=0.14.0->geemap) (1.4.3)\n",
      "Requirement already satisfied: mistune<2,>=0.8.1 in /usr/local/lib/python3.7/dist-packages (from nbconvert->notebook>=4.4.1->widgetsnbextension~=3.5.0->ipywidgets<8,>=7.6.0->ipyleaflet>=0.14.0->geemap) (0.8.4)\n",
      "Requirement already satisfied: entrypoints>=0.2.2 in /usr/local/lib/python3.7/dist-packages (from nbconvert->notebook>=4.4.1->widgetsnbextension~=3.5.0->ipywidgets<8,>=7.6.0->ipyleaflet>=0.14.0->geemap) (0.3)\n",
      "Requirement already satisfied: nest-asyncio in /usr/local/lib/python3.7/dist-packages (from nbclient<0.6.0,>=0.5.0->nbconvert->notebook>=4.4.1->widgetsnbextension~=3.5.0->ipywidgets<8,>=7.6.0->ipyleaflet>=0.14.0->geemap) (1.5.1)\n",
      "Requirement already satisfied: async-generator in /usr/local/lib/python3.7/dist-packages (from nbclient<0.6.0,>=0.5.0->nbconvert->notebook>=4.4.1->widgetsnbextension~=3.5.0->ipywidgets<8,>=7.6.0->ipyleaflet>=0.14.0->geemap) (1.10)\n",
      "Requirement already satisfied: webencodings in /usr/local/lib/python3.7/dist-packages (from bleach->nbconvert->notebook>=4.4.1->widgetsnbextension~=3.5.0->ipywidgets<8,>=7.6.0->ipyleaflet>=0.14.0->geemap) (0.5.1)\n",
      "Requirement already satisfied: plotly in /usr/local/lib/python3.7/dist-packages (from sankee->geemap) (4.4.1)\n",
      "Requirement already satisfied: retrying>=1.3.3 in /usr/local/lib/python3.7/dist-packages (from plotly->sankee->geemap) (1.3.3)\n",
      "Requirement already satisfied: jupyter-server<2.0.0,>=0.3.0 in /usr/local/lib/python3.7/dist-packages (from voila->geemap) (1.10.1)\n",
      "Requirement already satisfied: websocket-client in /usr/local/lib/python3.7/dist-packages (from jupyter-server<2.0.0,>=0.3.0->voila->geemap) (1.1.0)\n",
      "Requirement already satisfied: prometheus-client in /usr/local/lib/python3.7/dist-packages (from jupyter-server<2.0.0,>=0.3.0->voila->geemap) (0.11.0)\n",
      "Requirement already satisfied: requests-unixsocket in /usr/local/lib/python3.7/dist-packages (from jupyter-server<2.0.0,>=0.3.0->voila->geemap) (0.2.0)\n",
      "Requirement already satisfied: anyio<4,>=3.1.0 in /usr/local/lib/python3.7/dist-packages (from jupyter-server<2.0.0,>=0.3.0->voila->geemap) (3.3.0)\n",
      "Requirement already satisfied: argon2-cffi in /usr/local/lib/python3.7/dist-packages (from jupyter-server<2.0.0,>=0.3.0->voila->geemap) (20.1.0)\n",
      "Requirement already satisfied: typing-extensions in /usr/local/lib/python3.7/dist-packages (from anyio<4,>=3.1.0->jupyter-server<2.0.0,>=0.3.0->voila->geemap) (3.7.4.3)\n",
      "Requirement already satisfied: sniffio>=1.1 in /usr/local/lib/python3.7/dist-packages (from anyio<4,>=3.1.0->jupyter-server<2.0.0,>=0.3.0->voila->geemap) (1.2.0)\n",
      "Requirement already satisfied: cffi>=1.0.0 in /usr/local/lib/python3.7/dist-packages (from argon2-cffi->jupyter-server<2.0.0,>=0.3.0->voila->geemap) (1.14.6)\n",
      "Requirement already satisfied: pycparser in /usr/local/lib/python3.7/dist-packages (from cffi>=1.0.0->argon2-cffi->jupyter-server<2.0.0,>=0.3.0->voila->geemap) (2.20)\n",
      "Requirement already satisfied: whitebox in /usr/local/lib/python3.7/dist-packages (from whiteboxgui->geemap) (1.5.1)\n"
     ]
    }
   ],
   "source": [
    "#! pip install geemap"
   ]
  },
  {
   "cell_type": "code",
   "execution_count": 72,
   "metadata": {
    "executionInfo": {
     "elapsed": 173,
     "status": "ok",
     "timestamp": 1627310048383,
     "user": {
      "displayName": "DAVID RESTREPO",
      "photoUrl": "https://lh3.googleusercontent.com/a-/AOh14GgqxItBQRJ0dDzIdCZM0BMuA0KeTKTlKRNGMApY=s64",
      "userId": "09638303782015555303"
     },
     "user_tz": 300
    },
    "id": "VgXTtnhenVnl"
   },
   "outputs": [],
   "source": [
    "import ee\n",
    "import geemap"
   ]
  },
  {
   "cell_type": "code",
   "execution_count": 73,
   "metadata": {
    "colab": {
     "base_uri": "https://localhost:8080/"
    },
    "executionInfo": {
     "elapsed": 178,
     "status": "ok",
     "timestamp": 1627310049958,
     "user": {
      "displayName": "DAVID RESTREPO",
      "photoUrl": "https://lh3.googleusercontent.com/a-/AOh14GgqxItBQRJ0dDzIdCZM0BMuA0KeTKTlKRNGMApY=s64",
      "userId": "09638303782015555303"
     },
     "user_tz": 300
    },
    "id": "vLzwZPDEz7BQ",
    "outputId": "fa6c4374-4f32-4757-ac98-205d0a7eb78f"
   },
   "outputs": [
    {
     "data": {
      "text/plain": [
       "\"\\n#connect with drive\\nfrom google.colab import drive\\ndrive.mount('/content/drive')\\n\""
      ]
     },
     "execution_count": 73,
     "metadata": {},
     "output_type": "execute_result"
    }
   ],
   "source": [
    "# If you are working with a shape file stored in google drive remove the quotes (\"\"\" \"\"\")\n",
    "\n",
    "\"\"\"\n",
    "#connect with drive\n",
    "from google.colab import drive\n",
    "drive.mount('/content/drive')\n",
    "\"\"\""
   ]
  },
  {
   "cell_type": "code",
   "execution_count": 74,
   "metadata": {
    "colab": {
     "base_uri": "https://localhost:8080/"
    },
    "executionInfo": {
     "elapsed": 14246,
     "status": "ok",
     "timestamp": 1627310064886,
     "user": {
      "displayName": "DAVID RESTREPO",
      "photoUrl": "https://lh3.googleusercontent.com/a-/AOh14GgqxItBQRJ0dDzIdCZM0BMuA0KeTKTlKRNGMApY=s64",
      "userId": "09638303782015555303"
     },
     "user_tz": 300
    },
    "id": "rk_wa2QD0A9R",
    "outputId": "dd5481bc-ff4f-445e-9c41-29244c912f74"
   },
   "outputs": [
    {
     "data": {
      "text/html": [
       "<p>To authorize access needed by Earth Engine, open the following\n",
       "        URL in a web browser and follow the instructions:</p>\n",
       "        <p><a href=https://accounts.google.com/o/oauth2/auth?client_id=517222506229-vsmmajv00ul0bs7p89v5m89qs8eb9359.apps.googleusercontent.com&scope=https%3A%2F%2Fwww.googleapis.com%2Fauth%2Fearthengine+https%3A%2F%2Fwww.googleapis.com%2Fauth%2Fdevstorage.full_control&redirect_uri=urn%3Aietf%3Awg%3Aoauth%3A2.0%3Aoob&response_type=code&code_challenge=5yaHi9fXCQ3ejDO365DrTqMqRqi35CZe6e1cDKsLUWw&code_challenge_method=S256>https://accounts.google.com/o/oauth2/auth?client_id=517222506229-vsmmajv00ul0bs7p89v5m89qs8eb9359.apps.googleusercontent.com&scope=https%3A%2F%2Fwww.googleapis.com%2Fauth%2Fearthengine+https%3A%2F%2Fwww.googleapis.com%2Fauth%2Fdevstorage.full_control&redirect_uri=urn%3Aietf%3Awg%3Aoauth%3A2.0%3Aoob&response_type=code&code_challenge=5yaHi9fXCQ3ejDO365DrTqMqRqi35CZe6e1cDKsLUWw&code_challenge_method=S256</a></p>\n",
       "        <p>The authorization workflow will generate a code, which you\n",
       "        should paste in the box below</p>\n",
       "        "
      ],
      "text/plain": [
       "<IPython.core.display.HTML object>"
      ]
     },
     "metadata": {},
     "output_type": "display_data"
    },
    {
     "name": "stdout",
     "output_type": "stream",
     "text": [
      "Enter verification code: 4/1AX4XfWjVHIT2EXgC8xTN33lKe9qs5bM514ZZLPGdugqkQIc29nei4P082UQ\n",
      "\n",
      "Successfully saved authorization token.\n"
     ]
    }
   ],
   "source": [
    "# Trigger the authentication flow.\n",
    "ee.Authenticate()\n",
    "\n",
    "# Initialize the library.\n",
    "ee.Initialize()"
   ]
  },
  {
   "cell_type": "code",
   "execution_count": 75,
   "metadata": {
    "executionInfo": {
     "elapsed": 162,
     "status": "ok",
     "timestamp": 1627311038641,
     "user": {
      "displayName": "DAVID RESTREPO",
      "photoUrl": "https://lh3.googleusercontent.com/a-/AOh14GgqxItBQRJ0dDzIdCZM0BMuA0KeTKTlKRNGMApY=s64",
      "userId": "09638303782015555303"
     },
     "user_tz": 300
    },
    "id": "6AznUyAgnqG7"
   },
   "outputs": [],
   "source": [
    "Map = geemap.Map()\n",
    "#Map"
   ]
  },
  {
   "cell_type": "code",
   "execution_count": 76,
   "metadata": {
    "executionInfo": {
     "elapsed": 174,
     "status": "ok",
     "timestamp": 1627311039054,
     "user": {
      "displayName": "DAVID RESTREPO",
      "photoUrl": "https://lh3.googleusercontent.com/a-/AOh14GgqxItBQRJ0dDzIdCZM0BMuA0KeTKTlKRNGMApY=s64",
      "userId": "09638303782015555303"
     },
     "user_tz": 300
    },
    "id": "BC_WBkMdvPKh"
   },
   "outputs": [],
   "source": [
    "# https://sites.google.com/site/seriescol/shapes\n",
    "shape = ee.FeatureCollection('users/dsrestrepo/mpio')\n",
    "\n",
    "# Cauca = shape.filter(ee.Filter.eq('DPTO_CCDGO', 19))\n",
    "# Popayan = shape.filter(ee.Filter.eq('MPIO_CCNCT\t', 19001))\n",
    "# Medellin = ee.FeatureCollection('users/dsrestrepo/Medellin')\n",
    "\n",
    "Popayan = shape.filter(ee.Filter.eq('MPIOS', '19001'))\n",
    "\n",
    "Map.addLayer(Popayan, {}, \"Popayan\")"
   ]
  },
  {
   "cell_type": "code",
   "execution_count": 77,
   "metadata": {
    "colab": {
     "base_uri": "https://localhost:8080/"
    },
    "executionInfo": {
     "elapsed": 3,
     "status": "ok",
     "timestamp": 1627311039055,
     "user": {
      "displayName": "DAVID RESTREPO",
      "photoUrl": "https://lh3.googleusercontent.com/a-/AOh14GgqxItBQRJ0dDzIdCZM0BMuA0KeTKTlKRNGMApY=s64",
      "userId": "09638303782015555303"
     },
     "user_tz": 300
    },
    "id": "HHQrGXRnv-6D",
    "outputId": "1cc2f8f3-e030-4ee8-f4fc-af6e7a87261f"
   },
   "outputs": [
    {
     "data": {
      "text/plain": [
       "[2013, 2014, 2015, 2016, 2017, 2018, 2019, 2020]"
      ]
     },
     "execution_count": 77,
     "metadata": {},
     "output_type": "execute_result"
    }
   ],
   "source": [
    "years = ee.List.sequence(2013, 2020)\n",
    "years.getInfo()"
   ]
  },
  {
   "cell_type": "code",
   "execution_count": 78,
   "metadata": {
    "executionInfo": {
     "elapsed": 1,
     "status": "ok",
     "timestamp": 1627311039214,
     "user": {
      "displayName": "DAVID RESTREPO",
      "photoUrl": "https://lh3.googleusercontent.com/a-/AOh14GgqxItBQRJ0dDzIdCZM0BMuA0KeTKTlKRNGMApY=s64",
      "userId": "09638303782015555303"
     },
     "user_tz": 300
    },
    "id": "jyqFcwokwEi-"
   },
   "outputs": [],
   "source": [
    "def yearly_image(year):\n",
    "    \n",
    "    start_date = ee.Date.fromYMD(year, 1, 1) \n",
    "    end_date = start_date.advance(1, \"year\")\n",
    "    \n",
    "    collection = ee.ImageCollection('LANDSAT/LC08/C01/T1') \\\n",
    "        .filterDate(start_date, end_date) \\\n",
    "        .filterBounds(Popayan) \n",
    "    \n",
    "    image =  ee.Algorithms.Landsat.simpleComposite(collection).clipToCollection(Popayan)\n",
    "\n",
    "    return image"
   ]
  },
  {
   "cell_type": "code",
   "execution_count": 79,
   "metadata": {
    "executionInfo": {
     "elapsed": 2,
     "status": "ok",
     "timestamp": 1627311039215,
     "user": {
      "displayName": "DAVID RESTREPO",
      "photoUrl": "https://lh3.googleusercontent.com/a-/AOh14GgqxItBQRJ0dDzIdCZM0BMuA0KeTKTlKRNGMApY=s64",
      "userId": "09638303782015555303"
     },
     "user_tz": 300
    },
    "id": "Fr_O2FY_3uq7"
   },
   "outputs": [],
   "source": [
    "images = years.map(yearly_image)"
   ]
  },
  {
   "cell_type": "code",
   "execution_count": 83,
   "metadata": {
    "executionInfo": {
     "elapsed": 1,
     "status": "ok",
     "timestamp": 1627311039434,
     "user": {
      "displayName": "DAVID RESTREPO",
      "photoUrl": "https://lh3.googleusercontent.com/a-/AOh14GgqxItBQRJ0dDzIdCZM0BMuA0KeTKTlKRNGMApY=s64",
      "userId": "09638303782015555303"
     },
     "user_tz": 300
    },
    "id": "ZKFFvKCC4Lq9"
   },
   "outputs": [],
   "source": [
    "vis_params = {'bands': ['B2',  'B3',  'B4'],\n",
    "             'max': 128}"
   ]
  },
  {
   "cell_type": "code",
   "execution_count": 84,
   "metadata": {
    "colab": {
     "base_uri": "https://localhost:8080/",
     "height": 1000
    },
    "executionInfo": {
     "elapsed": 311371,
     "status": "ok",
     "timestamp": 1627311351038,
     "user": {
      "displayName": "DAVID RESTREPO",
      "photoUrl": "https://lh3.googleusercontent.com/a-/AOh14GgqxItBQRJ0dDzIdCZM0BMuA0KeTKTlKRNGMApY=s64",
      "userId": "09638303782015555303"
     },
     "user_tz": 300
    },
    "id": "BYDX8FYX4Ltp",
    "outputId": "13895ab5-405d-4499-d717-04dd79f71381"
   },
   "outputs": [
    {
     "data": {
      "application/vnd.jupyter.widget-view+json": {
       "model_id": "08d64e1e8c8b4563b9a486203cda7ad5",
       "version_major": 2,
       "version_minor": 0
      },
      "text/plain": [
       "Map(bottom=2068700.0, center=[2.476705214936409, -76.64337627568842], controls=(WidgetControl(options=['positi…"
      ]
     },
     "metadata": {},
     "output_type": "display_data"
    }
   ],
   "source": [
    "for index in range(0, 8):\n",
    "    image = ee.Image(images.get(index))\n",
    "    layer_name = \"Image \" + str(index + 2013)\n",
    "\n",
    "\n",
    "    # Export the image, specifying scale and region.\n",
    "    # https://developers.google.com/earth-engine/guides/reducers_reduce_region\n",
    "    \n",
    "    #geemap.ee_export_image_to_drive(image, description='landsat' + str(index + 2013)+'_geemap', \n",
    "    #                                folder='GEE/Popayan', \n",
    "    #                                region=Popayan.geometry(), \n",
    "    #                                scale=30)\n",
    "\n",
    "    #image_unmask = image.clip(Popayan).unmask()\n",
    "    #geemap.ee_export_image(image_unmask, filename='Images/'+'Landsat_Popayan_' + str(index + 2013) + '.tif', scale=27, region=Popayan.geometry(), file_per_band=False)\n",
    "    #geemap.get_image_thumbnail(image_unmask, 'Images/'+'Landsat_PopayanUnmask_' + str(index + 2013) + '.png', vis_params, dimensions=500, format='png', region=Popayan.geometry())\n",
    "    #geemap.get_image_thumbnail(image_unmask, 'Images/'+'Landsat_PopayanUnmask_' + str(index + 2013) + '.jpg', vis_params, dimensions=500, format='jpg', region=Popayan.geometry())\n",
    "    #geemap.get_image_thumbnail(image, 'Images/'+'Landsat_PopayanUnmask_' + str(index + 2013) + '.png', vis_params, dimensions=500, format='png', region=Popayan.geometry())\n",
    "    \n",
    "    #task = ee.batch.Export.image.toDrive(**{\n",
    "    #    'image': image,\n",
    "    #    'description': 'lANDSAT_Popayan_' + str(index + 2013),\n",
    "    #    'folder':'GEE/Popayan',\n",
    "    #    'scale': 30,\n",
    "    #    'region': Popayan.geometry()\n",
    "    #})\n",
    "    #task.start()\n",
    "    \n",
    "    Map.addLayer(image, vis_params, layer_name)\n",
    "\n",
    "Map.center_object(Popayan, 13)\n",
    "Map"
   ]
  },
  {
   "cell_type": "code",
   "execution_count": 82,
   "metadata": {
    "executionInfo": {
     "elapsed": 11,
     "status": "ok",
     "timestamp": 1627311351039,
     "user": {
      "displayName": "DAVID RESTREPO",
      "photoUrl": "https://lh3.googleusercontent.com/a-/AOh14GgqxItBQRJ0dDzIdCZM0BMuA0KeTKTlKRNGMApY=s64",
      "userId": "09638303782015555303"
     },
     "user_tz": 300
    },
    "id": "_t9jvi5n4mid"
   },
   "outputs": [],
   "source": [
    "# geemap.ee_export_image_collection_to_drive(collection, folder='export', scale=10)"
   ]
  },
  {
   "cell_type": "code",
   "execution_count": 28,
   "metadata": {
    "executionInfo": {
     "elapsed": 3,
     "status": "ok",
     "timestamp": 1627306280106,
     "user": {
      "displayName": "DAVID RESTREPO",
      "photoUrl": "https://lh3.googleusercontent.com/a-/AOh14GgqxItBQRJ0dDzIdCZM0BMuA0KeTKTlKRNGMApY=s64",
      "userId": "09638303782015555303"
     },
     "user_tz": 300
    },
    "id": "ZKWa7baf3utO"
   },
   "outputs": [],
   "source": []
  }
 ],
 "metadata": {
  "colab": {
   "authorship_tag": "ABX9TyNHnK42Jbm/G2FOi5nY5kMS",
   "collapsed_sections": [],
   "name": "GEE_Time_Series_Download_NoClouds.ipynb",
   "provenance": []
  },
  "kernelspec": {
   "display_name": "Python 3",
   "language": "python",
   "name": "python3"
  },
  "language_info": {
   "codemirror_mode": {
    "name": "ipython",
    "version": 3
   },
   "file_extension": ".py",
   "mimetype": "text/x-python",
   "name": "python",
   "nbconvert_exporter": "python",
   "pygments_lexer": "ipython3",
   "version": "3.6.13"
  }
 },
 "nbformat": 4,
 "nbformat_minor": 1
}
