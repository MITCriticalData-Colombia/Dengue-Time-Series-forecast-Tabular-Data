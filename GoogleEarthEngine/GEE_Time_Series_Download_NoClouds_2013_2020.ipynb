{
 "cells": [
  {
   "cell_type": "code",
   "execution_count": 1,
   "metadata": {
    "colab": {
     "base_uri": "https://localhost:8080/"
    },
    "executionInfo": {
     "elapsed": 4233,
     "status": "ok",
     "timestamp": 1627303021058,
     "user": {
      "displayName": "DAVID RESTREPO",
      "photoUrl": "https://lh3.googleusercontent.com/a-/AOh14GgqxItBQRJ0dDzIdCZM0BMuA0KeTKTlKRNGMApY=s64",
      "userId": "09638303782015555303"
     },
     "user_tz": 300
    },
    "id": "fuUk9RXxntGX",
    "outputId": "b9b95016-9ca7-4797-883b-19b9a7345cce"
   },
   "outputs": [
    {
     "name": "stdout",
     "output_type": "stream",
     "text": [
      "Requirement already satisfied: geemap in /usr/local/lib/python3.7/dist-packages (0.8.18)\n",
      "Requirement already satisfied: googledrivedownloader in /usr/local/lib/python3.7/dist-packages (from geemap) (0.4)\n",
      "Requirement already satisfied: ipynb-py-convert in /usr/local/lib/python3.7/dist-packages (from geemap) (0.4.6)\n",
      "Requirement already satisfied: ffmpeg-python in /usr/local/lib/python3.7/dist-packages (from geemap) (0.2.0)\n",
      "Requirement already satisfied: pyshp>=2.1.3 in /usr/local/lib/python3.7/dist-packages (from geemap) (2.1.3)\n",
      "Requirement already satisfied: python-box in /usr/local/lib/python3.7/dist-packages (from geemap) (5.3.0)\n",
      "Requirement already satisfied: matplotlib in /usr/local/lib/python3.7/dist-packages (from geemap) (3.2.2)\n",
      "Requirement already satisfied: pillow in /usr/local/lib/python3.7/dist-packages (from geemap) (7.1.2)\n",
      "Requirement already satisfied: sankee in /usr/local/lib/python3.7/dist-packages (from geemap) (0.0.5)\n",
      "Requirement already satisfied: colour in /usr/local/lib/python3.7/dist-packages (from geemap) (0.1.5)\n",
      "Requirement already satisfied: ipyleaflet>=0.14.0 in /usr/local/lib/python3.7/dist-packages (from geemap) (0.14.0)\n",
      "Requirement already satisfied: pycrs in /usr/local/lib/python3.7/dist-packages (from geemap) (1.0.2)\n",
      "Requirement already satisfied: whiteboxgui in /usr/local/lib/python3.7/dist-packages (from geemap) (0.3.0)\n",
      "Requirement already satisfied: click in /usr/local/lib/python3.7/dist-packages (from geemap) (7.1.2)\n",
      "Requirement already satisfied: geocoder in /usr/local/lib/python3.7/dist-packages (from geemap) (1.38.1)\n",
      "Requirement already satisfied: mss in /usr/local/lib/python3.7/dist-packages (from geemap) (6.1.0)\n",
      "Requirement already satisfied: ipytree in /usr/local/lib/python3.7/dist-packages (from geemap) (0.2.1)\n",
      "Requirement already satisfied: geeadd>=0.5.1 in /usr/local/lib/python3.7/dist-packages (from geemap) (0.5.5)\n",
      "Requirement already satisfied: folium>=0.11.0 in /usr/local/lib/python3.7/dist-packages (from geemap) (0.12.1)\n",
      "Requirement already satisfied: voila in /usr/local/lib/python3.7/dist-packages (from geemap) (0.2.10)\n",
      "Requirement already satisfied: bqplot in /usr/local/lib/python3.7/dist-packages (from geemap) (0.12.30)\n",
      "Requirement already satisfied: ipyfilechooser in /usr/local/lib/python3.7/dist-packages (from geemap) (0.4.4)\n",
      "Requirement already satisfied: geojson in /usr/local/lib/python3.7/dist-packages (from geemap) (2.5.0)\n",
      "Requirement already satisfied: numpy in /usr/local/lib/python3.7/dist-packages (from geemap) (1.19.5)\n",
      "Requirement already satisfied: ipyevents in /usr/local/lib/python3.7/dist-packages (from geemap) (2.0.1)\n",
      "Requirement already satisfied: pandas in /usr/local/lib/python3.7/dist-packages (from geemap) (1.1.5)\n",
      "Requirement already satisfied: earthengine-api>=0.1.230 in /usr/local/lib/python3.7/dist-packages (from geemap) (0.1.272)\n",
      "Requirement already satisfied: future in /usr/local/lib/python3.7/dist-packages (from earthengine-api>=0.1.230->geemap) (0.16.0)\n",
      "Requirement already satisfied: google-auth>=1.4.1 in /usr/local/lib/python3.7/dist-packages (from earthengine-api>=0.1.230->geemap) (1.32.1)\n",
      "Requirement already satisfied: google-auth-httplib2>=0.0.3 in /usr/local/lib/python3.7/dist-packages (from earthengine-api>=0.1.230->geemap) (0.0.4)\n",
      "Requirement already satisfied: six in /usr/local/lib/python3.7/dist-packages (from earthengine-api>=0.1.230->geemap) (1.15.0)\n",
      "Requirement already satisfied: google-cloud-storage in /usr/local/lib/python3.7/dist-packages (from earthengine-api>=0.1.230->geemap) (1.18.1)\n",
      "Requirement already satisfied: google-api-python-client<2,>=1.12.1 in /usr/local/lib/python3.7/dist-packages (from earthengine-api>=0.1.230->geemap) (1.12.8)\n",
      "Requirement already satisfied: httplib2<1dev,>=0.9.2 in /usr/local/lib/python3.7/dist-packages (from earthengine-api>=0.1.230->geemap) (0.17.4)\n",
      "Requirement already satisfied: httplib2shim in /usr/local/lib/python3.7/dist-packages (from earthengine-api>=0.1.230->geemap) (0.0.3)\n",
      "Requirement already satisfied: branca>=0.3.0 in /usr/local/lib/python3.7/dist-packages (from folium>=0.11.0->geemap) (0.4.2)\n",
      "Requirement already satisfied: jinja2>=2.9 in /usr/local/lib/python3.7/dist-packages (from folium>=0.11.0->geemap) (2.11.3)\n",
      "Requirement already satisfied: requests in /usr/local/lib/python3.7/dist-packages (from folium>=0.11.0->geemap) (2.23.0)\n",
      "Requirement already satisfied: beautifulsoup4>=4.9.0 in /usr/local/lib/python3.7/dist-packages (from geeadd>=0.5.1->geemap) (4.9.3)\n",
      "Requirement already satisfied: logzero>=1.5.0 in /usr/local/lib/python3.7/dist-packages (from geeadd>=0.5.1->geemap) (1.7.0)\n",
      "Requirement already satisfied: soupsieve>1.2 in /usr/local/lib/python3.7/dist-packages (from beautifulsoup4>=4.9.0->geeadd>=0.5.1->geemap) (2.2.1)\n",
      "Requirement already satisfied: google-api-core<2dev,>=1.21.0 in /usr/local/lib/python3.7/dist-packages (from google-api-python-client<2,>=1.12.1->earthengine-api>=0.1.230->geemap) (1.26.3)\n",
      "Requirement already satisfied: uritemplate<4dev,>=3.0.0 in /usr/local/lib/python3.7/dist-packages (from google-api-python-client<2,>=1.12.1->earthengine-api>=0.1.230->geemap) (3.0.1)\n",
      "Requirement already satisfied: pytz in /usr/local/lib/python3.7/dist-packages (from google-api-core<2dev,>=1.21.0->google-api-python-client<2,>=1.12.1->earthengine-api>=0.1.230->geemap) (2018.9)\n",
      "Requirement already satisfied: packaging>=14.3 in /usr/local/lib/python3.7/dist-packages (from google-api-core<2dev,>=1.21.0->google-api-python-client<2,>=1.12.1->earthengine-api>=0.1.230->geemap) (21.0)\n",
      "Requirement already satisfied: protobuf>=3.12.0 in /usr/local/lib/python3.7/dist-packages (from google-api-core<2dev,>=1.21.0->google-api-python-client<2,>=1.12.1->earthengine-api>=0.1.230->geemap) (3.17.3)\n",
      "Requirement already satisfied: googleapis-common-protos<2.0dev,>=1.6.0 in /usr/local/lib/python3.7/dist-packages (from google-api-core<2dev,>=1.21.0->google-api-python-client<2,>=1.12.1->earthengine-api>=0.1.230->geemap) (1.53.0)\n",
      "Requirement already satisfied: setuptools>=40.3.0 in /usr/local/lib/python3.7/dist-packages (from google-api-core<2dev,>=1.21.0->google-api-python-client<2,>=1.12.1->earthengine-api>=0.1.230->geemap) (57.2.0)\n",
      "Requirement already satisfied: cachetools<5.0,>=2.0.0 in /usr/local/lib/python3.7/dist-packages (from google-auth>=1.4.1->earthengine-api>=0.1.230->geemap) (4.2.2)\n",
      "Requirement already satisfied: pyasn1-modules>=0.2.1 in /usr/local/lib/python3.7/dist-packages (from google-auth>=1.4.1->earthengine-api>=0.1.230->geemap) (0.2.8)\n",
      "Requirement already satisfied: rsa<5,>=3.1.4 in /usr/local/lib/python3.7/dist-packages (from google-auth>=1.4.1->earthengine-api>=0.1.230->geemap) (4.7.2)\n",
      "Requirement already satisfied: traittypes<3,>=0.2.1 in /usr/local/lib/python3.7/dist-packages (from ipyleaflet>=0.14.0->geemap) (0.2.1)\n",
      "Requirement already satisfied: ipywidgets<8,>=7.6.0 in /usr/local/lib/python3.7/dist-packages (from ipyleaflet>=0.14.0->geemap) (7.6.3)\n",
      "Requirement already satisfied: nbformat>=4.2.0 in /usr/local/lib/python3.7/dist-packages (from ipywidgets<8,>=7.6.0->ipyleaflet>=0.14.0->geemap) (5.1.3)\n",
      "Requirement already satisfied: jupyterlab-widgets>=1.0.0 in /usr/local/lib/python3.7/dist-packages (from ipywidgets<8,>=7.6.0->ipyleaflet>=0.14.0->geemap) (1.0.0)\n",
      "Requirement already satisfied: ipykernel>=4.5.1 in /usr/local/lib/python3.7/dist-packages (from ipywidgets<8,>=7.6.0->ipyleaflet>=0.14.0->geemap) (4.10.1)\n",
      "Requirement already satisfied: ipython>=4.0.0 in /usr/local/lib/python3.7/dist-packages (from ipywidgets<8,>=7.6.0->ipyleaflet>=0.14.0->geemap) (5.5.0)\n",
      "Requirement already satisfied: traitlets>=4.3.1 in /usr/local/lib/python3.7/dist-packages (from ipywidgets<8,>=7.6.0->ipyleaflet>=0.14.0->geemap) (5.0.5)\n",
      "Requirement already satisfied: widgetsnbextension~=3.5.0 in /usr/local/lib/python3.7/dist-packages (from ipywidgets<8,>=7.6.0->ipyleaflet>=0.14.0->geemap) (3.5.1)\n",
      "Requirement already satisfied: tornado>=4.0 in /usr/local/lib/python3.7/dist-packages (from ipykernel>=4.5.1->ipywidgets<8,>=7.6.0->ipyleaflet>=0.14.0->geemap) (6.1)\n",
      "Requirement already satisfied: jupyter-client in /usr/local/lib/python3.7/dist-packages (from ipykernel>=4.5.1->ipywidgets<8,>=7.6.0->ipyleaflet>=0.14.0->geemap) (6.1.12)\n",
      "Requirement already satisfied: prompt-toolkit<2.0.0,>=1.0.4 in /usr/local/lib/python3.7/dist-packages (from ipython>=4.0.0->ipywidgets<8,>=7.6.0->ipyleaflet>=0.14.0->geemap) (1.0.18)\n",
      "Requirement already satisfied: pexpect in /usr/local/lib/python3.7/dist-packages (from ipython>=4.0.0->ipywidgets<8,>=7.6.0->ipyleaflet>=0.14.0->geemap) (4.8.0)\n",
      "Requirement already satisfied: pygments in /usr/local/lib/python3.7/dist-packages (from ipython>=4.0.0->ipywidgets<8,>=7.6.0->ipyleaflet>=0.14.0->geemap) (2.6.1)\n",
      "Requirement already satisfied: pickleshare in /usr/local/lib/python3.7/dist-packages (from ipython>=4.0.0->ipywidgets<8,>=7.6.0->ipyleaflet>=0.14.0->geemap) (0.7.5)\n",
      "Requirement already satisfied: simplegeneric>0.8 in /usr/local/lib/python3.7/dist-packages (from ipython>=4.0.0->ipywidgets<8,>=7.6.0->ipyleaflet>=0.14.0->geemap) (0.8.1)\n",
      "Requirement already satisfied: decorator in /usr/local/lib/python3.7/dist-packages (from ipython>=4.0.0->ipywidgets<8,>=7.6.0->ipyleaflet>=0.14.0->geemap) (4.4.2)\n",
      "Requirement already satisfied: MarkupSafe>=0.23 in /usr/local/lib/python3.7/dist-packages (from jinja2>=2.9->folium>=0.11.0->geemap) (2.0.1)\n",
      "Requirement already satisfied: jsonschema!=2.5.0,>=2.4 in /usr/local/lib/python3.7/dist-packages (from nbformat>=4.2.0->ipywidgets<8,>=7.6.0->ipyleaflet>=0.14.0->geemap) (2.6.0)\n",
      "Requirement already satisfied: ipython-genutils in /usr/local/lib/python3.7/dist-packages (from nbformat>=4.2.0->ipywidgets<8,>=7.6.0->ipyleaflet>=0.14.0->geemap) (0.2.0)\n",
      "Requirement already satisfied: jupyter-core in /usr/local/lib/python3.7/dist-packages (from nbformat>=4.2.0->ipywidgets<8,>=7.6.0->ipyleaflet>=0.14.0->geemap) (4.7.1)\n",
      "Requirement already satisfied: pyparsing>=2.0.2 in /usr/local/lib/python3.7/dist-packages (from packaging>=14.3->google-api-core<2dev,>=1.21.0->google-api-python-client<2,>=1.12.1->earthengine-api>=0.1.230->geemap) (2.4.7)\n",
      "Requirement already satisfied: wcwidth in /usr/local/lib/python3.7/dist-packages (from prompt-toolkit<2.0.0,>=1.0.4->ipython>=4.0.0->ipywidgets<8,>=7.6.0->ipyleaflet>=0.14.0->geemap) (0.2.5)\n",
      "Requirement already satisfied: pyasn1<0.5.0,>=0.4.6 in /usr/local/lib/python3.7/dist-packages (from pyasn1-modules>=0.2.1->google-auth>=1.4.1->earthengine-api>=0.1.230->geemap) (0.4.8)\n",
      "Requirement already satisfied: certifi>=2017.4.17 in /usr/local/lib/python3.7/dist-packages (from requests->folium>=0.11.0->geemap) (2021.5.30)\n",
      "Requirement already satisfied: idna<3,>=2.5 in /usr/local/lib/python3.7/dist-packages (from requests->folium>=0.11.0->geemap) (2.10)\n",
      "Requirement already satisfied: urllib3!=1.25.0,!=1.25.1,<1.26,>=1.21.1 in /usr/local/lib/python3.7/dist-packages (from requests->folium>=0.11.0->geemap) (1.24.3)\n",
      "Requirement already satisfied: chardet<4,>=3.0.2 in /usr/local/lib/python3.7/dist-packages (from requests->folium>=0.11.0->geemap) (3.0.4)\n",
      "Requirement already satisfied: notebook>=4.4.1 in /usr/local/lib/python3.7/dist-packages (from widgetsnbextension~=3.5.0->ipywidgets<8,>=7.6.0->ipyleaflet>=0.14.0->geemap) (5.3.1)\n",
      "Requirement already satisfied: terminado>=0.8.1 in /usr/local/lib/python3.7/dist-packages (from notebook>=4.4.1->widgetsnbextension~=3.5.0->ipywidgets<8,>=7.6.0->ipyleaflet>=0.14.0->geemap) (0.10.1)\n",
      "Requirement already satisfied: nbconvert in /usr/local/lib/python3.7/dist-packages (from notebook>=4.4.1->widgetsnbextension~=3.5.0->ipywidgets<8,>=7.6.0->ipyleaflet>=0.14.0->geemap) (6.1.0)\n",
      "Requirement already satisfied: Send2Trash in /usr/local/lib/python3.7/dist-packages (from notebook>=4.4.1->widgetsnbextension~=3.5.0->ipywidgets<8,>=7.6.0->ipyleaflet>=0.14.0->geemap) (1.7.1)\n",
      "Requirement already satisfied: python-dateutil>=2.1 in /usr/local/lib/python3.7/dist-packages (from jupyter-client->ipykernel>=4.5.1->ipywidgets<8,>=7.6.0->ipyleaflet>=0.14.0->geemap) (2.8.1)\n",
      "Requirement already satisfied: pyzmq>=13 in /usr/local/lib/python3.7/dist-packages (from jupyter-client->ipykernel>=4.5.1->ipywidgets<8,>=7.6.0->ipyleaflet>=0.14.0->geemap) (22.1.0)\n",
      "Requirement already satisfied: ptyprocess in /usr/local/lib/python3.7/dist-packages (from terminado>=0.8.1->notebook>=4.4.1->widgetsnbextension~=3.5.0->ipywidgets<8,>=7.6.0->ipyleaflet>=0.14.0->geemap) (0.7.0)\n",
      "Requirement already satisfied: ratelim in /usr/local/lib/python3.7/dist-packages (from geocoder->geemap) (0.1.6)\n",
      "Requirement already satisfied: google-resumable-media<0.5.0dev,>=0.3.1 in /usr/local/lib/python3.7/dist-packages (from google-cloud-storage->earthengine-api>=0.1.230->geemap) (0.4.1)\n",
      "Requirement already satisfied: google-cloud-core<2.0dev,>=1.0.0 in /usr/local/lib/python3.7/dist-packages (from google-cloud-storage->earthengine-api>=0.1.230->geemap) (1.0.3)\n",
      "Requirement already satisfied: cycler>=0.10 in /usr/local/lib/python3.7/dist-packages (from matplotlib->geemap) (0.10.0)\n",
      "Requirement already satisfied: kiwisolver>=1.0.1 in /usr/local/lib/python3.7/dist-packages (from matplotlib->geemap) (1.3.1)\n",
      "Requirement already satisfied: defusedxml in /usr/local/lib/python3.7/dist-packages (from nbconvert->notebook>=4.4.1->widgetsnbextension~=3.5.0->ipywidgets<8,>=7.6.0->ipyleaflet>=0.14.0->geemap) (0.7.1)\n",
      "Requirement already satisfied: bleach in /usr/local/lib/python3.7/dist-packages (from nbconvert->notebook>=4.4.1->widgetsnbextension~=3.5.0->ipywidgets<8,>=7.6.0->ipyleaflet>=0.14.0->geemap) (3.3.0)\n",
      "Requirement already satisfied: jupyterlab-pygments in /usr/local/lib/python3.7/dist-packages (from nbconvert->notebook>=4.4.1->widgetsnbextension~=3.5.0->ipywidgets<8,>=7.6.0->ipyleaflet>=0.14.0->geemap) (0.1.2)\n",
      "Requirement already satisfied: testpath in /usr/local/lib/python3.7/dist-packages (from nbconvert->notebook>=4.4.1->widgetsnbextension~=3.5.0->ipywidgets<8,>=7.6.0->ipyleaflet>=0.14.0->geemap) (0.5.0)\n",
      "Requirement already satisfied: nbclient<0.6.0,>=0.5.0 in /usr/local/lib/python3.7/dist-packages (from nbconvert->notebook>=4.4.1->widgetsnbextension~=3.5.0->ipywidgets<8,>=7.6.0->ipyleaflet>=0.14.0->geemap) (0.5.3)\n",
      "Requirement already satisfied: pandocfilters>=1.4.1 in /usr/local/lib/python3.7/dist-packages (from nbconvert->notebook>=4.4.1->widgetsnbextension~=3.5.0->ipywidgets<8,>=7.6.0->ipyleaflet>=0.14.0->geemap) (1.4.3)\n",
      "Requirement already satisfied: mistune<2,>=0.8.1 in /usr/local/lib/python3.7/dist-packages (from nbconvert->notebook>=4.4.1->widgetsnbextension~=3.5.0->ipywidgets<8,>=7.6.0->ipyleaflet>=0.14.0->geemap) (0.8.4)\n",
      "Requirement already satisfied: entrypoints>=0.2.2 in /usr/local/lib/python3.7/dist-packages (from nbconvert->notebook>=4.4.1->widgetsnbextension~=3.5.0->ipywidgets<8,>=7.6.0->ipyleaflet>=0.14.0->geemap) (0.3)\n",
      "Requirement already satisfied: nest-asyncio in /usr/local/lib/python3.7/dist-packages (from nbclient<0.6.0,>=0.5.0->nbconvert->notebook>=4.4.1->widgetsnbextension~=3.5.0->ipywidgets<8,>=7.6.0->ipyleaflet>=0.14.0->geemap) (1.5.1)\n",
      "Requirement already satisfied: async-generator in /usr/local/lib/python3.7/dist-packages (from nbclient<0.6.0,>=0.5.0->nbconvert->notebook>=4.4.1->widgetsnbextension~=3.5.0->ipywidgets<8,>=7.6.0->ipyleaflet>=0.14.0->geemap) (1.10)\n",
      "Requirement already satisfied: webencodings in /usr/local/lib/python3.7/dist-packages (from bleach->nbconvert->notebook>=4.4.1->widgetsnbextension~=3.5.0->ipywidgets<8,>=7.6.0->ipyleaflet>=0.14.0->geemap) (0.5.1)\n",
      "Requirement already satisfied: plotly in /usr/local/lib/python3.7/dist-packages (from sankee->geemap) (4.4.1)\n",
      "Requirement already satisfied: retrying>=1.3.3 in /usr/local/lib/python3.7/dist-packages (from plotly->sankee->geemap) (1.3.3)\n",
      "Requirement already satisfied: jupyter-server<2.0.0,>=0.3.0 in /usr/local/lib/python3.7/dist-packages (from voila->geemap) (1.10.1)\n",
      "Requirement already satisfied: websocket-client in /usr/local/lib/python3.7/dist-packages (from jupyter-server<2.0.0,>=0.3.0->voila->geemap) (1.1.0)\n",
      "Requirement already satisfied: prometheus-client in /usr/local/lib/python3.7/dist-packages (from jupyter-server<2.0.0,>=0.3.0->voila->geemap) (0.11.0)\n",
      "Requirement already satisfied: requests-unixsocket in /usr/local/lib/python3.7/dist-packages (from jupyter-server<2.0.0,>=0.3.0->voila->geemap) (0.2.0)\n",
      "Requirement already satisfied: anyio<4,>=3.1.0 in /usr/local/lib/python3.7/dist-packages (from jupyter-server<2.0.0,>=0.3.0->voila->geemap) (3.3.0)\n",
      "Requirement already satisfied: argon2-cffi in /usr/local/lib/python3.7/dist-packages (from jupyter-server<2.0.0,>=0.3.0->voila->geemap) (20.1.0)\n",
      "Requirement already satisfied: typing-extensions in /usr/local/lib/python3.7/dist-packages (from anyio<4,>=3.1.0->jupyter-server<2.0.0,>=0.3.0->voila->geemap) (3.7.4.3)\n",
      "Requirement already satisfied: sniffio>=1.1 in /usr/local/lib/python3.7/dist-packages (from anyio<4,>=3.1.0->jupyter-server<2.0.0,>=0.3.0->voila->geemap) (1.2.0)\n",
      "Requirement already satisfied: cffi>=1.0.0 in /usr/local/lib/python3.7/dist-packages (from argon2-cffi->jupyter-server<2.0.0,>=0.3.0->voila->geemap) (1.14.6)\n",
      "Requirement already satisfied: pycparser in /usr/local/lib/python3.7/dist-packages (from cffi>=1.0.0->argon2-cffi->jupyter-server<2.0.0,>=0.3.0->voila->geemap) (2.20)\n",
      "Requirement already satisfied: whitebox in /usr/local/lib/python3.7/dist-packages (from whiteboxgui->geemap) (1.5.1)\n"
     ]
    }
   ],
   "source": [
    "#! pip install geemap"
   ]
  },
  {
   "cell_type": "code",
   "execution_count": 1,
   "metadata": {
    "executionInfo": {
     "elapsed": 173,
     "status": "ok",
     "timestamp": 1627310048383,
     "user": {
      "displayName": "DAVID RESTREPO",
      "photoUrl": "https://lh3.googleusercontent.com/a-/AOh14GgqxItBQRJ0dDzIdCZM0BMuA0KeTKTlKRNGMApY=s64",
      "userId": "09638303782015555303"
     },
     "user_tz": 300
    },
    "id": "VgXTtnhenVnl"
   },
   "outputs": [],
   "source": [
    "import ee\n",
    "import geemap"
   ]
  },
  {
   "cell_type": "code",
   "execution_count": 2,
   "metadata": {
    "colab": {
     "base_uri": "https://localhost:8080/"
    },
    "executionInfo": {
     "elapsed": 178,
     "status": "ok",
     "timestamp": 1627310049958,
     "user": {
      "displayName": "DAVID RESTREPO",
      "photoUrl": "https://lh3.googleusercontent.com/a-/AOh14GgqxItBQRJ0dDzIdCZM0BMuA0KeTKTlKRNGMApY=s64",
      "userId": "09638303782015555303"
     },
     "user_tz": 300
    },
    "id": "vLzwZPDEz7BQ",
    "outputId": "fa6c4374-4f32-4757-ac98-205d0a7eb78f"
   },
   "outputs": [
    {
     "data": {
      "text/plain": [
       "\"\\n#connect with drive\\nfrom google.colab import drive\\ndrive.mount('/content/drive')\\n\""
      ]
     },
     "execution_count": 2,
     "metadata": {},
     "output_type": "execute_result"
    }
   ],
   "source": [
    "# If you are working with a shape file stored in google drive remove the quotes (\"\"\" \"\"\")\n",
    "\n",
    "\"\"\"\n",
    "#connect with drive\n",
    "from google.colab import drive\n",
    "drive.mount('/content/drive')\n",
    "\"\"\""
   ]
  },
  {
   "cell_type": "code",
   "execution_count": 3,
   "metadata": {
    "colab": {
     "base_uri": "https://localhost:8080/"
    },
    "executionInfo": {
     "elapsed": 14246,
     "status": "ok",
     "timestamp": 1627310064886,
     "user": {
      "displayName": "DAVID RESTREPO",
      "photoUrl": "https://lh3.googleusercontent.com/a-/AOh14GgqxItBQRJ0dDzIdCZM0BMuA0KeTKTlKRNGMApY=s64",
      "userId": "09638303782015555303"
     },
     "user_tz": 300
    },
    "id": "rk_wa2QD0A9R",
    "outputId": "dd5481bc-ff4f-445e-9c41-29244c912f74"
   },
   "outputs": [
    {
     "data": {
      "text/html": [
       "<p>To authorize access needed by Earth Engine, open the following\n",
       "        URL in a web browser and follow the instructions:</p>\n",
       "        <p><a href=https://accounts.google.com/o/oauth2/auth?client_id=517222506229-vsmmajv00ul0bs7p89v5m89qs8eb9359.apps.googleusercontent.com&scope=https%3A%2F%2Fwww.googleapis.com%2Fauth%2Fearthengine+https%3A%2F%2Fwww.googleapis.com%2Fauth%2Fdevstorage.full_control&redirect_uri=urn%3Aietf%3Awg%3Aoauth%3A2.0%3Aoob&response_type=code&code_challenge=uVin6MPuiV5GVQXEzeAO3j4lBV9TpyJA5CRQjcjIlfo&code_challenge_method=S256>https://accounts.google.com/o/oauth2/auth?client_id=517222506229-vsmmajv00ul0bs7p89v5m89qs8eb9359.apps.googleusercontent.com&scope=https%3A%2F%2Fwww.googleapis.com%2Fauth%2Fearthengine+https%3A%2F%2Fwww.googleapis.com%2Fauth%2Fdevstorage.full_control&redirect_uri=urn%3Aietf%3Awg%3Aoauth%3A2.0%3Aoob&response_type=code&code_challenge=uVin6MPuiV5GVQXEzeAO3j4lBV9TpyJA5CRQjcjIlfo&code_challenge_method=S256</a></p>\n",
       "        <p>The authorization workflow will generate a code, which you\n",
       "        should paste in the box below</p>\n",
       "        "
      ],
      "text/plain": [
       "<IPython.core.display.HTML object>"
      ]
     },
     "metadata": {},
     "output_type": "display_data"
    },
    {
     "name": "stdout",
     "output_type": "stream",
     "text": [
      "Enter verification code: 4/1AX4XfWj_o9Tz6KhKTWPcrMdhCOhuVovdmaFgbFe56WZ1h4NOwlOoovs4CuY\n",
      "\n",
      "Successfully saved authorization token.\n"
     ]
    }
   ],
   "source": [
    "# Trigger the authentication flow.\n",
    "ee.Authenticate()\n",
    "\n",
    "# Initialize the library.\n",
    "ee.Initialize()"
   ]
  },
  {
   "cell_type": "code",
   "execution_count": 4,
   "metadata": {
    "executionInfo": {
     "elapsed": 162,
     "status": "ok",
     "timestamp": 1627311038641,
     "user": {
      "displayName": "DAVID RESTREPO",
      "photoUrl": "https://lh3.googleusercontent.com/a-/AOh14GgqxItBQRJ0dDzIdCZM0BMuA0KeTKTlKRNGMApY=s64",
      "userId": "09638303782015555303"
     },
     "user_tz": 300
    },
    "id": "6AznUyAgnqG7"
   },
   "outputs": [],
   "source": [
    "Map = geemap.Map()\n",
    "#Map"
   ]
  },
  {
   "cell_type": "code",
   "execution_count": 5,
   "metadata": {
    "executionInfo": {
     "elapsed": 174,
     "status": "ok",
     "timestamp": 1627311039054,
     "user": {
      "displayName": "DAVID RESTREPO",
      "photoUrl": "https://lh3.googleusercontent.com/a-/AOh14GgqxItBQRJ0dDzIdCZM0BMuA0KeTKTlKRNGMApY=s64",
      "userId": "09638303782015555303"
     },
     "user_tz": 300
    },
    "id": "BC_WBkMdvPKh"
   },
   "outputs": [],
   "source": [
    "# https://sites.google.com/site/seriescol/shapes\n",
    "shape = ee.FeatureCollection('users/dsrestrepo/mpio')\n",
    "\n",
    "# Cauca = shape.filter(ee.Filter.eq('DPTO_CCDGO', 19))\n",
    "# region = shape.filter(ee.Filter.eq('MPIO_CCNCT\t', 19001))\n",
    "# Medellin = ee.FeatureCollection('users/dsrestrepo/Medellin')\n",
    "\n",
    "region = shape.filter(ee.Filter.eq('MPIOS', '05001'))\n",
    "\n",
    "Map.addLayer(region, {}, \"Region\")"
   ]
  },
  {
   "cell_type": "code",
   "execution_count": 6,
   "metadata": {
    "colab": {
     "base_uri": "https://localhost:8080/"
    },
    "executionInfo": {
     "elapsed": 3,
     "status": "ok",
     "timestamp": 1627311039055,
     "user": {
      "displayName": "DAVID RESTREPO",
      "photoUrl": "https://lh3.googleusercontent.com/a-/AOh14GgqxItBQRJ0dDzIdCZM0BMuA0KeTKTlKRNGMApY=s64",
      "userId": "09638303782015555303"
     },
     "user_tz": 300
    },
    "id": "HHQrGXRnv-6D",
    "outputId": "1cc2f8f3-e030-4ee8-f4fc-af6e7a87261f"
   },
   "outputs": [
    {
     "data": {
      "text/plain": [
       "[2013, 2014, 2015, 2016, 2017, 2018, 2019, 2020]"
      ]
     },
     "execution_count": 6,
     "metadata": {},
     "output_type": "execute_result"
    }
   ],
   "source": [
    "# Define the range of years\n",
    "initial_year = 2013\n",
    "end_year = 2020\n",
    "years = ee.List.sequence(initial_year, end_year)\n",
    "# Define the range of months:\n",
    "months = ee.List.sequence(1,12)\n",
    "years.getInfo()\n",
    "#months.getInfo()"
   ]
  },
  {
   "cell_type": "markdown",
   "metadata": {},
   "source": [
    "# Get number of images each month"
   ]
  },
  {
   "cell_type": "code",
   "execution_count": 7,
   "metadata": {},
   "outputs": [],
   "source": [
    "def images_per_month(year, month):\n",
    "    \n",
    "    start_date = ee.Date.fromYMD(year, month, 1)\n",
    "    end_date = start_date.advance(1, \"month\")\n",
    "    # https://developers.google.com/earth-engine/datasets/catalog/landsat-8\n",
    "    #collection = ee.ImageCollection('LANDSAT/LC08/C01/T1_SR') \\\n",
    "    collection = ee.ImageCollection('LANDSAT/LC08/C01/T1') \\\n",
    "        .filterDate(start_date, end_date) \\\n",
    "        .filterBounds(region)\n",
    "    print(f'the images in month {month} of year {year} are {collection.size().getInfo()}')\n",
    "    # Take month and year of month with 0 images\n",
    "    if collection.size().getInfo() == 0:\n",
    "        print('is zero')\n",
    "        return year, month"
   ]
  },
  {
   "cell_type": "code",
   "execution_count": 8,
   "metadata": {},
   "outputs": [
    {
     "name": "stdout",
     "output_type": "stream",
     "text": [
      "the images in month 1 of year 2013 are 0\n",
      "is zero\n",
      "the images in month 2 of year 2013 are 0\n",
      "is zero\n",
      "the images in month 3 of year 2013 are 0\n",
      "is zero\n",
      "the images in month 4 of year 2013 are 2\n",
      "the images in month 5 of year 2013 are 2\n",
      "the images in month 6 of year 2013 are 3\n",
      "the images in month 7 of year 2013 are 1\n",
      "the images in month 8 of year 2013 are 4\n",
      "the images in month 9 of year 2013 are 4\n",
      "the images in month 10 of year 2013 are 4\n",
      "the images in month 11 of year 2013 are 1\n",
      "the images in month 12 of year 2013 are 2\n",
      "the images in month 1 of year 2014 are 4\n",
      "the images in month 2 of year 2014 are 3\n",
      "the images in month 3 of year 2014 are 3\n",
      "the images in month 4 of year 2014 are 2\n",
      "the images in month 5 of year 2014 are 2\n",
      "the images in month 6 of year 2014 are 4\n",
      "the images in month 7 of year 2014 are 2\n",
      "the images in month 8 of year 2014 are 4\n",
      "the images in month 9 of year 2014 are 3\n",
      "the images in month 10 of year 2014 are 4\n",
      "the images in month 11 of year 2014 are 4\n",
      "the images in month 12 of year 2014 are 2\n",
      "the images in month 1 of year 2015 are 4\n",
      "the images in month 2 of year 2015 are 3\n",
      "the images in month 3 of year 2015 are 2\n",
      "the images in month 4 of year 2015 are 1\n",
      "the images in month 5 of year 2015 are 4\n",
      "the images in month 6 of year 2015 are 4\n",
      "the images in month 7 of year 2015 are 4\n",
      "the images in month 8 of year 2015 are 2\n",
      "the images in month 9 of year 2015 are 3\n",
      "the images in month 10 of year 2015 are 1\n",
      "the images in month 11 of year 2015 are 2\n",
      "the images in month 12 of year 2015 are 4\n",
      "the images in month 1 of year 2016 are 4\n",
      "the images in month 2 of year 2016 are 1\n",
      "the images in month 3 of year 2016 are 4\n",
      "the images in month 4 of year 2016 are 3\n",
      "the images in month 5 of year 2016 are 4\n",
      "the images in month 6 of year 2016 are 3\n",
      "the images in month 7 of year 2016 are 3\n",
      "the images in month 8 of year 2016 are 2\n",
      "the images in month 9 of year 2016 are 3\n",
      "the images in month 10 of year 2016 are 2\n",
      "the images in month 11 of year 2016 are 3\n",
      "the images in month 12 of year 2016 are 3\n",
      "the images in month 1 of year 2017 are 2\n",
      "the images in month 2 of year 2017 are 3\n",
      "the images in month 3 of year 2017 are 3\n",
      "the images in month 4 of year 2017 are 4\n",
      "the images in month 5 of year 2017 are 3\n",
      "the images in month 6 of year 2017 are 2\n",
      "the images in month 7 of year 2017 are 2\n",
      "the images in month 8 of year 2017 are 4\n",
      "the images in month 9 of year 2017 are 3\n",
      "the images in month 10 of year 2017 are 4\n",
      "the images in month 11 of year 2017 are 2\n",
      "the images in month 12 of year 2017 are 3\n",
      "the images in month 1 of year 2018 are 4\n",
      "the images in month 2 of year 2018 are 2\n",
      "the images in month 3 of year 2018 are 2\n",
      "the images in month 4 of year 2018 are 4\n",
      "the images in month 5 of year 2018 are 4\n",
      "the images in month 6 of year 2018 are 2\n",
      "the images in month 7 of year 2018 are 2\n",
      "the images in month 8 of year 2018 are 2\n",
      "the images in month 9 of year 2018 are 0\n",
      "is zero\n",
      "the images in month 10 of year 2018 are 3\n",
      "the images in month 11 of year 2018 are 2\n",
      "the images in month 12 of year 2018 are 1\n",
      "the images in month 1 of year 2019 are 2\n",
      "the images in month 2 of year 2019 are 2\n",
      "the images in month 3 of year 2019 are 2\n",
      "the images in month 4 of year 2019 are 4\n",
      "the images in month 5 of year 2019 are 2\n",
      "the images in month 6 of year 2019 are 2\n",
      "the images in month 7 of year 2019 are 3\n",
      "the images in month 8 of year 2019 are 2\n",
      "the images in month 9 of year 2019 are 1\n",
      "the images in month 10 of year 2019 are 3\n",
      "the images in month 11 of year 2019 are 3\n",
      "the images in month 12 of year 2019 are 2\n",
      "the images in month 1 of year 2020 are 2\n",
      "the images in month 2 of year 2020 are 2\n",
      "the images in month 3 of year 2020 are 3\n",
      "the images in month 4 of year 2020 are 4\n",
      "the images in month 5 of year 2020 are 2\n",
      "the images in month 6 of year 2020 are 2\n",
      "the images in month 7 of year 2020 are 4\n",
      "the images in month 8 of year 2020 are 2\n",
      "the images in month 9 of year 2020 are 4\n",
      "the images in month 10 of year 2020 are 4\n",
      "the images in month 11 of year 2020 are 1\n",
      "the images in month 12 of year 2020 are 4\n"
     ]
    }
   ],
   "source": [
    "months_0_images = []\n",
    "# See images by month\n",
    "for year in years.getInfo():\n",
    "    for month in months.getInfo():\n",
    "        months_0_images.append(images_per_month(year, month))\n",
    "months_0_images = list(filter(None, months_0_images))"
   ]
  },
  {
   "cell_type": "code",
   "execution_count": 9,
   "metadata": {},
   "outputs": [
    {
     "data": {
      "text/plain": [
       "[(2013, 1), (2013, 2), (2013, 3), (2018, 9)]"
      ]
     },
     "execution_count": 9,
     "metadata": {},
     "output_type": "execute_result"
    }
   ],
   "source": [
    "months_0_images"
   ]
  },
  {
   "cell_type": "markdown",
   "metadata": {},
   "source": [
    "# Create one image per month with as few clouds as possible"
   ]
  },
  {
   "cell_type": "code",
   "execution_count": 10,
   "metadata": {},
   "outputs": [],
   "source": [
    "def monthly_image(year, month):\n",
    "    \n",
    "    # Define Start Date\n",
    "    start_date = ee.Date.fromYMD(year, month, 1)\n",
    "   \n",
    "    # If no images in that month (2018 / 9)\n",
    "    if ((year, month) in months_0_images):\n",
    "        print('in')\n",
    "        # Take more days before month starts\n",
    "        end_date = start_date.advance(45, \"days\")\n",
    "        #end_date = start_date.advance(70, \"days\")\n",
    "        # Take more days after month ends\n",
    "        start_date = start_date.advance(-15, \"days\")\n",
    "        #start_date = start_date.advance(-40, \"days\")\n",
    "    else:\n",
    "        # ends one month after\n",
    "        end_date = start_date.advance(1, \"month\")\n",
    "    \n",
    "    # Get the images for the month in the region\n",
    "    collection = ee.ImageCollection('LANDSAT/LC08/C01/T1') \\\n",
    "        .filterDate(start_date, end_date) \\\n",
    "        .filterBounds(region)\n",
    "    \n",
    "    # https://developers.google.com/earth-engine/apidocs/ee-algorithms-landsat-simplecomposite\n",
    "    image =  ee.Algorithms.Landsat.simpleComposite(collection,\n",
    "                                                   percentile=20,\n",
    "                                                   cloudScoreRange=5,\n",
    "                                                   asFloat=True).clipToCollection(region)\n",
    "    \n",
    "    return image"
   ]
  },
  {
   "cell_type": "markdown",
   "metadata": {},
   "source": [
    "# Increase image resolution (30m / pixel -> 15m / pixel)"
   ]
  },
  {
   "cell_type": "code",
   "execution_count": 11,
   "metadata": {},
   "outputs": [],
   "source": [
    "# Pan sharpening Image\n",
    "# https://www.usgs.gov/faqs/what-are-band-designations-landsat-satellites?qt-news_science_products=0#qt-news_science_products\n",
    "# B8: Panchromatic (15 m) resolution\n",
    "def pan_sharpening_image(image):\n",
    "    # Convert the RGB bands to the HSV color space.\n",
    "    hsv = image.select(['B4', 'B3', 'B2']).rgbToHsv()\n",
    "    sharpened = ee.Image.cat([hsv.select('hue'),\n",
    "                             hsv.select('saturation'),\n",
    "                             image.select('B8')]).hsvToRgb()\n",
    "    \n",
    "    return sharpened"
   ]
  },
  {
   "cell_type": "markdown",
   "metadata": {},
   "source": [
    "# Get image dimensions"
   ]
  },
  {
   "cell_type": "code",
   "execution_count": 12,
   "metadata": {},
   "outputs": [],
   "source": [
    "# Take a random image of dataset\n",
    "test_year = 2014\n",
    "test_month = 9\n",
    "image = ee.Image(monthly_image(test_year, test_month))\n",
    "# Increese image resolution 15 m/pixel\n",
    "sharpened = pan_sharpening_image(image)"
   ]
  },
  {
   "cell_type": "code",
   "execution_count": 13,
   "metadata": {},
   "outputs": [
    {
     "name": "stdout",
     "output_type": "stream",
     "text": [
      "the dimensions of the image will be height: 1560 and width: 2112\n"
     ]
    }
   ],
   "source": [
    "import numpy as np\n",
    "# Mask image\n",
    "image = sharpened.clip(region).unmask()\n",
    "\n",
    "#https://gis.stackexchange.com/questions/350771/earth-engine-simplest-way-to-move-from-ee-image-to-array-for-use-in-sklearn/351177#351177\n",
    "# Reproject image from 15m/px -> 120m/px due to the maximum number of bits allowed in the array.\n",
    "# We select just one band a reference (red)\n",
    "image = image.reproject(crs = image.select('red').projection(), scale= 120)\n",
    "# Sample image as rectangle\n",
    "band_arrs = image.sampleRectangle(region=region.geometry(), defaultValue= 0.0)\n",
    "# take red band from array\n",
    "band_arr_red = band_arrs.get('red')\n",
    "# Array to numpy\n",
    "np_arr_red = np.array(band_arr_red.getInfo())\n",
    "# Shape of image will be aprox:\n",
    "height = (8 * np_arr_red.shape[0]) - 8\n",
    "width = (8 * np_arr_red.shape[1]) - 8\n",
    "print(f'the dimensions of the image will be height: {height} and width: {width}')"
   ]
  },
  {
   "cell_type": "markdown",
   "metadata": {},
   "source": [
    "# Download RGB Image"
   ]
  },
  {
   "cell_type": "code",
   "execution_count": 14,
   "metadata": {
    "executionInfo": {
     "elapsed": 1,
     "status": "ok",
     "timestamp": 1627311039434,
     "user": {
      "displayName": "DAVID RESTREPO",
      "photoUrl": "https://lh3.googleusercontent.com/a-/AOh14GgqxItBQRJ0dDzIdCZM0BMuA0KeTKTlKRNGMApY=s64",
      "userId": "09638303782015555303"
     },
     "user_tz": 300
    },
    "id": "ZKFFvKCC4Lq9"
   },
   "outputs": [],
   "source": [
    "# https://www.usgs.gov/faqs/what-are-band-designations-landsat-satellites?qt-news_science_products=0#qt-news_science_products\n",
    "# B4: Red, B3: Green, B2: Blue\n",
    "vis_params = {'bands': ['B4',  'B3',  'B2'],\n",
    "              'max': 0.25,}\n",
    "vis_params_sarped = {'bands': ['red', 'green', 'blue'],\n",
    "                     'max': 0.25,}"
   ]
  },
  {
   "cell_type": "code",
   "execution_count": 78,
   "metadata": {
    "colab": {
     "base_uri": "https://localhost:8080/",
     "height": 1000
    },
    "executionInfo": {
     "elapsed": 311371,
     "status": "ok",
     "timestamp": 1627311351038,
     "user": {
      "displayName": "DAVID RESTREPO",
      "photoUrl": "https://lh3.googleusercontent.com/a-/AOh14GgqxItBQRJ0dDzIdCZM0BMuA0KeTKTlKRNGMApY=s64",
      "userId": "09638303782015555303"
     },
     "user_tz": 300
    },
    "id": "BYDX8FYX4Ltp",
    "outputId": "13895ab5-405d-4499-d717-04dd79f71381"
   },
   "outputs": [
    {
     "name": "stdout",
     "output_type": "stream",
     "text": [
      "in\n"
     ]
    }
   ],
   "source": [
    "from functools import partial\n",
    "\n",
    "# Landsat Launch: 11 February 2013\n",
    "# Data from April 2013\n",
    "months_2013 = ee.List.sequence(4,12)\n",
    "\n",
    "# For each year\n",
    "for year in years.getInfo():\n",
    "    \n",
    "    # Create a new empty list of images\n",
    "    images = ee.List([])\n",
    "    if (year < 2013 or year > 2020):\n",
    "        print('No images for that date')\n",
    "        break\n",
    "    # 2013 Starts late\n",
    "    if year == 2013:\n",
    "        # Bound monthly_image function with the year\n",
    "        bound_monthly_image = partial(monthly_image, year)\n",
    "        # Apply function to each month\n",
    "        for month in months_2013.getInfo():\n",
    "            # Get a single image each month\n",
    "            images = images.add(bound_monthly_image(month))     \n",
    "    else:\n",
    "        # Bound monthly_image function with the year\n",
    "        bound_monthly_image = partial(monthly_image, year)\n",
    "        # Apply function to each month\n",
    "        for month in months.getInfo():\n",
    "            images = images.add(bound_monthly_image(month))   \n",
    "            \n",
    "    for index in range(0, 12):\n",
    "        # Ignore the last 3 index from 2013 because data starts in april\n",
    "        if (year == 2013 and index > 8):\n",
    "            continue\n",
    "        \n",
    "        # Take form ee list the image\n",
    "        image = ee.Image(images.get(index))\n",
    "        \n",
    "        # Name\n",
    "        layer_name = \"Image \" + str(year) + \"_\" + str(index + 1)\n",
    "        # 2013 starts in april\n",
    "        if (year == 2013):\n",
    "            layer_name = \"Image \" + str(year) + \"_\" + str(index + 4)\n",
    "        \n",
    "        \n",
    "        # Pan Sharpening\n",
    "        sharpened = pan_sharpening_image(image)\n",
    "        \n",
    "        # Download:\n",
    "        ## To PC\n",
    "        image_unmask = image.clip(region).unmask()\n",
    "        geemap.get_image_thumbnail(image_unmask, 'Images/'+ layer_name + '.png', vis_params, dimensions=(width ,height), format='png', region=region.geometry())\n",
    "        \n",
    "        sharpened_unmask = sharpened.clip(region).unmask()\n",
    "        geemap.get_image_thumbnail(sharpened_unmask, 'Images/'+ layer_name + '_sharpend_' + '.png', vis_params_sarped, dimensions=(width ,height), format='png', region=region.geometry())\n",
    "        \n",
    "        ## To Drive\n",
    "        # Export the image, specifying scale and region.\n",
    "        # https://developers.google.com/earth-engine/guides/reducers_reduce_region\n",
    "        #geemap.ee_export_image_to_drive(sharpened, description= layer_name + '_sharpend', \n",
    "        #                                folder='GEE/Medellin', \n",
    "        #                                region=region.geometry(), \n",
    "        #                                scale=15)\n",
    "                \n",
    "        task = ee.batch.Export.image.toDrive(**{\n",
    "            'image': sharpened,\n",
    "            'description': layer_name + '_sharpend',\n",
    "            'folder':'GEE/Medellin',\n",
    "            'scale': 15,\n",
    "            'region': region.geometry()\n",
    "        })\n",
    "        task.start()\n"
   ]
  },
  {
   "cell_type": "code",
   "execution_count": 81,
   "metadata": {},
   "outputs": [
    {
     "data": {
      "text/plain": [
       "{'state': 'READY',\n",
       " 'description': 'Image 2020_12_sharpend',\n",
       " 'creation_timestamp_ms': 1628137333803,\n",
       " 'update_timestamp_ms': 1628137333803,\n",
       " 'start_timestamp_ms': 0,\n",
       " 'task_type': 'EXPORT_IMAGE',\n",
       " 'id': 'N5HPTIIXKTZXB66V6UVRBK4N',\n",
       " 'name': 'projects/earthengine-legacy/operations/N5HPTIIXKTZXB66V6UVRBK4N'}"
      ]
     },
     "execution_count": 81,
     "metadata": {},
     "output_type": "execute_result"
    }
   ],
   "source": [
    "task.status()"
   ]
  },
  {
   "cell_type": "markdown",
   "metadata": {},
   "source": [
    "# See an example of the images"
   ]
  },
  {
   "cell_type": "code",
   "execution_count": 15,
   "metadata": {
    "executionInfo": {
     "elapsed": 11,
     "status": "ok",
     "timestamp": 1627311351039,
     "user": {
      "displayName": "DAVID RESTREPO",
      "photoUrl": "https://lh3.googleusercontent.com/a-/AOh14GgqxItBQRJ0dDzIdCZM0BMuA0KeTKTlKRNGMApY=s64",
      "userId": "09638303782015555303"
     },
     "user_tz": 300
    },
    "id": "_t9jvi5n4mid"
   },
   "outputs": [
    {
     "data": {
      "application/vnd.jupyter.widget-view+json": {
       "model_id": "ccbbe40a3b5e4e51a11321293c89763c",
       "version_major": 2,
       "version_minor": 0
      },
      "text/plain": [
       "Map(center=[6.26500567846621, -75.63644335353737], controls=(WidgetControl(options=['position', 'transparent_b…"
      ]
     },
     "metadata": {},
     "output_type": "display_data"
    }
   ],
   "source": [
    "from functools import partial\n",
    "\n",
    "# For the example just use some months of 2013\n",
    "initial_year = 2013\n",
    "end_year = 2013\n",
    "years = ee.List.sequence(initial_year, end_year)\n",
    "\n",
    "\n",
    "months_2013 = ee.List.sequence(4,12)\n",
    "\n",
    "# For each year\n",
    "for year in years.getInfo():\n",
    "    \n",
    "    # Create a new empty list of images\n",
    "    images = ee.List([])\n",
    "    if (year < 2013 or year > 2020):\n",
    "        print('No images for that date')\n",
    "        break\n",
    "    # 2013 Starts late\n",
    "    if year == 2013:\n",
    "        # Bound monthly_image function with the year\n",
    "        bound_monthly_image = partial(monthly_image, year)\n",
    "        # Apply function to each month\n",
    "        for month in months_2013.getInfo():\n",
    "            # Get a single image each month\n",
    "            images = images.add(bound_monthly_image(month))     \n",
    "    else:\n",
    "        # Bound monthly_image function with the year\n",
    "        bound_monthly_image = partial(monthly_image, year)\n",
    "        # Apply function to each month\n",
    "        for month in months.getInfo():\n",
    "            images = images.add(bound_monthly_image(month))   \n",
    "            \n",
    "    for index in range(0, 12):\n",
    "        # Ignore the last 3 index from 2013 because data starts in april\n",
    "        if (year == 2013 and index > 8):\n",
    "            continue\n",
    "        \n",
    "        # Take form ee list the image\n",
    "        image = ee.Image(images.get(index))\n",
    "        \n",
    "        # Name\n",
    "        layer_name = \"Image \" + str(year) + \"_\" + str(index + 1)\n",
    "        # 2013 starts in april\n",
    "        if (year == 2013):\n",
    "            layer_name = \"Image \" + str(year) + \"_\" + str(index + 4)\n",
    "        \n",
    "        \n",
    "        # Pan Sharpening\n",
    "        sharpened = pan_sharpening_image(image)\n",
    "        \n",
    "        sharpened_unmask = sharpened.clip(region).unmask()\n",
    "\n",
    "        \n",
    "        Map.addLayer(image, vis_params, layer_name)\n",
    "        Map.addLayer(sharpened, vis_params_sarped, layer_name + \" sharpened\")\n",
    "        \n",
    "\n",
    "Map.center_object(region, 13)\n",
    "Map"
   ]
  },
  {
   "cell_type": "code",
   "execution_count": null,
   "metadata": {},
   "outputs": [],
   "source": []
  },
  {
   "cell_type": "code",
   "execution_count": null,
   "metadata": {},
   "outputs": [],
   "source": []
  }
 ],
 "metadata": {
  "colab": {
   "authorship_tag": "ABX9TyNHnK42Jbm/G2FOi5nY5kMS",
   "collapsed_sections": [],
   "name": "GEE_Time_Series_Download_NoClouds.ipynb",
   "provenance": []
  },
  "kernelspec": {
   "display_name": "Python 3",
   "language": "python",
   "name": "python3"
  },
  "language_info": {
   "codemirror_mode": {
    "name": "ipython",
    "version": 3
   },
   "file_extension": ".py",
   "mimetype": "text/x-python",
   "name": "python",
   "nbconvert_exporter": "python",
   "pygments_lexer": "ipython3",
   "version": "3.6.13"
  }
 },
 "nbformat": 4,
 "nbformat_minor": 1
}
